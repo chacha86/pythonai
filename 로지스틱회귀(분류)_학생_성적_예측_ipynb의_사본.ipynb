{
  "nbformat": 4,
  "nbformat_minor": 0,
  "metadata": {
    "colab": {
      "provenance": [],
      "authorship_tag": "ABX9TyO9w/1SAF/JziKf+ab8WaEe",
      "include_colab_link": true
    },
    "kernelspec": {
      "name": "python3",
      "display_name": "Python 3"
    },
    "language_info": {
      "name": "python"
    }
  },
  "cells": [
    {
      "cell_type": "markdown",
      "metadata": {
        "id": "view-in-github",
        "colab_type": "text"
      },
      "source": [
        "<a href=\"https://colab.research.google.com/github/chacha86/pythonai/blob/main/%EB%A1%9C%EC%A7%80%EC%8A%A4%ED%8B%B1%ED%9A%8C%EA%B7%80(%EB%B6%84%EB%A5%98)_%ED%95%99%EC%83%9D_%EC%84%B1%EC%A0%81_%EC%98%88%EC%B8%A1_ipynb%EC%9D%98_%EC%82%AC%EB%B3%B8.ipynb\" target=\"_parent\"><img src=\"https://colab.research.google.com/assets/colab-badge.svg\" alt=\"Open In Colab\"/></a>"
      ]
    },
    {
      "cell_type": "code",
      "execution_count": 1,
      "metadata": {
        "id": "WolW1uWLxrGU",
        "colab": {
          "base_uri": "https://localhost:8080/"
        },
        "outputId": "d3cf1d06-b1a5-410a-ea99-5bac8ac0ca0a"
      },
      "outputs": [
        {
          "output_type": "stream",
          "name": "stdout",
          "text": [
            "Downloading xAPI-Edu-Data.zip to /content\n",
            "\r  0% 0.00/5.54k [00:00<?, ?B/s]\n",
            "\r100% 5.54k/5.54k [00:00<00:00, 13.5MB/s]\n",
            "Archive:  xAPI-Edu-Data.zip\n",
            "  inflating: xAPI-Edu-Data.csv       \n"
          ]
        }
      ],
      "source": [
        "import os\n",
        "os.environ['KAGGLE_USERNAME'] = 'chasaem'\n",
        "os.environ['KAGGLE_KEY'] = '9377adb1b8939383bd9310e320bb4e33'\n",
        "\n",
        "!kaggle datasets download -d aljarah/xAPI-Edu-Data\n",
        "!unzip '*.zip'"
      ]
    },
    {
      "cell_type": "code",
      "source": [
        "import pandas as pd\n",
        "import numpy as np\n",
        "import matplotlib.pyplot as plt\n",
        "import seaborn as sns\n",
        "\n",
        "\n",
        "# gender : 성별(M: 남, F: 여)\n",
        "# Nationality : 국적\n",
        "# PlaceofBirth : 출생국가\n",
        "# StageID : 학교(초, 중, 고)\n",
        "# GradeID : 성적 등급\n",
        "# SectionID : 반 이름\n",
        "# Topic: 수강 과목\n",
        "# Semester : 수강한 학기 (1학기/ 2학기)\n",
        "# Relation : 주 보호자와 학생의 관계\n",
        "# raisedhands : 수업중 손을 든 횟수\n",
        "# VisitedResources: 학생이 교과 과정을 방문한 횟수\n",
        "# AnnouncementsView: 학생이 과목 공지사항을 방문한 횟수\n",
        "# Discussion : 학생이 토론에 참여한 횟수\n",
        "# ParentAnsweringSurvey : 부모가 학교 설문에 참여했는지 여부\n",
        "# ParentschoolSatisfaction : 부모가 학교에 만족했는지 여부\n",
        "# StudentAbscenceDays : 학생의 결석 횟수(7회 이상/미만)\n",
        "# Class : 학생의 성적 등급 (L: 낮음, M: 보통, H: 높음)\n"
      ],
      "metadata": {
        "id": "aNCzY4kLyIAk"
      },
      "execution_count": 3,
      "outputs": []
    },
    {
      "cell_type": "code",
      "source": [
        "# 1. 판다스로 데이터 읽어오기\n",
        "edu = pd.read_csv('/content/xAPI-Edu-Data.csv')\n",
        "\n"
      ],
      "metadata": {
        "id": "5EFc-jV_T9QG"
      },
      "execution_count": 40,
      "outputs": []
    },
    {
      "cell_type": "code",
      "source": [
        "\n",
        "# 2. 데이터의 개수, 데이터 타입, 결측치 확인\n",
        "edu.info()\n",
        "\n"
      ],
      "metadata": {
        "id": "haI8__MqUChZ",
        "colab": {
          "base_uri": "https://localhost:8080/"
        },
        "outputId": "b6035c2a-5609-4bcb-ec90-27f65dbbb55a"
      },
      "execution_count": 10,
      "outputs": [
        {
          "output_type": "stream",
          "name": "stdout",
          "text": [
            "<class 'pandas.core.frame.DataFrame'>\n",
            "RangeIndex: 480 entries, 0 to 479\n",
            "Data columns (total 17 columns):\n",
            " #   Column                    Non-Null Count  Dtype \n",
            "---  ------                    --------------  ----- \n",
            " 0   gender                    480 non-null    object\n",
            " 1   NationalITy               480 non-null    object\n",
            " 2   PlaceofBirth              480 non-null    object\n",
            " 3   StageID                   480 non-null    object\n",
            " 4   GradeID                   480 non-null    object\n",
            " 5   SectionID                 480 non-null    object\n",
            " 6   Topic                     480 non-null    object\n",
            " 7   Semester                  480 non-null    object\n",
            " 8   Relation                  480 non-null    object\n",
            " 9   raisedhands               480 non-null    int64 \n",
            " 10  VisITedResources          480 non-null    int64 \n",
            " 11  AnnouncementsView         480 non-null    int64 \n",
            " 12  Discussion                480 non-null    int64 \n",
            " 13  ParentAnsweringSurvey     480 non-null    object\n",
            " 14  ParentschoolSatisfaction  480 non-null    object\n",
            " 15  StudentAbsenceDays        480 non-null    object\n",
            " 16  Class                     480 non-null    object\n",
            "dtypes: int64(4), object(13)\n",
            "memory usage: 63.9+ KB\n"
          ]
        }
      ]
    },
    {
      "cell_type": "code",
      "source": [
        "edu.describe()\n"
      ],
      "metadata": {
        "id": "J9HsN-Bsvlct"
      },
      "execution_count": null,
      "outputs": []
    },
    {
      "cell_type": "code",
      "source": [
        "edu.head()"
      ],
      "metadata": {
        "id": "-lcdNZNNvsFP"
      },
      "execution_count": null,
      "outputs": []
    },
    {
      "cell_type": "code",
      "source": [
        "edu.columns"
      ],
      "metadata": {
        "colab": {
          "base_uri": "https://localhost:8080/"
        },
        "id": "gl_vhZilwXfR",
        "outputId": "47a84bf8-3a83-4c28-db1a-1d31d10b436b"
      },
      "execution_count": 11,
      "outputs": [
        {
          "output_type": "execute_result",
          "data": {
            "text/plain": [
              "Index(['gender', 'NationalITy', 'PlaceofBirth', 'StageID', 'GradeID',\n",
              "       'SectionID', 'Topic', 'Semester', 'Relation', 'raisedhands',\n",
              "       'VisITedResources', 'AnnouncementsView', 'Discussion',\n",
              "       'ParentAnsweringSurvey', 'ParentschoolSatisfaction',\n",
              "       'StudentAbsenceDays', 'Class'],\n",
              "      dtype='object')"
            ]
          },
          "metadata": {},
          "execution_count": 11
        }
      ]
    },
    {
      "cell_type": "code",
      "source": [
        "# 3. 시각화를 이용한 탐색적 분석\n",
        "#  - 수치형 데이터의 탐색적 분석\n",
        "#    - 히스토그램을 이용해 각 수치데이터의 데이터 분포 및 상관관계 확인\n",
        "#    - 상관계수 확인\n",
        "#  - 범주형 데이터의 탐색적 분석  - 다음을 bar플롯을 이용해 그려주세요.\n",
        "#    - 남녀의 성적 비율\n",
        "#    - 국적에 따른 성적 비율\n",
        "#    - 과목에 따른 성적 비율\n",
        "#    - 부모의 설문 참여에 따른 성적 비율\n",
        "\n",
        "#sns.histplot(data=edu, x='raisedhands', hue='Class')\n",
        "#sns.barplot(data=edu, x='Class', y='raisedhands', errorbar=None, order=['L', 'M', 'H'])\n",
        "\n",
        "## 수치 데이터 파악\n",
        "# sns.histplot(data=edu, x='raisedhands', hue='Class', kde=True) 1\n",
        "# sns.histplot(data=edu, x='VisITedResources', hue='Class', kde=True) 2\n",
        "# sns.histplot(data=edu, x='AnnouncementsView', hue='Class', kde=True) 3\n",
        "# sns.histplot(data=edu, x='Discussion', hue='Class', kde=True) 4\n",
        "\n",
        "## 범주 데이터 파악\n",
        "\n",
        "#edu['NationalITy'].value_counts()\n",
        "#edu['PlaceofBirth'].value_counts()\n",
        "\n",
        "#edu['NationalITy'] = edu['NationalITy'].replace({'KW' : 'KuwaIT'})\n",
        "\n",
        "## 성별과 성적 관계\n",
        "# sns.countplot(data=edu, x='gender', hue='Class')\n",
        "\n",
        "## 국적과 성적 관계\n",
        "sns.countplot(data=edu, x='NationalITy', hue='Class')\n",
        "plt.xticks(rotation=90)\n",
        "plt.show()\n",
        "\n",
        "## "
      ],
      "metadata": {
        "id": "f8bJaHq0UDtQ"
      },
      "execution_count": null,
      "outputs": []
    },
    {
      "cell_type": "code",
      "source": [
        "sns.countplot(data=edu, x='StudentAbsenceDays', hue='Class')\n",
        "\n",
        "## 학생의 성적에 결정적 영향을 미치는 건 내가 봤을 때, 손을 든 횟수와, 교과 과정을 방문, 출석"
      ],
      "metadata": {
        "id": "uAymkZSR302b"
      },
      "execution_count": null,
      "outputs": []
    },
    {
      "cell_type": "code",
      "source": [
        "\n",
        "# 4. 데이터 전처리하기\n",
        "edu2 = edu.drop(['PlaceofBirth', 'NationalITy', 'StageID', 'GradeID','SectionID', 'Class'], axis=1)\n",
        "#len(edu['Topic'].unique())\n",
        "#edu2.info()\n",
        "\n",
        "edu_cate = edu2.select_dtypes('object')\n",
        "edu_num = edu2.select_dtypes('int64')\n",
        "edu_target = edu['Class']\n",
        "\n",
        "# 인코딩\n",
        "edu_cate_1hot = pd.get_dummies(edu_cate)\n",
        "edu_final = pd.concat([edu_num, edu_cate_1hot], axis=1)\n",
        "\n"
      ],
      "metadata": {
        "id": "CE76za71UFX2"
      },
      "execution_count": 92,
      "outputs": []
    },
    {
      "cell_type": "code",
      "source": [
        "\n",
        "# 5. 학습용 데이터와 테스트용 데이터로 나누기\n",
        "from sklearn.model_selection import train_test_split\n",
        "\n",
        "trd, tsd, trt, tst = train_test_split(edu_final, edu_target, train_size=0.8, stratify=edu_target, random_state=42)\n"
      ],
      "metadata": {
        "id": "YClitSHfUGMS"
      },
      "execution_count": 93,
      "outputs": []
    },
    {
      "cell_type": "code",
      "source": [
        "\n",
        "# 6. 로지스틱 회귀를 이용해 학습하고 평가하기\n",
        "from sklearn.linear_model import LogisticRegression\n",
        "\n",
        "lr = LogisticRegression(max_iter=10000)\n",
        "\n",
        "lr.C = 0.1\n",
        "\n",
        "lr.fit(trd, trt)\n",
        "lr.score(trd, trt), lr.score(tsd, tst)\n"
      ],
      "metadata": {
        "id": "TKptzGmjUGkY",
        "colab": {
          "base_uri": "https://localhost:8080/"
        },
        "outputId": "03712501-5fdf-460b-8c92-37cd186ff6a9"
      },
      "execution_count": 138,
      "outputs": [
        {
          "output_type": "execute_result",
          "data": {
            "text/plain": [
              "(0.8072916666666666, 0.6979166666666666)"
            ]
          },
          "metadata": {},
          "execution_count": 138
        }
      ]
    },
    {
      "cell_type": "code",
      "source": [
        "# 교차 검증\n",
        "from sklearn.model_selection import GridSearchCV\n",
        "param_grid = {\n",
        "    'C' : [0.01, 0.1, 1, 10]\n",
        "}\n",
        "gs = GridSearchCV(estimator=lr, param_grid=param_grid , cv=5)\n"
      ],
      "metadata": {
        "id": "cedaUiGSBvu7"
      },
      "execution_count": 139,
      "outputs": []
    },
    {
      "cell_type": "code",
      "source": [
        "gs.fit(trd, trt)"
      ],
      "metadata": {
        "colab": {
          "base_uri": "https://localhost:8080/",
          "height": 116
        },
        "id": "A8iZvCfPCR7k",
        "outputId": "4dfcd3ad-ec7c-42f3-a4a0-4c941f809166"
      },
      "execution_count": 140,
      "outputs": [
        {
          "output_type": "execute_result",
          "data": {
            "text/plain": [
              "GridSearchCV(cv=5, estimator=LogisticRegression(C=0.1, max_iter=10000),\n",
              "             param_grid={'C': [0.01, 0.1, 1, 10]})"
            ],
            "text/html": [
              "<style>#sk-container-id-1 {color: black;background-color: white;}#sk-container-id-1 pre{padding: 0;}#sk-container-id-1 div.sk-toggleable {background-color: white;}#sk-container-id-1 label.sk-toggleable__label {cursor: pointer;display: block;width: 100%;margin-bottom: 0;padding: 0.3em;box-sizing: border-box;text-align: center;}#sk-container-id-1 label.sk-toggleable__label-arrow:before {content: \"▸\";float: left;margin-right: 0.25em;color: #696969;}#sk-container-id-1 label.sk-toggleable__label-arrow:hover:before {color: black;}#sk-container-id-1 div.sk-estimator:hover label.sk-toggleable__label-arrow:before {color: black;}#sk-container-id-1 div.sk-toggleable__content {max-height: 0;max-width: 0;overflow: hidden;text-align: left;background-color: #f0f8ff;}#sk-container-id-1 div.sk-toggleable__content pre {margin: 0.2em;color: black;border-radius: 0.25em;background-color: #f0f8ff;}#sk-container-id-1 input.sk-toggleable__control:checked~div.sk-toggleable__content {max-height: 200px;max-width: 100%;overflow: auto;}#sk-container-id-1 input.sk-toggleable__control:checked~label.sk-toggleable__label-arrow:before {content: \"▾\";}#sk-container-id-1 div.sk-estimator input.sk-toggleable__control:checked~label.sk-toggleable__label {background-color: #d4ebff;}#sk-container-id-1 div.sk-label input.sk-toggleable__control:checked~label.sk-toggleable__label {background-color: #d4ebff;}#sk-container-id-1 input.sk-hidden--visually {border: 0;clip: rect(1px 1px 1px 1px);clip: rect(1px, 1px, 1px, 1px);height: 1px;margin: -1px;overflow: hidden;padding: 0;position: absolute;width: 1px;}#sk-container-id-1 div.sk-estimator {font-family: monospace;background-color: #f0f8ff;border: 1px dotted black;border-radius: 0.25em;box-sizing: border-box;margin-bottom: 0.5em;}#sk-container-id-1 div.sk-estimator:hover {background-color: #d4ebff;}#sk-container-id-1 div.sk-parallel-item::after {content: \"\";width: 100%;border-bottom: 1px solid gray;flex-grow: 1;}#sk-container-id-1 div.sk-label:hover label.sk-toggleable__label {background-color: #d4ebff;}#sk-container-id-1 div.sk-serial::before {content: \"\";position: absolute;border-left: 1px solid gray;box-sizing: border-box;top: 0;bottom: 0;left: 50%;z-index: 0;}#sk-container-id-1 div.sk-serial {display: flex;flex-direction: column;align-items: center;background-color: white;padding-right: 0.2em;padding-left: 0.2em;position: relative;}#sk-container-id-1 div.sk-item {position: relative;z-index: 1;}#sk-container-id-1 div.sk-parallel {display: flex;align-items: stretch;justify-content: center;background-color: white;position: relative;}#sk-container-id-1 div.sk-item::before, #sk-container-id-1 div.sk-parallel-item::before {content: \"\";position: absolute;border-left: 1px solid gray;box-sizing: border-box;top: 0;bottom: 0;left: 50%;z-index: -1;}#sk-container-id-1 div.sk-parallel-item {display: flex;flex-direction: column;z-index: 1;position: relative;background-color: white;}#sk-container-id-1 div.sk-parallel-item:first-child::after {align-self: flex-end;width: 50%;}#sk-container-id-1 div.sk-parallel-item:last-child::after {align-self: flex-start;width: 50%;}#sk-container-id-1 div.sk-parallel-item:only-child::after {width: 0;}#sk-container-id-1 div.sk-dashed-wrapped {border: 1px dashed gray;margin: 0 0.4em 0.5em 0.4em;box-sizing: border-box;padding-bottom: 0.4em;background-color: white;}#sk-container-id-1 div.sk-label label {font-family: monospace;font-weight: bold;display: inline-block;line-height: 1.2em;}#sk-container-id-1 div.sk-label-container {text-align: center;}#sk-container-id-1 div.sk-container {/* jupyter's `normalize.less` sets `[hidden] { display: none; }` but bootstrap.min.css set `[hidden] { display: none !important; }` so we also need the `!important` here to be able to override the default hidden behavior on the sphinx rendered scikit-learn.org. See: https://github.com/scikit-learn/scikit-learn/issues/21755 */display: inline-block !important;position: relative;}#sk-container-id-1 div.sk-text-repr-fallback {display: none;}</style><div id=\"sk-container-id-1\" class=\"sk-top-container\"><div class=\"sk-text-repr-fallback\"><pre>GridSearchCV(cv=5, estimator=LogisticRegression(C=0.1, max_iter=10000),\n",
              "             param_grid={&#x27;C&#x27;: [0.01, 0.1, 1, 10]})</pre><b>In a Jupyter environment, please rerun this cell to show the HTML representation or trust the notebook. <br />On GitHub, the HTML representation is unable to render, please try loading this page with nbviewer.org.</b></div><div class=\"sk-container\" hidden><div class=\"sk-item sk-dashed-wrapped\"><div class=\"sk-label-container\"><div class=\"sk-label sk-toggleable\"><input class=\"sk-toggleable__control sk-hidden--visually\" id=\"sk-estimator-id-1\" type=\"checkbox\" ><label for=\"sk-estimator-id-1\" class=\"sk-toggleable__label sk-toggleable__label-arrow\">GridSearchCV</label><div class=\"sk-toggleable__content\"><pre>GridSearchCV(cv=5, estimator=LogisticRegression(C=0.1, max_iter=10000),\n",
              "             param_grid={&#x27;C&#x27;: [0.01, 0.1, 1, 10]})</pre></div></div></div><div class=\"sk-parallel\"><div class=\"sk-parallel-item\"><div class=\"sk-item\"><div class=\"sk-label-container\"><div class=\"sk-label sk-toggleable\"><input class=\"sk-toggleable__control sk-hidden--visually\" id=\"sk-estimator-id-2\" type=\"checkbox\" ><label for=\"sk-estimator-id-2\" class=\"sk-toggleable__label sk-toggleable__label-arrow\">estimator: LogisticRegression</label><div class=\"sk-toggleable__content\"><pre>LogisticRegression(C=0.1, max_iter=10000)</pre></div></div></div><div class=\"sk-serial\"><div class=\"sk-item\"><div class=\"sk-estimator sk-toggleable\"><input class=\"sk-toggleable__control sk-hidden--visually\" id=\"sk-estimator-id-3\" type=\"checkbox\" ><label for=\"sk-estimator-id-3\" class=\"sk-toggleable__label sk-toggleable__label-arrow\">LogisticRegression</label><div class=\"sk-toggleable__content\"><pre>LogisticRegression(C=0.1, max_iter=10000)</pre></div></div></div></div></div></div></div></div></div></div>"
            ]
          },
          "metadata": {},
          "execution_count": 140
        }
      ]
    },
    {
      "cell_type": "code",
      "source": [
        "gs.best_params_\n",
        "best_lr = gs.best_estimator_\n",
        "best_lr.score(trd, trt), best_lr.score(tsd, tst)"
      ],
      "metadata": {
        "colab": {
          "base_uri": "https://localhost:8080/"
        },
        "id": "NHCaELHDCUcZ",
        "outputId": "13d2b453-dcfa-44f6-ebbd-f1fe923f579e"
      },
      "execution_count": 144,
      "outputs": [
        {
          "output_type": "execute_result",
          "data": {
            "text/plain": [
              "(0.8203125, 0.6979166666666666)"
            ]
          },
          "metadata": {},
          "execution_count": 144
        }
      ]
    },
    {
      "cell_type": "code",
      "source": [
        "from sklearn.metrics import classification_report\n",
        "\n",
        "print(classification_report(trt, lr.predict(trd)))\n",
        "print(classification_report(trt, best_lr.predict(trd)))"
      ],
      "metadata": {
        "id": "X3sn-zVQAyEo"
      },
      "execution_count": null,
      "outputs": []
    },
    {
      "cell_type": "code",
      "source": [
        "# 7. 높은 성적(H)를 받는 데 영향을 미치는 요인 top3는 무엇인가요?\n",
        "edu_rst = pd.DataFrame(lr.coef_, columns=trd.columns, index = lr.classes_)\n",
        "\n",
        "edu_rst.loc['H']\n",
        "\n",
        "sns.barplot(x=trd.columns, y=edu_rst.loc['H'])\n",
        "plt.xticks(rotation = 90)\n",
        "plt.show()\n",
        "\n",
        "\n",
        "\n"
      ],
      "metadata": {
        "id": "8ku8-fLyUOpH"
      },
      "execution_count": null,
      "outputs": []
    }
  ]
}