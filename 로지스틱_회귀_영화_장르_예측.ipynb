{
  "nbformat": 4,
  "nbformat_minor": 0,
  "metadata": {
    "colab": {
      "provenance": [],
      "authorship_tag": "ABX9TyMVt/j3OydlhDZq+c4V+PzF",
      "include_colab_link": true
    },
    "kernelspec": {
      "name": "python3",
      "display_name": "Python 3"
    },
    "language_info": {
      "name": "python"
    }
  },
  "cells": [
    {
      "cell_type": "markdown",
      "metadata": {
        "id": "view-in-github",
        "colab_type": "text"
      },
      "source": [
        "<a href=\"https://colab.research.google.com/github/chacha86/pythonai/blob/main/%EB%A1%9C%EC%A7%80%EC%8A%A4%ED%8B%B1_%ED%9A%8C%EA%B7%80_%EC%98%81%ED%99%94_%EC%9E%A5%EB%A5%B4_%EC%98%88%EC%B8%A1.ipynb\" target=\"_parent\"><img src=\"https://colab.research.google.com/assets/colab-badge.svg\" alt=\"Open In Colab\"/></a>"
      ]
    },
    {
      "cell_type": "code",
      "execution_count": null,
      "metadata": {
        "id": "Tz2LTypEnfDZ"
      },
      "outputs": [],
      "source": [
        "# 영화 장르를 예측하는 로지스틱 회귀 모델을 만들어주세요. "
      ]
    },
    {
      "cell_type": "code",
      "source": [
        "\n",
        "# 1. 탐색적 분석\n",
        "\n",
        "# 2. 필요한 컬럼 선택\n",
        "\n",
        "# 3. 미기입, 오기입 데이터 처리\n",
        "\n",
        "# 4. 결측치 처리\n",
        "\n",
        "# 5. 범주값이 많은 특성은 범주를 줄이기\n",
        "\n",
        "# 6. 데이터 전처리 및 분리\n",
        "\n",
        "# 7. 학습 및 평가\n",
        "\n",
        "# 8. 결과 분석"
      ],
      "metadata": {
        "id": "ttNVfkt6nt1m"
      },
      "execution_count": null,
      "outputs": []
    },
    {
      "cell_type": "code",
      "source": [],
      "metadata": {
        "id": "wGWkXMXQnw2U"
      },
      "execution_count": null,
      "outputs": []
    }
  ]
}