{
  "nbformat": 4,
  "nbformat_minor": 0,
  "metadata": {
    "colab": {
      "provenance": [],
      "authorship_tag": "ABX9TyOdd+XwnpcFqCQlmlL2yJ6S",
      "include_colab_link": true
    },
    "kernelspec": {
      "name": "python3",
      "display_name": "Python 3"
    },
    "language_info": {
      "name": "python"
    }
  },
  "cells": [
    {
      "cell_type": "markdown",
      "metadata": {
        "id": "view-in-github",
        "colab_type": "text"
      },
      "source": [
        "<a href=\"https://colab.research.google.com/github/chacha86/pythonai/blob/main/%EB%A8%B8%EC%8B%A0%EB%9F%AC%EB%8B%9D1.ipynb\" target=\"_parent\"><img src=\"https://colab.research.google.com/assets/colab-badge.svg\" alt=\"Open In Colab\"/></a>"
      ]
    },
    {
      "cell_type": "code",
      "execution_count": null,
      "metadata": {
        "id": "BKGbMdISgyLj"
      },
      "outputs": [],
      "source": [
        "# 머신러닝 > 기계학습 > 데이터의 패턴을 바탕으로 새로운 데이터 추측\n",
        "# 지도학습 -> 답을 알려주는 것\n",
        "# 비지도학습 -> 답을 알려주지 않는 것\n"
      ]
    },
    {
      "cell_type": "code",
      "source": [
        "# 지도학습 \n",
        "## 학생이 공부하는 것과 비슷\n",
        "## 학습 데이터 -> 교과서, 문제집\n",
        "## 학습 타겟 데이터 -> 문제 답\n",
        "## 테스트 데이터 -> 모의 고사\n",
        "## 테스트 타겟 데이터 -> 문제 답\n",
        "\n",
        "## 예측 데이터 -> 수능(본고사)\n",
        "\n",
        "## 모의고사 점수를 높이는 것 -> 모델 튜닝\n",
        "## 모의고사 점수 -> 모델 평가\n",
        "\n"
      ],
      "metadata": {
        "id": "inEFe7Kmhg_N"
      },
      "execution_count": null,
      "outputs": []
    },
    {
      "cell_type": "code",
      "source": [
        "# 머신러닝 프로세스"
      ],
      "metadata": {
        "id": "Uk_EUTkqiSwh"
      },
      "execution_count": null,
      "outputs": []
    },
    {
      "cell_type": "code",
      "source": [
        "## 1. 데이터 준비\n",
        "import pandas as pd\n",
        "import numpy as np\n",
        "import matplotlib.pyplot as plt\n",
        "import seaborn as sns\n",
        "df = pd.read_csv('/content/Fish.csv')\n",
        "df"
      ],
      "metadata": {
        "id": "2tNGP4xPkGKt"
      },
      "execution_count": null,
      "outputs": []
    },
    {
      "cell_type": "code",
      "source": [
        "## 2. 탐색적 분석\n",
        "# df.info()\n",
        "# df.describe()\n",
        "\n",
        "df.head()\n",
        "df.tail()\n",
        "\n",
        "# 어종 분포 \n",
        "# sns.countplot(data=df, x='Species')\n",
        "\n",
        "# 어종의 평균 길이\n",
        "#sns.barplot(data=df, x='Species', y='Length1', errorbar=None)\n",
        "\n",
        "# 어종의 평균 무게\n",
        "sns.barplot(data=df, x='Species', y='Weight', errorbar=None)\n",
        "# 어종의 평균 너비\n",
        "# 어종의 평균 높이\n"
      ],
      "metadata": {
        "colab": {
          "base_uri": "https://localhost:8080/",
          "height": 467
        },
        "id": "frzFGbPxl0X8",
        "outputId": "75ab1713-fa81-4dbe-ed57-529ca8b9e416"
      },
      "execution_count": null,
      "outputs": [
        {
          "output_type": "execute_result",
          "data": {
            "text/plain": [
              "<Axes: xlabel='Species', ylabel='Weight'>"
            ]
          },
          "metadata": {},
          "execution_count": 15
        },
        {
          "output_type": "display_data",
          "data": {
            "text/plain": [
              "<Figure size 640x480 with 1 Axes>"
            ],
            "image/png": "[encoded data removed]"
          },
          "metadata": {}
        }
      ]
    },
    {
      "cell_type": "code",
      "source": [
        "\n",
        "## 3. 결측치, 이상치, 불필요한 데이터 등등 -> 데이터 전처리\n",
        "## 4. 상관관계 분석\n",
        "## 5. 특성 처리\n",
        "## 6. 학습데이터와 테스트데이터 분리\n",
        "## 7. 표준화\n",
        "## 8. 학습\n",
        "## 9. 평가\n",
        "## 10. 튜닝\n",
        "## 11. 배포"
      ],
      "metadata": {
        "id": "YeYGaG3Ill3q"
      },
      "execution_count": null,
      "outputs": []
    }
  ]
}