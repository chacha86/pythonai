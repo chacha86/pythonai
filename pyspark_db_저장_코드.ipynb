{
  "nbformat": 4,
  "nbformat_minor": 0,
  "metadata": {
    "colab": {
      "provenance": [],
      "authorship_tag": "ABX9TyMiyWj/Ajq28OQ74wVAtx/T",
      "include_colab_link": true
    },
    "kernelspec": {
      "name": "python3",
      "display_name": "Python 3"
    },
    "language_info": {
      "name": "python"
    }
  },
  "cells": [
    {
      "cell_type": "markdown",
      "metadata": {
        "id": "view-in-github",
        "colab_type": "text"
      },
      "source": [
        "<a href=\"https://colab.research.google.com/github/chacha86/pythonai/blob/main/pyspark_db_%EC%A0%80%EC%9E%A5_%EC%BD%94%EB%93%9C.ipynb\" target=\"_parent\"><img src=\"https://colab.research.google.com/assets/colab-badge.svg\" alt=\"Open In Colab\"/></a>"
      ]
    },
    {
      "cell_type": "code",
      "execution_count": null,
      "metadata": {
        "id": "tQwcdPUH0T9g"
      },
      "outputs": [],
      "source": [
        "%pyspark\n",
        "\n",
        "\n",
        "result.write\n",
        "  .format(\"jdbc\")\n",
        "  .option(\"url\", \"jdbc:mysql://ai-server-01:3306\")\n",
        "  .option(\"dbtable\", \"recommendation\")\n",
        "  .option(\"user\", \"korea\")\n",
        "  .option(\"password\", \"korea1234\")\n",
        "  .save()\n"
      ]
    }
  ]
}