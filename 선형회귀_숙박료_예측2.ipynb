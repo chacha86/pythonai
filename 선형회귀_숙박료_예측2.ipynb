{
  "nbformat": 4,
  "nbformat_minor": 0,
  "metadata": {
    "colab": {
      "provenance": [],
      "authorship_tag": "ABX9TyOAkUkb+LS0pX0KQWSdNbM+",
      "include_colab_link": true
    },
    "kernelspec": {
      "name": "python3",
      "display_name": "Python 3"
    },
    "language_info": {
      "name": "python"
    }
  },
  "cells": [
    {
      "cell_type": "markdown",
      "metadata": {
        "id": "view-in-github",
        "colab_type": "text"
      },
      "source": [
        "<a href=\"https://colab.research.google.com/github/chacha86/pythonai/blob/main/%EC%84%A0%ED%98%95%ED%9A%8C%EA%B7%80_%EC%88%99%EB%B0%95%EB%A3%8C_%EC%98%88%EC%B8%A12.ipynb\" target=\"_parent\"><img src=\"https://colab.research.google.com/assets/colab-badge.svg\" alt=\"Open In Colab\"/></a>"
      ]
    },
    {
      "cell_type": "code",
      "execution_count": 2,
      "metadata": {
        "colab": {
          "base_uri": "https://localhost:8080/"
        },
        "id": "kbn1qazxI6L3",
        "outputId": "5812f347-f180-4569-d3a7-a560abb0104e"
      },
      "outputs": [
        {
          "output_type": "stream",
          "name": "stdout",
          "text": [
            "Downloading new-york-city-airbnb-open-data.zip to /content\n",
            " 82% 2.00M/2.44M [00:00<00:00, 2.66MB/s]\n",
            "100% 2.44M/2.44M [00:00<00:00, 2.72MB/s]\n",
            "Archive:  new-york-city-airbnb-open-data.zip\n",
            "  inflating: AB_NYC_2019.csv         \n",
            "  inflating: New_York_City_.png      \n"
          ]
        }
      ],
      "source": [
        "import os\n",
        "os.environ['KAGGLE_USERNAME'] = 'chasaem'\n",
        "os.environ['KAGGLE_KEY'] = '70c03eb538dfde2fdce9ad73955df8a7'\n",
        "\n",
        "!kaggle datasets download -d dgomonov/new-york-city-airbnb-open-data\n",
        "!unzip '*.zip'\n",
        "     "
      ]
    },
    {
      "cell_type": "code",
      "source": [
        "import pandas as pd\n",
        "import numpy as np\n",
        "import matplotlib.pyplot as plt\n",
        "import seaborn as sns\n",
        "\n",
        "# 데이터 설명\n",
        "# id: 일련번호\n",
        "# name: AirBnB 이름\n",
        "# host_id: 호스트 ID  \n",
        "# host_name: 호스트 성명 \n",
        "# neighbourhood_group: 지구명\n",
        "# neighbourhood : 지역명\n",
        "# latitude: 위도  \n",
        "# longitude: 경도  \n",
        "# room_type: 방 타입  \n",
        "# price: 가격  \n",
        "# minimum_nights: 최소 숙박일수  \n",
        "# number_of_reviews: 리뷰 개수\n",
        "# last_review: 최근 리뷰 일자\n",
        "# reviews_per_month: 월 평균 리뷰 수\n",
        "# calculated_host_listings_count:  호스트에게 대여 가능한 에어비앤비의 총 개수\n",
        "# availability_365: 1년 중 가능한 대여일\n",
        "\n",
        "df = pd.read_csv('/content/AB_NYC_2019.csv')\n",
        "     \n",
        "\n",
        "pd.options.display.float_format = '{:.5f}'.format\n",
        "df.info()\n",
        "df.describe()\n",
        "\n",
        "     \n",
        "\n",
        "# 수치형데이터와 price 상관관계 \n",
        "df.corr()['price']\n",
        "     \n",
        "\n",
        "# 범주형 데이터의 price 상관관계\n",
        "\n",
        "#df.info()\n",
        "df.head()\n",
        "df.columns\n",
        "'''\n",
        "neighbourhood_group, neighbourhood, room_type, last_review\n",
        "'''\n",
        "\n",
        "df['neighbourhood_group'].value_counts() # 5\n",
        "df['neighbourhood'].value_counts() # 221\n",
        "df['room_type'].value_counts() # 3\n",
        "df['last_review'].value_counts() # 1764\n",
        "\n",
        "\n",
        "## 범주와 수치와 관계 => 막대, 박스\n",
        "## 수치와 수치 => 산점도, 선\n",
        "\n",
        "sns.boxplot(data=df, x='neighbourhood_group', y='price')\n",
        "     \n",
        "\n",
        "# 불필요해 보이는 컬럼 삭제 -> id, , host_id, host_name, last_review, reviews_per_month\n",
        "\n",
        "df2 = df.drop(['id', 'name', 'host_id', 'last_review', 'reviews_per_month'], axis=1)\n",
        "df2.info()\n",
        "     \n",
        "\n",
        "# 데이터 클리닝 진행 1\n",
        "# 이상데이터(아웃라이어) 제거\n",
        "# sns.histplot(data=df2, x='price')\n",
        "\n",
        "# 데이터의 95% \n",
        "## 오른쪽(4)\n",
        "## 왼쪽(1)\n",
        "\n",
        "max = df2['price'].quantile(0.96) #  0 ~ 1\n",
        "min = df2['price'].quantile(0.01) #  0 ~ 1\n",
        "\n",
        "\n",
        "df3 = df2[(df2['price'] < max) & (df2['price'] > min)]\n",
        "\n",
        "df2.shape, df3.shape\n",
        "     \n",
        "df3.corr()['price']"
      ],
      "metadata": {
        "id": "2V9_zfbFMvtN"
      },
      "execution_count": null,
      "outputs": []
    },
    {
      "cell_type": "code",
      "source": [
        "max, min\n",
        "#df3.info()\n",
        "\n",
        "print(df3.columns)\n",
        "\n",
        "df3['minimum_nights'].describe()\n",
        "\n",
        "#sns.histplot(data=df3, x='minimum_nights')\n",
        "\n",
        "## 히스토그램으로 분포가 잘 안보일 때\n",
        "# sns.rugplot(data=df3, x='minimum_nights')\n",
        "\n",
        "## minimum_nights는 98% 데이터가 수치 30 이하에 몰려있다.\n",
        "max = df3['minimum_nights'].quantile(0.98)\n",
        "df4 = df3[df3['minimum_nights'] < max]\n"
      ],
      "metadata": {
        "id": "y-mKYhL4Obha"
      },
      "execution_count": null,
      "outputs": []
    },
    {
      "cell_type": "code",
      "source": [
        "df4['number_of_reviews'].describe()\n",
        "max = df4['number_of_reviews'].quantile(0.99)\n",
        "\n",
        "df5 = df4[df4['number_of_reviews'] < max]"
      ],
      "metadata": {
        "id": "w9s_wBesQ5yn"
      },
      "execution_count": 35,
      "outputs": []
    },
    {
      "cell_type": "code",
      "source": [
        "df5['calculated_host_listings_count'].describe()\n",
        "sns.rugplot(data=df5, x='calculated_host_listings_count')\n",
        "\n",
        "## minimum_nights는 98% 데이터가 수치 30 이하에 몰려있다.\n",
        "max = df5['calculated_host_listings_count'].quantile(0.99)\n",
        "df6 = df5[df5['calculated_host_listings_count'] < max]"
      ],
      "metadata": {
        "id": "qyfeiW4aRBCB"
      },
      "execution_count": null,
      "outputs": []
    },
    {
      "cell_type": "code",
      "source": [
        "## 일단은 0을 그냥 0이라고 판단하고 진행\n",
        "df6.columns\n",
        "df6['availability_365'].describe()"
      ],
      "metadata": {
        "id": "41_-Jx9_ScrO"
      },
      "execution_count": null,
      "outputs": []
    },
    {
      "cell_type": "code",
      "source": [
        "df6.corr()['price']"
      ],
      "metadata": {
        "id": "Vz_ZlyCfTDY6"
      },
      "execution_count": null,
      "outputs": []
    },
    {
      "cell_type": "code",
      "source": [
        "df6.columns\n",
        "\n",
        "df6['neighbourhood_group'].value_counts()\n",
        "\n",
        "# neighbourhood_group은 숙박료와 약간의 상관관계가 있다고 보여짐.\n",
        "sns.boxplot(data=df6, x='neighbourhood_group', y='price', order=df6.groupby('neighbourhood_group')['price'].median().sort_values(ascending=False).index)\n"
      ],
      "metadata": {
        "id": "1OE77oK5T687"
      },
      "execution_count": null,
      "outputs": []
    },
    {
      "cell_type": "code",
      "source": [
        "## room_type과 숙박료가 상관관계가 있는지 판단해주세요.\n",
        "df6['room_type']"
      ],
      "metadata": {
        "colab": {
          "base_uri": "https://localhost:8080/"
        },
        "id": "cHuBPbsGVewL",
        "outputId": "751d9dd1-0a19-4d69-8d5c-a7b301ef6e77"
      },
      "execution_count": 70,
      "outputs": [
        {
          "output_type": "execute_result",
          "data": {
            "text/plain": [
              "0           Private room\n",
              "1        Entire home/apt\n",
              "2           Private room\n",
              "4        Entire home/apt\n",
              "5        Entire home/apt\n",
              "              ...       \n",
              "48890       Private room\n",
              "48891       Private room\n",
              "48892    Entire home/apt\n",
              "48893        Shared room\n",
              "48894       Private room\n",
              "Name: room_type, Length: 41160, dtype: object"
            ]
          },
          "metadata": {},
          "execution_count": 70
        }
      ]
    },
    {
      "cell_type": "code",
      "source": [
        "df\n",
        "# 데이터 클리닝 진행2\n",
        "\n",
        "\n",
        "\n",
        "# 범주형 데이터 정리\n",
        "     \n",
        "\n",
        "# 미기입/오기입 데이터 처리하기\n",
        "     \n",
        "\n",
        "# 결측치 채우기\n",
        "     \n",
        "\n",
        "# 데이터 전처리1\n",
        "# 범주형 데이터 ont-hot 인코딩\n",
        "     \n",
        "\n",
        "# 데이터 전처리2\n",
        "# 수치형 데이터 표준화\n",
        "     \n",
        "\n",
        "# 훈련데이터와 타겟데이터 구분하고 훈련용, 테스트용 분리하기\n",
        "     \n",
        "\n",
        "# 선형회귀 모델 학습 및 평가"
      ],
      "metadata": {
        "id": "FeE_irOnM3uo"
      },
      "execution_count": 5,
      "outputs": []
    },
    {
      "cell_type": "code",
      "source": [],
      "metadata": {
        "id": "wd_WXasGThgb"
      },
      "execution_count": null,
      "outputs": []
    },
    {
      "cell_type": "code",
      "source": [],
      "metadata": {
        "id": "Qj18MFB3Of8k"
      },
      "execution_count": null,
      "outputs": []
    }
  ]
}