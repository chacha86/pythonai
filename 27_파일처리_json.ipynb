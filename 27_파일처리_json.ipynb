{
  "nbformat": 4,
  "nbformat_minor": 0,
  "metadata": {
    "colab": {
      "provenance": [],
      "authorship_tag": "ABX9TyM91+pPktTmcH3KXZM661+D",
      "include_colab_link": true
    },
    "kernelspec": {
      "name": "python3",
      "display_name": "Python 3"
    },
    "language_info": {
      "name": "python"
    }
  },
  "cells": [
    {
      "cell_type": "markdown",
      "metadata": {
        "id": "view-in-github",
        "colab_type": "text"
      },
      "source": [
        "<a href=\"https://colab.research.google.com/github/chacha86/pythonai/blob/main/27_%ED%8C%8C%EC%9D%BC%EC%B2%98%EB%A6%AC_json.ipynb\" target=\"_parent\"><img src=\"https://colab.research.google.com/assets/colab-badge.svg\" alt=\"Open In Colab\"/></a>"
      ]
    },
    {
      "cell_type": "code",
      "execution_count": 7,
      "metadata": {
        "id": "giSDVITp4Ykv"
      },
      "outputs": [],
      "source": [
        "import pandas as pd\n",
        "\n",
        "# 구조화된 데이터\n",
        "hong = {\"이름\" : \"홍길동\", \"나이\" : 23}\n",
        "\n",
        "h = pd.DataFrame(hong, index=[1])\n",
        "\n",
        "h.to_csv('hong.csv', encoding='utf-8-sig')\n",
        "\n",
        "\n",
        "\n"
      ]
    },
    {
      "cell_type": "code",
      "source": [],
      "metadata": {
        "id": "aiI-kT6s9_vG"
      },
      "execution_count": null,
      "outputs": []
    },
    {
      "cell_type": "code",
      "source": [
        "import json\n",
        "\n",
        "# 파이썬의 오브젝트(객체) -> 문자(바이트) (직렬화)\n",
        "json_str = json.dumps([{\"이름\" : \"홍길동\", \"나이\" : 23}, {\"이름\" : \"이순신\", \"나이\" : 33}], ensure_ascii=False)\n",
        "\n",
        "with open('data/people.json', 'w') as f:\n",
        "  f.write(json_str)\n",
        "\n",
        "\n",
        "# 문자, 바이트 -> 파이썬 오브젝트 (역직렬화)\n",
        "\n",
        "with open('data/people.json', 'r') as f:\n",
        "  people = json.loads(json_str)\n",
        "\n",
        "\n",
        "\n",
        "\n",
        "\n",
        "\n",
        "\n",
        "\n",
        "\n",
        "\n",
        "\n",
        "\n",
        "\n"
      ],
      "metadata": {
        "colab": {
          "base_uri": "https://localhost:8080/"
        },
        "id": "EuVTmsda8yrR",
        "outputId": "a851ed8f-3da3-4b6e-b08b-4914d0bc78e8"
      },
      "execution_count": 23,
      "outputs": [
        {
          "output_type": "stream",
          "name": "stdout",
          "text": [
            "홍길동\n"
          ]
        }
      ]
    }
  ]
}