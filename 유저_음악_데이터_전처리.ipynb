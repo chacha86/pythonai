{
  "nbformat": 4,
  "nbformat_minor": 0,
  "metadata": {
    "colab": {
      "provenance": [],
      "authorship_tag": "ABX9TyOsXcloPLOmUNKpre+CRXm7",
      "include_colab_link": true
    },
    "kernelspec": {
      "name": "python3",
      "display_name": "Python 3"
    },
    "language_info": {
      "name": "python"
    }
  },
  "cells": [
    {
      "cell_type": "markdown",
      "metadata": {
        "id": "view-in-github",
        "colab_type": "text"
      },
      "source": [
        "<a href=\"https://colab.research.google.com/github/chacha86/pythonai/blob/main/%EC%9C%A0%EC%A0%80_%EC%9D%8C%EC%95%85_%EB%8D%B0%EC%9D%B4%ED%84%B0_%EC%A0%84%EC%B2%98%EB%A6%AC.ipynb\" target=\"_parent\"><img src=\"https://colab.research.google.com/assets/colab-badge.svg\" alt=\"Open In Colab\"/></a>"
      ]
    },
    {
      "cell_type": "code",
      "execution_count": null,
      "metadata": {
        "id": "GezJnDUsnKfu"
      },
      "outputs": [],
      "source": [
        "%pyspark\n",
        "\n",
        "df2 = spark.read.option(\"sep\", \" \").csv(\"/test/music/profiledata_06-May-2005/user_artist_data.txt\").toDF('userid', 'artistid', 'playcount')\n",
        "df2.show()"
      ]
    },
    {
      "cell_type": "code",
      "source": [
        "%pyspark\n",
        "\n",
        "df3 = df2.select(df2.userid.cast('int'), df2.artistid.cast('int'), df2.playcount.cast('int'))"
      ],
      "metadata": {
        "id": "PofrJ4a5nM2n"
      },
      "execution_count": null,
      "outputs": []
    },
    {
      "cell_type": "code",
      "source": [
        "%pyspark\n",
        "\n",
        "// playcount 이상치 확인. 평균 9, 최대값 41700\n",
        "\n",
        "Q1 = df3.approxQuantile('playcount', [0.25], 0.1)\n",
        "Q3 = df3.approxQuantile('playcount', [0.75], 0.1)\n",
        "\n",
        "print(Q1)\n",
        "print(Q3)\n",
        "\n",
        "Q85 = df3.approxQuantile('playcount', [0.85], 0.1)\n",
        "\n",
        "print(Q85)\n"
      ],
      "metadata": {
        "id": "GNpQARUanPRo"
      },
      "execution_count": null,
      "outputs": []
    },
    {
      "cell_type": "code",
      "source": [
        "IQR = Q3[0] - Q1[0]\n",
        "\n",
        "lowest = Q1[0] - (1.5 * IQR)\n",
        "highest = Q3[0] + (1.5 * IQR)\n",
        "\n",
        "\n",
        "print(lowest)\n",
        "print(highest)"
      ],
      "metadata": {
        "id": "xlrbhhNgnV1b"
      },
      "execution_count": null,
      "outputs": []
    },
    {
      "cell_type": "code",
      "source": [
        "%pyspark\n",
        "\n",
        "df4 = df3.filter(df3.playcount <= highest)"
      ],
      "metadata": {
        "id": "mt5WxTLpnXD4"
      },
      "execution_count": null,
      "outputs": []
    },
    {
      "cell_type": "code",
      "source": [
        "%pyspark\n",
        "\n",
        "df4.count()"
      ],
      "metadata": {
        "id": "CxJlMxxmnYBF"
      },
      "execution_count": null,
      "outputs": []
    },
    {
      "cell_type": "code",
      "source": [
        "%pyspark\n",
        "\n",
        "df4.filter(df4.userid.isNull() | df4.artistid.isNull() | df4.playcount.isNull()).count()"
      ],
      "metadata": {
        "id": "_6XNPnkQna1u"
      },
      "execution_count": null,
      "outputs": []
    },
    {
      "cell_type": "code",
      "source": [
        "%pyspark\n",
        "\n",
        "df4.summary().show()"
      ],
      "metadata": {
        "id": "hdrUan4cncu_"
      },
      "execution_count": null,
      "outputs": []
    }
  ]
}