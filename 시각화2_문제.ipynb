{
  "nbformat": 4,
  "nbformat_minor": 0,
  "metadata": {
    "colab": {
      "provenance": [],
      "authorship_tag": "ABX9TyM3VXy+hQrwxaNNm38yoClH",
      "include_colab_link": true
    },
    "kernelspec": {
      "name": "python3",
      "display_name": "Python 3"
    },
    "language_info": {
      "name": "python"
    }
  },
  "cells": [
    {
      "cell_type": "markdown",
      "metadata": {
        "id": "view-in-github",
        "colab_type": "text"
      },
      "source": [
        "<a href=\"https://colab.research.google.com/github/chacha86/pythonai/blob/main/%EC%8B%9C%EA%B0%81%ED%99%942_%EB%AC%B8%EC%A0%9C.ipynb\" target=\"_parent\"><img src=\"https://colab.research.google.com/assets/colab-badge.svg\" alt=\"Open In Colab\"/></a>"
      ]
    },
    {
      "cell_type": "code",
      "execution_count": null,
      "metadata": {
        "id": "U4xbLvGPIvMK"
      },
      "outputs": [],
      "source": [
        "# 1. 지역별 영어 점수 평균을 막대그래프로 그리기"
      ]
    },
    {
      "cell_type": "code",
      "source": [
        "# 2. 생년월별 국어 점수 평균을 막대그래프로 그리기\n",
        "## x축의 생월이 오름차순으로 정렬되어서 나오게 해주세요."
      ],
      "metadata": {
        "id": "-2dhg0KDIyO1"
      },
      "execution_count": null,
      "outputs": []
    },
    {
      "cell_type": "code",
      "source": [
        "# 3. 지역별 평균 점수를 남녀별로 색을 다르게 해서 표시\n",
        "## 그래프의 사이즈를 가로 12, 세로 3으로 그려주세요.\n",
        "## 범례가 그래프를 가리지 않도록 그래프 오른쪽 바깥에 그려주세요."
      ],
      "metadata": {
        "id": "gGfPZrrKIyTE"
      },
      "execution_count": null,
      "outputs": []
    },
    {
      "cell_type": "code",
      "source": [
        "# 4. 공부시간 별 평균 점수를 막대그래프로 그려주세요. \n",
        "## 지역별로 다르게 표시해주세요.\n",
        "## 그래프의 사이즈를 가로 15, 세로 5로 그려주세요.\n",
        "## 범례가 그래프를 가리지 않도록 그려주세요.\n",
        "## 공부시간 별 평균 점수를 각 막대그래프 위에 텍스트로 넣어주세요."
      ],
      "metadata": {
        "id": "hyA8VDJJIyVw"
      },
      "execution_count": null,
      "outputs": []
    },
    {
      "cell_type": "code",
      "source": [
        "# 5. 지역별 평균 점수를 박스 플롯으로 그려주세요. "
      ],
      "metadata": {
        "id": "6vpGHzygIyYM"
      },
      "execution_count": null,
      "outputs": []
    },
    {
      "cell_type": "code",
      "source": [
        "# 6. 평균 점수대별(60점대, 70점대, 80점대, 90점대) 학생수의 분포를 그려주세요."
      ],
      "metadata": {
        "id": "Mdfc2JbcIybX"
      },
      "execution_count": null,
      "outputs": []
    },
    {
      "cell_type": "code",
      "source": [],
      "metadata": {
        "id": "hH8x4A31IyfP"
      },
      "execution_count": null,
      "outputs": []
    }
  ]
}