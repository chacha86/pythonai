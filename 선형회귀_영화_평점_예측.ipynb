{
  "nbformat": 4,
  "nbformat_minor": 0,
  "metadata": {
    "colab": {
      "provenance": [],
      "authorship_tag": "ABX9TyM6b5kLoRblKZfKOeSLug4y",
      "include_colab_link": true
    },
    "kernelspec": {
      "name": "python3",
      "display_name": "Python 3"
    },
    "language_info": {
      "name": "python"
    }
  },
  "cells": [
    {
      "cell_type": "markdown",
      "metadata": {
        "id": "view-in-github",
        "colab_type": "text"
      },
      "source": [
        "<a href=\"https://colab.research.google.com/github/chacha86/pythonai/blob/main/%EC%84%A0%ED%98%95%ED%9A%8C%EA%B7%80_%EC%98%81%ED%99%94_%ED%8F%89%EC%A0%90_%EC%98%88%EC%B8%A1.ipynb\" target=\"_parent\"><img src=\"https://colab.research.google.com/assets/colab-badge.svg\" alt=\"Open In Colab\"/></a>"
      ]
    },
    {
      "cell_type": "code",
      "execution_count": null,
      "metadata": {
        "id": "j40I7CrmIall"
      },
      "outputs": [],
      "source": [
        "## 평점을 예측하는 모델 만들기\n",
        "\n",
        "## 감독, 장르, 배급, 개봉, 등급을 이용해서 평점 예측하기\n",
        "## 범주데이터를 수치데이터로 바꿔야 함.\n",
        "## 인코딩 -> \n",
        "## 원핫인코딩 -> 범주가 많으면 데이터가 많이 생겨서 성능이 떨어짐\n",
        "## 타겟인코딩, 빈도수 인코딩, 레이블 인코딩\n",
        "\n",
        "## 다중회귀로 학습\n",
        "\n",
        "## 평가\n"
      ]
    },
    {
      "cell_type": "code",
      "source": [
        "import pandas as pd\n",
        "import numpy as np\n",
        "import matplotlib.pyplot as plt\n",
        "import seaborn as sns\n",
        "\n",
        "mv = pd.read_excel('/content/movie2.xlsx')"
      ],
      "metadata": {
        "id": "iqkdHIiMJ_bn"
      },
      "execution_count": 2,
      "outputs": []
    },
    {
      "cell_type": "code",
      "source": [
        "#mv.info()\n",
        "'''\n",
        "'제목', '개봉', '등급', '장르', '국가', '러닝타임', '배급', '원작', '감독', '평점', '참여수',\n",
        "       '남자평균', '여자평균', 'OST', '영상미', '스토리', '연기', '연출', '10대_평점', '20대_평점',\n",
        "       '30대_평점', '40대_평점', '50대_평점', '원제', 'male', 'female', '관객수_x', '개요',\n",
        "       '수상', '재개봉', '채널', '10대_비율', '20대_비율', '30대_비율', '40대_비율', '50대_비율'\n",
        "'''\n",
        "data = mv[['개봉', '등급', '장르', '배급', '감독', '평점']]\n",
        "\n",
        "data['등급'].value_counts() # 원핫 인코딩\n",
        "\n",
        "data['개봉'].value_counts() # 타겟 인코딩\n",
        "data['장르'].value_counts() # 타겟 인코딩\n",
        "data['배급'].value_counts() # 타겟 인코딩\n",
        "data['감독'].value_counts() # 타겟 인코딩"
      ],
      "metadata": {
        "id": "pi5-sU7RKh0s"
      },
      "execution_count": null,
      "outputs": []
    },
    {
      "cell_type": "code",
      "source": [
        "data2 = data.fillna('')\n",
        "\n",
        "\n",
        "\n",
        "from sklearn.preprocessing import OneHotEncoder\n",
        "\n",
        "encoder = OneHotEncoder()\n",
        "\n",
        "## 1. 등급 컬럼을 원핫 인코딩해주세요.\n",
        "one_hot_target = data2[['등급']]\n",
        "\n",
        "col_names = data2['등급'].unique()\n",
        "\n",
        "#encoded_target = encoder.fit_transform(one_hot_target).toarray()\n",
        "\n",
        "target_1hot = pd.DataFrame(encoded_target, columns = '등급_' + col_names)\n",
        "\n",
        "## 2. 등급을 제외한 나머지 컬럼을 타겟 인코딩 해주세요.\n",
        "## 감독\n",
        "data2[\"감독_인코딩\"] = data2.groupby(\"감독\")[\"평점\"].transform(\"mean\")\n",
        "\n",
        "## 장르, 배급, 개봉 타겟 인코딩 해주세요.\n",
        "data2[\"장르_인코딩\"] = data2.groupby(\"장르\")[\"평점\"].transform(\"mean\")\n",
        "data2[\"배급_인코딩\"] = data2.groupby(\"배급\")[\"평점\"].transform(\"mean\")\n",
        "data2[\"개봉_인코딩\"] = data2.groupby(\"개봉\")[\"평점\"].transform(\"mean\")\n",
        "\n",
        "\n",
        "## 3. 인코딩 된 데이터만 추리기\n",
        "\n",
        "data2.columns\n",
        "\n",
        "target_encoded_df = data2[['평점', '감독_인코딩', '장르_인코딩', '배급_인코딩',\n",
        "       '개봉_인코딩']]\n",
        "\n",
        "train_data = pd.concat([target_encoded_df, target_1hot], axis=1)\n"
      ],
      "metadata": {
        "id": "g9wJ0d47LyV9"
      },
      "execution_count": 55,
      "outputs": []
    },
    {
      "cell_type": "code",
      "source": [],
      "metadata": {
        "id": "CZYBpl-OS6ij"
      },
      "execution_count": null,
      "outputs": []
    }
  ]
}