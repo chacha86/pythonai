{
 "cells": [
  {
   "cell_type": "code",
   "execution_count": 1,
   "id": "4d9bab0a",
   "metadata": {},
   "outputs": [
    {
     "name": "stdout",
     "output_type": "stream",
     "text": [
      "66%\n"
     ]
    }
   ],
   "source": [
    "import selenium\n",
    "from selenium import webdriver\n",
    "from selenium.webdriver.common.by import By\n",
    "from selenium.webdriver.common.keys import Keys\n",
    "from selenium.webdriver.chrome.service import Service as ChromeService\n",
    "import time\n",
    "\n",
    "options = webdriver.ChromeOptions()\n",
    "options.add_experimental_option(\"excludeSwitches\", [\"enable-automation\"])\n",
    "options.add_experimental_option(\"useAutomationExtension\", False)\n",
    "options.add_argument('headless')\n",
    "service = ChromeService(executable_path='C:/Users/Administrator/jupyter notebook/chromedriver/chromedriver.exe')\n",
    "\n",
    "driver = webdriver.Chrome(service=service, options=options)\n",
    "driver.get('https://n.news.naver.com/article/055/0001052871?ntype=RANKING')\n",
    "\n",
    "time.sleep(1)\n",
    "# find\n",
    "cbox_chart = driver.find_element(By.CLASS_NAME, 'u_cbox_chart_wrap')\n",
    "cbox_chart_per = cbox_chart.find_element(By.CLASS_NAME, 'u_cbox_chart_per')\n",
    "\n",
    "print(cbox_chart_per.text)\n",
    "\n",
    "time.sleep(10)\n",
    "driver.close()\n",
    "# 실습1\n",
    "# 뉴스의 링크를 넘기면 해당 뉴스의 댓글 통계 정보를 딕셔너리로 반환하는 함수 만들기\n",
    "\n",
    "def get_stat_gen(url) :\n",
    "    driver = webdriver.Chrome(service=service, options=options)\n",
    "    driver.get(url)\n",
    "    time.sleep(2)\n",
    "    chart_sex = driver.find_element(By.CLASS_NAME, 'u_cbox_chart_sex')\n",
    "    per_list = chart_sex.find_elements(By.CLASS_NAME, 'u_cbox_chart_per')\n",
    "    \n",
    "    dic_keys = ['남자', '여자']\n",
    "    sex_dic = {}\n",
    "    \n",
    "    for key, per in zip(dic_keys, per_list) :\n",
    "        sex_dic[key] = per.text\n",
    "    \n",
    "    return sex_dic\n",
    "\n",
    "def get_stat_age(url) :\n",
    "\n",
    "    driver = webdriver.Chrome(service=service, options=options)\n",
    "    driver.get(url)\n",
    "    time.sleep(2)\n",
    "    chart_age = driver.find_element(By.CLASS_NAME, 'u_cbox_chart_age')    \n",
    "    per_list = chart_age.find_elements(By.CLASS_NAME, 'u_cbox_chart_per')\n",
    "    \n",
    "    age_keys = ['10대', '20대', '30대', '40대', '50대', '60대']\n",
    "    age_dic = {}\n",
    "    \n",
    "    for key, per in zip(age_keys, per_list) :\n",
    "        age_dic[key] = per.text\n",
    "    \n",
    "    return age_dic\n",
    "    \n",
    "def get_reply_stat(url) :\n",
    "    \n",
    "    driver = webdriver.Chrome(service=service, options=options)\n",
    "    driver.get(url)\n",
    "    time.sleep(2)\n",
    "    \n",
    "    ## 댓글 통계 정보 있는지 확인\n",
    "    try :\n",
    "        ## u_cbox_chart_wrap를 찾다가 없으면 except쪽 코드가 실행\n",
    "        driver.find_element(By.CLASS_NAME, 'u_cbox_chart_wrap')         \n",
    "    except :\n",
    "        naver_comm = driver.find_element(By.CLASS_NAME, 'is_navercomment')\n",
    "        url = naver_comm.get_attribute('href')\n",
    "    \n",
    "    gen_info = get_stat_gen(url)    \n",
    "    age_info = get_stat_age(url)\n",
    "    \n",
    "    gen_info.update(age_info)\n",
    "    \n",
    "    \n",
    "    return gen_info\n",
    "   "
   ]
  },
  {
   "cell_type": "code",
   "execution_count": null,
   "id": "506cb6ac",
   "metadata": {},
   "outputs": [],
   "source": [
    "# 실습2\n",
    "# SBS, MBC, KBS 세 언론사의 최근 5일간의 랭킹뉴스 top5의 통계 정보를 json 파일로 저장해주세요.\n",
    "\n",
    "import my_mod.my_news_util as ut\n",
    "\n",
    "mbc_url = 'https://media.naver.com/press/214/ranking?type=popular'\n",
    "kbs_url = 'https://media.naver.com/press/056/ranking?type=popular'\n",
    "sbs_url = 'https://media.naver.com/press/055/ranking?type=popular'\n",
    "\n",
    "# ==============================================\n",
    "# mbc 랭킹뉴스 top5의 통계 정보\n",
    "\n",
    "def get_top5_news_by_5days(journal_url) :\n",
    "    dates = ut.get_dates(4)\n",
    "    news_link = ut.get_news_link_by_time(journal_url, dates)\n",
    "\n",
    "    my_news_list = []\n",
    "    for link in news_link :\n",
    "        page = ut.get_page(link)\n",
    "        news_list = ut.get_total_news(page)\n",
    "        my_news_list.extend(news_list[:5])\n",
    "        \n",
    "    return my_news_list\n",
    "    \n",
    "mbc_news_list = get_top5_news_by_5days(mbc_url)\n",
    "kbs_news_list = get_top5_news_by_5days(kbs_url)\n",
    "sbs_news_list = get_top5_news_by_5days(sbs_url)\n",
    "\n",
    "news_list = []\n",
    "for news in mbc_news_list :\n",
    "    try :\n",
    "        stat_info = get_reply_stat(news['link'])\n",
    "        news.update(stat_info)\n",
    "        news_list.append(news)\n",
    "    except :\n",
    "        pass\n",
    "    \n",
    "stat_list\n",
    "\n"
   ]
  },
  {
   "cell_type": "code",
   "execution_count": 3,
   "id": "2f044deb",
   "metadata": {},
   "outputs": [
    {
     "data": {
      "text/plain": [
       "['20230421', '20230422', '20230423', '20230424', '20230425', '20230426']"
      ]
     },
     "execution_count": 3,
     "metadata": {},
     "output_type": "execute_result"
    }
   ],
   "source": [
    "import my_mod.my_news_util as ut\n",
    "\n",
    "ut.get_dates(5)"
   ]
  },
  {
   "cell_type": "code",
   "execution_count": null,
   "id": "ea273ab6",
   "metadata": {},
   "outputs": [],
   "source": [
    "\n",
    "# 실습3\n",
    "# 각 뉴스의 댓글 수를 스크랩해서 저장해주세요.\n",
    "# 실습4\n",
    "# 수집한 뉴스데이터를 이용해 다음 문제를 풀어주세요.\n",
    "## 1. 20대가 가장 많이 본(댓글을 많이 작성한) 뉴스\n",
    "\n",
    "## 2. 가장 댓글이 적은 뉴스의 댓글 수와 뉴스 링크, 뉴스 번호\n",
    "\n",
    "## 3. 언론사 번호와 언론사 이름으로 구성된 데이터 프레임을 만들고 merge를 이용해 각 뉴스에 언론사 이름을 붙여주기\n",
    "\n",
    "## 4. 각 언론사별 평균 댓글 수(댓글 수로 내림차순 정렬)\n",
    "\n",
    "## 5. 여성의 댓글수가 가장 많은 언론사\n",
    "\n",
    "## 6. 각 언론사 별 댓글을 많이 작성한 연령대 top3"
   ]
  }
 ],
 "metadata": {
  "kernelspec": {
   "display_name": "Python 3 (ipykernel)",
   "language": "python",
   "name": "python3"
  },
  "language_info": {
   "codemirror_mode": {
    "name": "ipython",
    "version": 3
   },
   "file_extension": ".py",
   "mimetype": "text/x-python",
   "name": "python",
   "nbconvert_exporter": "python",
   "pygments_lexer": "ipython3",
   "version": "3.10.9"
  }
 },
 "nbformat": 4,
 "nbformat_minor": 5
}
