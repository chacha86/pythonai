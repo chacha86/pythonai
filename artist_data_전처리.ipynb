{
  "nbformat": 4,
  "nbformat_minor": 0,
  "metadata": {
    "colab": {
      "provenance": [],
      "authorship_tag": "ABX9TyM2CgyfBToVHoSCBivKH34Z",
      "include_colab_link": true
    },
    "kernelspec": {
      "name": "python3",
      "display_name": "Python 3"
    },
    "language_info": {
      "name": "python"
    }
  },
  "cells": [
    {
      "cell_type": "markdown",
      "metadata": {
        "id": "view-in-github",
        "colab_type": "text"
      },
      "source": [
        "<a href=\"https://colab.research.google.com/github/chacha86/pythonai/blob/main/artist_data_%EC%A0%84%EC%B2%98%EB%A6%AC.ipynb\" target=\"_parent\"><img src=\"https://colab.research.google.com/assets/colab-badge.svg\" alt=\"Open In Colab\"/></a>"
      ]
    },
    {
      "cell_type": "code",
      "execution_count": null,
      "metadata": {
        "id": "1mW89Qg9zULE"
      },
      "outputs": [],
      "source": [
        "%pyspark\n",
        "\n",
        "artist = spark.read.option(\"sep\", \"\\t\").csv(\"/test/music/profiledata_06-May-2005/artist_data.txt\").toDF('artistid', 'artistname')\n"
      ]
    },
    {
      "cell_type": "code",
      "source": [
        "%pyspark\n",
        "artist.filter(artist.artistid.isNull() | artist.artistname.isNull()).count()"
      ],
      "metadata": {
        "id": "fRf62Na_zZPS"
      },
      "execution_count": null,
      "outputs": []
    },
    {
      "cell_type": "code",
      "source": [
        "%pyspark\n",
        "artist.summary().show()"
      ],
      "metadata": {
        "id": "TI3jVBSxzddF"
      },
      "execution_count": null,
      "outputs": []
    },
    {
      "cell_type": "code",
      "source": [
        "%pyspark\n",
        "art2 = artist.filter((artist.artistid.isNotNull())  &  (artist.artistname.isNotNull())  )"
      ],
      "metadata": {
        "id": "Eo2u6HuZzfup"
      },
      "execution_count": null,
      "outputs": []
    },
    {
      "cell_type": "code",
      "source": [
        "%pyspark\n",
        "\n",
        "\n",
        "from pyspark.sql.functions import *\n",
        "from pyspark.sql.types import *\n",
        "\n",
        "# 문자 데이터가 포함된 행을 제거\n",
        "\n",
        "## pandas의 map 방식\n",
        "\n",
        "def my_is_digit(x) :\n",
        "  if x.isdigit() :\n",
        "    return True\n",
        "  else :\n",
        "    return False\n",
        "\n",
        "\n",
        "my_digit = udf(my_is_digit, BooleanType())\n",
        "\n",
        "\n",
        "art3 = art2.filter(my_digit(art2.artistid))"
      ],
      "metadata": {
        "id": "op5_nYENziBJ"
      },
      "execution_count": null,
      "outputs": []
    },
    {
      "cell_type": "code",
      "source": [
        "%pyspark\n",
        "art3.summary().show()"
      ],
      "metadata": {
        "id": "SD8K5UHSzln1"
      },
      "execution_count": null,
      "outputs": []
    },
    {
      "cell_type": "code",
      "source": [
        "%pyspark\n",
        "\n",
        "art4 = art3.select(art3.artistid.cast(\"int\"), art3.artistname)"
      ],
      "metadata": {
        "id": "mbeKBcHgznFV"
      },
      "execution_count": null,
      "outputs": []
    }
  ]
}