{
  "nbformat": 4,
  "nbformat_minor": 0,
  "metadata": {
    "colab": {
      "provenance": [],
      "authorship_tag": "ABX9TyOS2kPmIpzfROsk216X3Gza",
      "include_colab_link": true
    },
    "kernelspec": {
      "name": "python3",
      "display_name": "Python 3"
    },
    "language_info": {
      "name": "python"
    }
  },
  "cells": [
    {
      "cell_type": "markdown",
      "metadata": {
        "id": "view-in-github",
        "colab_type": "text"
      },
      "source": [
        "<a href=\"https://colab.research.google.com/github/chacha86/pythonai/blob/main/%EB%9E%9C%EB%8D%A4%ED%8F%AC%EB%A0%88%EC%8A%A4%ED%8A%B8%EB%A1%9C_%EC%98%81%ED%99%94_%EC%9E%A5%EB%A5%B4_%EC%98%88%EC%B8%A1.ipynb\" target=\"_parent\"><img src=\"https://colab.research.google.com/assets/colab-badge.svg\" alt=\"Open In Colab\"/></a>"
      ]
    },
    {
      "cell_type": "code",
      "source": [
        "mvcp = mv.copy()\n",
        "\n",
        "mvcp[mv.columns[mv.columns.str.contains('_비율')]] = mv_clf\n",
        "mvcp['장르'] = mv['장르'].str.split(',').str[0]\n",
        "\n",
        "\n",
        "def check_genre(x) :\n",
        "  if x in mvcp['장르'].value_counts()[mvcp['장르'].value_counts() < 4].index :\n",
        "    return 'other'\n",
        "  else :\n",
        "    return x\n",
        "\n",
        "mvcp['장르'] = mvcp['장르'].map(check_genre)\n",
        "\n",
        "#mvcp['배급'].value_counts()[mvcp['배급'].value_counts() >= 30]\n",
        "\n",
        "\n",
        "\n",
        "\n",
        "\n",
        "def check_distributor(x) :\n",
        "  if x in mvcp['배급'].value_counts()[mvcp['배급'].value_counts() < 30].index :\n",
        "    return 'other'\n",
        "  else :\n",
        "    return x\n",
        "\n",
        "mvcp['배급'] = mvcp['배급'].map(check_distributor)\n",
        "\n",
        "\n",
        "\n",
        "mvcp['개봉'] = mvcp['개봉'].str[5:7].astype('int8')\n",
        "def check_season(x) :\n",
        "  if x > 2 :\n",
        "    return '봄'\n",
        "  elif x > 5 : \n",
        "    return '여름'\n",
        "  elif x > 8 :\n",
        "    return '가을'\n",
        "  else : \n",
        "    return '겨울'\n",
        "\n",
        "mvcp['개봉시즌'] = mvcp['개봉'].map(check_season)"
      ],
      "metadata": {
        "id": "42uV1_z1lIXR"
      },
      "execution_count": null,
      "outputs": []
    },
    {
      "cell_type": "code",
      "source": [
        "# 감독과 평점의 관계에서는 감독이 평점과 관련이 있다는 것을 보여주기 위해 타겟 인코딩\n",
        "# 감독은 평점과 장르 예측 모두에서 유용하게 쓰일 수 있으나, 현재 데이터의 상황은 그리 좋아보이지 않음.(샘플이 적음)\n",
        "## 인코딩으로도 한계가 잇는 경우 더 많은 데이터를 확보하거나 해당 특성을 제외하도록 한다.\n",
        "\n",
        "mvcp2 = mvcp[['개봉시즌', '장르', '등급', '배급', 'OST', '영상미', '스토리', '연기', '연출', '남자평균', '여자평균', '10대_비율', '20대_비율', '30대_비율', '40대_비율', '50대_비율']]\n",
        "\n",
        "mvcp3 = mvcp2[mvcp2[mvcp2.columns[mvcp2.columns.str.contains('_비율')]].sum(axis=1) > 0]\n",
        "\n",
        "mvcp4 = mvcp3.dropna()\n",
        "\n",
        "mvcp4_cate = mvcp4.select_dtypes('object').drop('장르', axis=1)\n",
        "mvcp4_num = mvcp4.select_dtypes(include=['float64'])\n",
        "mvcp4_target = mvcp4['장르'].dropna()\n",
        "\n",
        "from sklearn.compose import ColumnTransformer\n",
        "from sklearn.preprocessing import StandardScaler\n",
        "from sklearn.preprocessing import OneHotEncoder\n",
        "\n",
        "full_pipeline = ColumnTransformer([\n",
        "    (\"num\", StandardScaler(), mvcp4_num.columns.values),\n",
        "    (\"cat\", OneHotEncoder(), mvcp4_cate.columns.values)\n",
        "])\n"
      ],
      "metadata": {
        "id": "MK8idb7Enx3X"
      },
      "execution_count": null,
      "outputs": []
    },
    {
      "cell_type": "code",
      "source": [
        "from sklearn.model_selection import train_test_split\n",
        "\n",
        "mvcp4_rst = full_pipeline.fit_transform(mvcp4)\n",
        "trd, tsd, trt, tst = train_test_split(mvcp4_rst, mvcp4_target, train_size=0.8, stratify=mvcp4_target, random_state=42)"
      ],
      "metadata": {
        "id": "Kme75-Jby54w"
      },
      "execution_count": null,
      "outputs": []
    },
    {
      "cell_type": "code",
      "source": [
        "from sklearn.linear_model import LogisticRegression\n",
        "\n",
        "lr = LogisticRegression(max_iter=10000)\n",
        "\n",
        "lr.fit(trd, trt)\n"
      ],
      "metadata": {
        "colab": {
          "base_uri": "https://localhost:8080/",
          "height": 74
        },
        "id": "3dj_axmTzHMN",
        "outputId": "40d3e524-b088-4d94-f015-5432f865997c"
      },
      "execution_count": null,
      "outputs": [
        {
          "output_type": "execute_result",
          "data": {
            "text/plain": [
              "LogisticRegression(max_iter=10000)"
            ],
            "text/html": [
              "<style>#sk-container-id-1 {color: black;background-color: white;}#sk-container-id-1 pre{padding: 0;}#sk-container-id-1 div.sk-toggleable {background-color: white;}#sk-container-id-1 label.sk-toggleable__label {cursor: pointer;display: block;width: 100%;margin-bottom: 0;padding: 0.3em;box-sizing: border-box;text-align: center;}#sk-container-id-1 label.sk-toggleable__label-arrow:before {content: \"▸\";float: left;margin-right: 0.25em;color: #696969;}#sk-container-id-1 label.sk-toggleable__label-arrow:hover:before {color: black;}#sk-container-id-1 div.sk-estimator:hover label.sk-toggleable__label-arrow:before {color: black;}#sk-container-id-1 div.sk-toggleable__content {max-height: 0;max-width: 0;overflow: hidden;text-align: left;background-color: #f0f8ff;}#sk-container-id-1 div.sk-toggleable__content pre {margin: 0.2em;color: black;border-radius: 0.25em;background-color: #f0f8ff;}#sk-container-id-1 input.sk-toggleable__control:checked~div.sk-toggleable__content {max-height: 200px;max-width: 100%;overflow: auto;}#sk-container-id-1 input.sk-toggleable__control:checked~label.sk-toggleable__label-arrow:before {content: \"▾\";}#sk-container-id-1 div.sk-estimator input.sk-toggleable__control:checked~label.sk-toggleable__label {background-color: #d4ebff;}#sk-container-id-1 div.sk-label input.sk-toggleable__control:checked~label.sk-toggleable__label {background-color: #d4ebff;}#sk-container-id-1 input.sk-hidden--visually {border: 0;clip: rect(1px 1px 1px 1px);clip: rect(1px, 1px, 1px, 1px);height: 1px;margin: -1px;overflow: hidden;padding: 0;position: absolute;width: 1px;}#sk-container-id-1 div.sk-estimator {font-family: monospace;background-color: #f0f8ff;border: 1px dotted black;border-radius: 0.25em;box-sizing: border-box;margin-bottom: 0.5em;}#sk-container-id-1 div.sk-estimator:hover {background-color: #d4ebff;}#sk-container-id-1 div.sk-parallel-item::after {content: \"\";width: 100%;border-bottom: 1px solid gray;flex-grow: 1;}#sk-container-id-1 div.sk-label:hover label.sk-toggleable__label {background-color: #d4ebff;}#sk-container-id-1 div.sk-serial::before {content: \"\";position: absolute;border-left: 1px solid gray;box-sizing: border-box;top: 0;bottom: 0;left: 50%;z-index: 0;}#sk-container-id-1 div.sk-serial {display: flex;flex-direction: column;align-items: center;background-color: white;padding-right: 0.2em;padding-left: 0.2em;position: relative;}#sk-container-id-1 div.sk-item {position: relative;z-index: 1;}#sk-container-id-1 div.sk-parallel {display: flex;align-items: stretch;justify-content: center;background-color: white;position: relative;}#sk-container-id-1 div.sk-item::before, #sk-container-id-1 div.sk-parallel-item::before {content: \"\";position: absolute;border-left: 1px solid gray;box-sizing: border-box;top: 0;bottom: 0;left: 50%;z-index: -1;}#sk-container-id-1 div.sk-parallel-item {display: flex;flex-direction: column;z-index: 1;position: relative;background-color: white;}#sk-container-id-1 div.sk-parallel-item:first-child::after {align-self: flex-end;width: 50%;}#sk-container-id-1 div.sk-parallel-item:last-child::after {align-self: flex-start;width: 50%;}#sk-container-id-1 div.sk-parallel-item:only-child::after {width: 0;}#sk-container-id-1 div.sk-dashed-wrapped {border: 1px dashed gray;margin: 0 0.4em 0.5em 0.4em;box-sizing: border-box;padding-bottom: 0.4em;background-color: white;}#sk-container-id-1 div.sk-label label {font-family: monospace;font-weight: bold;display: inline-block;line-height: 1.2em;}#sk-container-id-1 div.sk-label-container {text-align: center;}#sk-container-id-1 div.sk-container {/* jupyter's `normalize.less` sets `[hidden] { display: none; }` but bootstrap.min.css set `[hidden] { display: none !important; }` so we also need the `!important` here to be able to override the default hidden behavior on the sphinx rendered scikit-learn.org. See: https://github.com/scikit-learn/scikit-learn/issues/21755 */display: inline-block !important;position: relative;}#sk-container-id-1 div.sk-text-repr-fallback {display: none;}</style><div id=\"sk-container-id-1\" class=\"sk-top-container\"><div class=\"sk-text-repr-fallback\"><pre>LogisticRegression(max_iter=10000)</pre><b>In a Jupyter environment, please rerun this cell to show the HTML representation or trust the notebook. <br />On GitHub, the HTML representation is unable to render, please try loading this page with nbviewer.org.</b></div><div class=\"sk-container\" hidden><div class=\"sk-item\"><div class=\"sk-estimator sk-toggleable\"><input class=\"sk-toggleable__control sk-hidden--visually\" id=\"sk-estimator-id-1\" type=\"checkbox\" checked><label for=\"sk-estimator-id-1\" class=\"sk-toggleable__label sk-toggleable__label-arrow\">LogisticRegression</label><div class=\"sk-toggleable__content\"><pre>LogisticRegression(max_iter=10000)</pre></div></div></div></div></div>"
            ]
          },
          "metadata": {},
          "execution_count": 12
        }
      ]
    },
    {
      "cell_type": "code",
      "source": [
        "lr.score(trd, trt), lr.score(tsd, tst),"
      ],
      "metadata": {
        "colab": {
          "base_uri": "https://localhost:8080/"
        },
        "id": "Pt9zM0WXznvv",
        "outputId": "ea889aa3-86ee-41c9-f034-7533d02ddb39"
      },
      "execution_count": null,
      "outputs": [
        {
          "output_type": "execute_result",
          "data": {
            "text/plain": [
              "(0.5932914046121593, 0.4666666666666667)"
            ]
          },
          "metadata": {},
          "execution_count": 13
        }
      ]
    },
    {
      "cell_type": "code",
      "source": [
        "from sklearn.ensemble import RandomForestClassifier\n",
        "\n",
        "rfc = RandomForestClassifier(max_depth=8, random_state=42, max_features=0.5, n_estimators=1000)\n",
        "\n",
        "rfc.fit(trd, trt)\n",
        "rfc.score(trd, trt), rfc.score(tsd, tst)"
      ],
      "metadata": {
        "colab": {
          "base_uri": "https://localhost:8080/"
        },
        "id": "5-NKRWjV2nVV",
        "outputId": "e353bfa3-97e8-48cb-8b97-364152cf1c91"
      },
      "execution_count": null,
      "outputs": [
        {
          "output_type": "execute_result",
          "data": {
            "text/plain": [
              "(0.9412997903563941, 0.5416666666666666)"
            ]
          },
          "metadata": {},
          "execution_count": 63
        }
      ]
    },
    {
      "cell_type": "code",
      "source": [
        "from sklearn.model_selection import GridSearchCV\n",
        "\n",
        "param_grid = {\n",
        "    'n_estimators' : [100, 200, 400, 800],\n",
        "    'max_depth' : [5, 10, 15, 20],\n",
        "    'max_features' : ['auto', 0.1, 0.5, 0.8, 1]\n",
        "}\n",
        "\n",
        "gs = GridSearchCV(rfc, param_grid=param_grid, cv=5)"
      ],
      "metadata": {
        "id": "wtHtHujD3A1S"
      },
      "execution_count": null,
      "outputs": []
    },
    {
      "cell_type": "code",
      "source": [
        "gs.fit(trd, trt)"
      ],
      "metadata": {
        "id": "viUK-2S33oC5"
      },
      "execution_count": null,
      "outputs": []
    },
    {
      "cell_type": "code",
      "source": [
        "gs.best_params_\n",
        "best_rfc = gs.best_estimator_\n",
        "\n",
        "best_rfc.score(trd, trt), best_rfc.score(tsd, tst)"
      ],
      "metadata": {
        "colab": {
          "base_uri": "https://localhost:8080/"
        },
        "id": "TW0x3zFd3ixy",
        "outputId": "60f41c1b-a6d7-4713-f62f-d507ed389d62"
      },
      "execution_count": null,
      "outputs": [
        {
          "output_type": "execute_result",
          "data": {
            "text/plain": [
              "(0.9811320754716981, 0.475)"
            ]
          },
          "metadata": {},
          "execution_count": 277
        }
      ]
    },
    {
      "cell_type": "code",
      "source": [
        "from sklearn.impute import SimpleImputer\n",
        "\n",
        "mvcp2 = mvcp[['개봉시즌', '장르', '등급', '배급', 'OST', '영상미', '스토리', '연기', '연출', '남자평균', '여자평균', '10대_평점', '20대_평점',\n",
        "       '30대_평점', '40대_평점', '50대_평점', '10대_비율', '20대_비율', '30대_비율', '40대_비율', '50대_비율']]\n",
        "\n",
        "mvcp2_cate = mvcp2.select_dtypes('object').drop('장르', axis=1)\n",
        "mvcp2_num = mvcp2.select_dtypes(include=['float64'])\n",
        "mvcp2_target = mvcp2['장르']\n",
        "\n",
        "from sklearn.compose import ColumnTransformer\n",
        "from sklearn.pipeline import Pipeline\n",
        "\n",
        "num_pipeline = Pipeline([\n",
        "    ('imputer', SimpleImputer(strategy='median')),\n",
        "    ('std_scaler', StandardScaler())\n",
        "])\n",
        "\n",
        "cate_pipeline = Pipeline([\n",
        "    ('imputer', SimpleImputer(strategy='most_frequent')),\n",
        "    ('onehot', OneHotEncoder())\n",
        "])\n"
      ],
      "metadata": {
        "id": "rPs9dWgt7Fqk"
      },
      "execution_count": null,
      "outputs": []
    },
    {
      "cell_type": "code",
      "source": [
        "\n",
        "full_pipeline2 = ColumnTransformer([\n",
        "    (\"num\", num_pipeline, mvcp2_num.columns.values),\n",
        "    (\"cat\", cate_pipeline, mvcp2_cate.columns.values)\n",
        "])"
      ],
      "metadata": {
        "id": "w5QVwQcs7Coo"
      },
      "execution_count": null,
      "outputs": []
    },
    {
      "cell_type": "code",
      "source": [
        "mvcp2_rst = full_pipeline2.fit_transform(mvcp2)\n",
        "simputer = SimpleImputer(strategy='most_frequent')\n",
        "mvcp2_target2 = simputer.fit_transform(mvcp2_target.values.reshape(len(mvcp2_target), -1))\n",
        "\n",
        "trd2, tsd2, trt2, tst2 = train_test_split(mvcp2_rst, mvcp2_target2.reshape(len(mvcp2_target2)), train_size=0.8, stratify=mvcp2_target2.reshape(len(mvcp2_target2)), random_state=42)\n"
      ],
      "metadata": {
        "id": "pLS2C7pY9yUT"
      },
      "execution_count": null,
      "outputs": []
    },
    {
      "cell_type": "code",
      "source": [
        "np.unique(mvcp2_target2.reshape(len(mvcp2_target2)))"
      ],
      "metadata": {
        "colab": {
          "base_uri": "https://localhost:8080/"
        },
        "id": "t-uMc_li_vpi",
        "outputId": "483a6765-7d20-4537-fe93-e66bced49108"
      },
      "execution_count": null,
      "outputs": [
        {
          "output_type": "execute_result",
          "data": {
            "text/plain": [
              "array(['SF', 'other', '가족', '공연실황', '공포', '다큐멘터리', '드라마', '멜로/로맨스', '모험',\n",
              "       '뮤지컬', '미스터리', '범죄', '스릴러', '애니메이션', '액션', '전쟁', '코미디', '판타지'],\n",
              "      dtype=object)"
            ]
          },
          "metadata": {},
          "execution_count": 68
        }
      ]
    },
    {
      "cell_type": "code",
      "source": [
        "rfc = RandomForestClassifier(n_estimators=200, max_depth=10, max_features='sqrt')\n",
        "\n",
        "rfc.fit(trd2, trt2)\n",
        "rfc.score(trd2, trt2), rfc.score(tsd2, tst2)\n",
        "\n",
        "from sklearn.model_selection import cross_val_score\n",
        "\n",
        "scores = cross_val_score(rfc, trd2, trt2, scoring='accuracy', cv=3)"
      ],
      "metadata": {
        "id": "mqQo6QJQ-c-i"
      },
      "execution_count": null,
      "outputs": []
    },
    {
      "cell_type": "code",
      "source": [
        "scores"
      ],
      "metadata": {
        "colab": {
          "base_uri": "https://localhost:8080/"
        },
        "id": "h3iyfUdy_ou9",
        "outputId": "fcbf28e8-2037-4281-907e-1f5feb4f4f7a"
      },
      "execution_count": null,
      "outputs": [
        {
          "output_type": "execute_result",
          "data": {
            "text/plain": [
              "array([0.47003155, 0.45425868, 0.46518987])"
            ]
          },
          "metadata": {},
          "execution_count": 70
        }
      ]
    },
    {
      "cell_type": "code",
      "source": [
        "rfc2 = RandomForestClassifier(class_weight='balanced')\n",
        "scores = cross_val_score(rfc2, trd2, trt2, scoring='accuracy', cv=5)"
      ],
      "metadata": {
        "colab": {
          "base_uri": "https://localhost:8080/"
        },
        "id": "ESmwivsICxBp",
        "outputId": "b609c4e8-735a-4075-d4e5-c32febbfa226"
      },
      "execution_count": null,
      "outputs": [
        {
          "output_type": "stream",
          "name": "stderr",
          "text": [
            "/usr/local/lib/python3.10/dist-packages/sklearn/model_selection/_split.py:700: UserWarning: The least populated class in y has only 4 members, which is less than n_splits=5.\n",
            "  warnings.warn(\n"
          ]
        }
      ]
    },
    {
      "cell_type": "code",
      "source": [
        "scores"
      ],
      "metadata": {
        "id": "0j3JjbvujGsE",
        "outputId": "854914b8-998c-4fe0-aad9-8fa739939d32",
        "colab": {
          "base_uri": "https://localhost:8080/"
        }
      },
      "execution_count": null,
      "outputs": [
        {
          "output_type": "execute_result",
          "data": {
            "text/plain": [
              "array([0.43157895, 0.44736842, 0.44736842, 0.46315789, 0.47368421])"
            ]
          },
          "metadata": {},
          "execution_count": 72
        }
      ]
    },
    {
      "cell_type": "code",
      "source": [
        "rfc2.fit(trd2, trt2)\n"
      ],
      "metadata": {
        "id": "xh_cbkRFDHyB"
      },
      "execution_count": null,
      "outputs": []
    },
    {
      "cell_type": "code",
      "source": [
        "from sklearn.metrics import classification_report\n",
        "print(classification_report(rfc2.predict(tsd2[:10]), tst2[:10]))\n"
      ],
      "metadata": {
        "id": "vTQbUQXMEv_4"
      },
      "execution_count": null,
      "outputs": []
    }
  ]
}