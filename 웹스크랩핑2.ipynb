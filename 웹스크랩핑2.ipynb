{
  "nbformat": 4,
  "nbformat_minor": 0,
  "metadata": {
    "colab": {
      "provenance": [],
      "authorship_tag": "ABX9TyP2lV2IY8dUO1a2iwCcLji8",
      "include_colab_link": true
    },
    "kernelspec": {
      "name": "python3",
      "display_name": "Python 3"
    },
    "language_info": {
      "name": "python"
    }
  },
  "cells": [
    {
      "cell_type": "markdown",
      "metadata": {
        "id": "view-in-github",
        "colab_type": "text"
      },
      "source": [
        "<a href=\"https://colab.research.google.com/github/chacha86/pythonai/blob/main/%EC%9B%B9%EC%8A%A4%ED%81%AC%EB%9E%A9%ED%95%912.ipynb\" target=\"_parent\"><img src=\"https://colab.research.google.com/assets/colab-badge.svg\" alt=\"Open In Colab\"/></a>"
      ]
    },
    {
      "cell_type": "code",
      "execution_count": 41,
      "metadata": {
        "id": "UdMBtdZVsX_c",
        "outputId": "628249f4-45cc-4a82-8fda-ba11ddb7583a",
        "colab": {
          "base_uri": "https://localhost:8080/"
        }
      },
      "outputs": [
        {
          "output_type": "execute_result",
          "data": {
            "text/plain": [
              "{'name': 'YTN',\n",
              " 'link': 'https://media.naver.com/press/052/ranking?type=popular'}"
            ]
          },
          "metadata": {},
          "execution_count": 41
        }
      ],
      "source": [
        "import requests\n",
        "\n",
        "## 브라우저인 척 하기위해 헤더 정보에 브라우저 정보 포함\n",
        "headers = {\n",
        "    'User-Agent' : 'Mozilla/5.0 (Windows NT 10.0; Win64; x64) AppleWebKit/537.36 (KHTML, like Gecko) Chrome/102.0.0.0 Safari/537.36'\n",
        "}\n",
        "\n",
        "## 해당 url로 요청 보내서 html 문서 받아오기\n",
        "r = requests.get('https://news.naver.com/main/ranking/popularDay.naver', headers=headers)\n",
        "    \n",
        "## html 문서 가져오기\n",
        "html_doc = r.text\n",
        "\n",
        "## BeautifulSoup 객체에 넘겨 파싱하기(정보를 태그 단위로 쪼개기)\n",
        "from bs4 import BeautifulSoup\n",
        "soup = BeautifulSoup(html_doc, 'html.parser')\n",
        "\n",
        "\n",
        "## css 선택자를 사용하기 위한 함수 =>\n",
        "### 1. select()  => 결과가 list\n",
        "### 2. select_one() => 결과가 1개\n",
        "\n",
        "## 텍스트와 속성값 얻기\n",
        "### 1. 태그.text\n",
        "### 2. 태그[key]\n",
        "###    - key = value\n",
        "\n",
        "# 1. 언론사 이름과 링크\n",
        "boxes = soup.select('.rankingnews_box')\n",
        "\n",
        "journal_list = []\n",
        "\n",
        "for box in boxes :\n",
        "\n",
        "  atag = box.select_one('.rankingnews_box_head')\n",
        "  strong = box.select_one('.rankingnews_name')\n",
        "\n",
        "  name = strong.text\n",
        "  link = atag['href']\n",
        "\n",
        "  journal = {\n",
        "      'name' : name,\n",
        "      'link' : link\n",
        "  }\n",
        "\n",
        "  journal_list.append(journal)\n",
        "\n",
        "target = None\n",
        "for journal in journal_list :\n",
        "  if journal['name'] == 'YTN' :\n",
        "    target = journal\n",
        "    break\n",
        "\n",
        "\n",
        "\n",
        "\n",
        "target\n"
      ]
    },
    {
      "cell_type": "code",
      "source": [
        "\n",
        "def get_page(url) :\n",
        "  r2 = requests.get(url, headers=headers)\n",
        "\n",
        "  html_doc2 = r2.text\n",
        "\n",
        "  ## BeautifulSoup 객체에 넘겨 파싱하기(정보를 태그 단위로 쪼개기)\n",
        "  from bs4 import BeautifulSoup\n",
        "  soup = BeautifulSoup(html_doc2, 'html.parser')\n",
        "\n",
        "  return soup\n",
        "\n",
        "## 함수로 쪼개라.\n",
        "\n",
        "## 페이지에서 전체 뉴스 가져오기\n",
        "def get_total_news(page) : \n",
        "  \n",
        "  total_news_list = []\n",
        "  groups = page.select('.press_ranking_box')\n",
        "  for group in groups :\n",
        "    news_list_tmp = get_news_by_group(group)\n",
        "    total_news_list.extend(news_list_tmp)\n",
        "\n",
        "  return total_news_list\n",
        "\n",
        "## 뉴스 그룹에서 뉴스 꺼내오기\n",
        "def get_news_by_group(group) :\n",
        "  news_list = []\n",
        "  thumb_list = group.select('.as_thumb')\n",
        "  for news in thumb_list :\n",
        "    atag = news.select_one('a')\n",
        "    link = atag['href']\n",
        "    title = atag.select_one('.list_title').text\n",
        "    \n",
        "    news = {\n",
        "        'title' : title,\n",
        "        'link' : link\n",
        "    }\n",
        "    news_list.append(news)\n",
        "\n",
        "  return news_list\n",
        "\n",
        "url = target['link']\n",
        "\n",
        "soup = get_page(url)\n",
        "result = get_total_news(soup)\n"
      ],
      "metadata": {
        "id": "WNcrnrDmBoVn"
      },
      "execution_count": 42,
      "outputs": []
    },
    {
      "cell_type": "code",
      "source": [
        "import json\n",
        "\n",
        "\n",
        "def save_to_json(filepath, data) :\n",
        "  with open(filepath,'w') as f :  \n",
        "    json_str = json.dumps(data, ensure_ascii=False) \n",
        "    f.write(json_str)\n",
        "\n",
        "\n"
      ],
      "metadata": {
        "id": "IosMoCZ6KnoB"
      },
      "execution_count": 43,
      "outputs": []
    },
    {
      "cell_type": "code",
      "source": [
        "def load_to_json(filepath) :\n",
        "  with open(filepath, 'r') as f:\n",
        "    json_str = f.read()\n",
        "    return json.loads(json_str)\n",
        "\n",
        "  \n"
      ],
      "metadata": {
        "id": "Yqld-UzwDGC0"
      },
      "execution_count": 44,
      "outputs": []
    },
    {
      "cell_type": "code",
      "source": [],
      "metadata": {
        "id": "GK_8ZbikAKKu"
      },
      "execution_count": null,
      "outputs": []
    },
    {
      "cell_type": "code",
      "source": [
        "save_to_json('ytn_news2.json', result)"
      ],
      "metadata": {
        "id": "jBGsgzzsMeym"
      },
      "execution_count": null,
      "outputs": []
    },
    {
      "cell_type": "code",
      "source": [
        "load_to_json('/content/ytn_news2.json')"
      ],
      "metadata": {
        "id": "2Uu7n3w0Mnia"
      },
      "execution_count": null,
      "outputs": []
    },
    {
      "cell_type": "code",
      "source": [
        "# 3. 랭킹뉴스를 날짜별로\n",
        "\n",
        "# 최근 10일 동안의 뉴스 가져오기\n",
        "\n",
        "#'https://media.naver.com/press/011/ranking?type=popular&date=20220202'\n",
        "\n",
        "from datetime import datetime, timedelta\n",
        "\n",
        "def date_range(start, end):\n",
        "    start = datetime.strptime(start, \"%Y%m%d\")\n",
        "    end = datetime.strptime(end, \"%Y%m%d\")\n",
        "    dates = [(start + timedelta(days=i)).strftime(\"%Y%m%d\") for i in range((end-start).days+1)]\n",
        "    return dates\n",
        "\n",
        "dates = date_range(\"20210101\", \"20210109\")\n",
        "\n",
        "# 오늘 날짜\n",
        "from datetime import datetime, timedelta\n",
        "\n",
        "today = datetime.today()            # 현재 날짜 가져오기\n",
        "\n",
        "formated_today = today.strftime('%Y%m%d')\n",
        "print(formated_today)\n",
        "\n",
        "\n",
        "# 날짜 계산\n",
        "## 날짜1 + 10일뒤\n",
        "## 날짜1 + 1년 뒤\n",
        "start_day = today - timedelta(days=10)\n",
        "end_day = today\n",
        "\n",
        "dates = date_range(start_day.strftime('%Y%m%d'), end_day.strftime('%Y%m%d'))\n"
      ],
      "metadata": {
        "id": "USOa-vH2FOAM"
      },
      "execution_count": null,
      "outputs": []
    },
    {
      "cell_type": "code",
      "source": [
        "def get_news_link_by_time(url) :\n",
        "  \n",
        "  link_list = []\n",
        "\n",
        "  for date in dates :\n",
        "    link = url + date\n",
        "    link_list.append(link)\n",
        "\n",
        "  return link_list\n",
        "\n",
        "\n",
        "\n",
        "journal_url1 = target['link'] + '&date=' \n",
        "news_link_by_time = get_news_link_by_time(journal_url1)\n",
        "\n",
        "\n",
        "\n"
      ],
      "metadata": {
        "id": "hDLWNbCGN8is"
      },
      "execution_count": null,
      "outputs": []
    },
    {
      "cell_type": "code",
      "source": [
        "\n",
        "# news_link_by_time -> 20230409 ~ 20230419 까지의 YTN 랭킹 뉴스 링크\n",
        "# get_page(link) -> link의 html 문서를 파싱해서 soup를 반환\n",
        "# get_total_news(soup) -> soup에서 랭킹 뉴스를 스크랩하는 함수\n",
        "# dates => 20230409 ~ 20230419 날짜 정보\n",
        "\n",
        "for date, news_link in zip(dates, news_link_by_time) :\n",
        "  soup = get_page(news_link)\n",
        "  news_list = get_total_news(soup)\n",
        "  save_to_json(f'YTN_{date}.json', news_list)  \n",
        "\n",
        "\n",
        "\n",
        "# 4. 특정 뉴스의 댓글 통계 정보"
      ],
      "metadata": {
        "id": "VL5UDYeKR25G"
      },
      "execution_count": null,
      "outputs": []
    },
    {
      "cell_type": "code",
      "source": [
        "age = 23\n",
        "\n",
        "print(f'안녕하세요 {age}살 홍길동입니다.')"
      ],
      "metadata": {
        "id": "664zg9_TSMZz"
      },
      "execution_count": null,
      "outputs": []
    },
    {
      "cell_type": "code",
      "source": [
        "li1 = [1,2,3]\n",
        "li2 = [4,5,6]\n",
        "\n",
        "\n",
        "for i, j in zip(li1, li2) :\n",
        "  print(i, j)\n",
        "\n"
      ],
      "metadata": {
        "id": "Txn5_01rQ0Q4"
      },
      "execution_count": null,
      "outputs": []
    }
  ]
}