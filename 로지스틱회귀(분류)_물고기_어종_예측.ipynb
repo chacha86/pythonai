{
  "nbformat": 4,
  "nbformat_minor": 0,
  "metadata": {
    "colab": {
      "provenance": [],
      "authorship_tag": "ABX9TyMPQXyaeL4aSpdHAf6eJh/3",
      "include_colab_link": true
    },
    "kernelspec": {
      "name": "python3",
      "display_name": "Python 3"
    },
    "language_info": {
      "name": "python"
    }
  },
  "cells": [
    {
      "cell_type": "markdown",
      "metadata": {
        "id": "view-in-github",
        "colab_type": "text"
      },
      "source": [
        "<a href=\"https://colab.research.google.com/github/chacha86/pythonai/blob/main/%EB%A1%9C%EC%A7%80%EC%8A%A4%ED%8B%B1%ED%9A%8C%EA%B7%80(%EB%B6%84%EB%A5%98)_%EB%AC%BC%EA%B3%A0%EA%B8%B0_%EC%96%B4%EC%A2%85_%EC%98%88%EC%B8%A1.ipynb\" target=\"_parent\"><img src=\"https://colab.research.google.com/assets/colab-badge.svg\" alt=\"Open In Colab\"/></a>"
      ]
    },
    {
      "cell_type": "code",
      "execution_count": null,
      "metadata": {
        "id": "gGJD1prm8lzn"
      },
      "outputs": [],
      "source": [
        "import pandas as pd\n",
        "import numpy as np\n",
        "import matplotlib.pyplot as plt\n",
        "import seaborn as sns\n",
        "\n",
        "fish = pd.read_csv('/content/Fish.csv')\n",
        "     \n",
        "\n",
        "## Bream, Smelt\n",
        "## 길이와 무게 특성만 고려\n",
        "\n",
        "bream_smelt = fish[(fish['Species'] == 'Bream') | (fish['Species'] == 'Smelt')]\n",
        "\n",
        "bream_smelt_train = bream_smelt[['Length1', 'Weight']]\n",
        "bream_smelt_target = bream_smelt['Species']\n",
        "\n",
        "## 학습데이터와 테스트 데이터 0.7, 0.3 비율로 만들어주세요.\n",
        "from sklearn.model_selection import train_test_split\n",
        "from sklearn.preprocessing import StandardScaler\n",
        "\n",
        "trd, tsd, trt, tst = train_test_split(bream_smelt_train, bream_smelt_target, train_size=0.7, random_state=42)\n",
        "\n",
        "ss = StandardScaler()\n",
        "\n",
        "scaled_trd = ss.fit_transform(trd)\n",
        "scaled_tsd = ss.transform(tsd)\n",
        "\n",
        "from sklearn.linear_model import LogisticRegression\n",
        "\n",
        "lr = LogisticRegression()\n",
        "lr.fit(scaled_trd, trt)\n",
        "lr.score(scaled_trd, trt), lr.score(scaled_tsd, tst)\n"
      ]
    },
    {
      "cell_type": "code",
      "source": [
        "# 시그모이드 함수 -> 입력값을 0 ~ 1 사이 값으로 환산. (확률로 사용하기 위함)\n",
        "def sigmoid(x):\n",
        "    return 1 / (1 + np.exp(-x))\n",
        "\n",
        "# -10부터 10까지 균일한 간격으로 100개 숫자 만들기    \n",
        "x = np.linspace(-10, 10, 100)\n",
        "\n",
        "# 시그모이드 함수 시각화\n",
        "sns.lineplot(x=x, y=sigmoid(x))"
      ],
      "metadata": {
        "id": "ntytK5jr_Zoi"
      },
      "execution_count": null,
      "outputs": []
    },
    {
      "cell_type": "code",
      "source": [
        "# 로지스틱 회귀의 가중치와 편향\n",
        "lr.coef_, lr.intercept_\n",
        "\n",
        "\n",
        "\n",
        "# 결정값 (회귀식의 결과)\n",
        "# y = -w1 * x - b / w2\n",
        "\n",
        "# 결정함수\n",
        "def decision_func(x) :\n",
        "  return  (1.78004648 * x + 1.8820759) / -1.31525904 \n",
        "\n",
        "\n",
        "# 길이가 0.31006874인 물고기의 결정값 \n",
        "z = decision_func(0.31006874)\n",
        "\n",
        "# 물고기가 양성일 확률\n",
        "sigmoid(z) # 13%\n",
        "\n",
        "# 양성 클래스(내가 관심있는 클래스), 음성 클래스(양성이 아닌 클래스)\n",
        "# 두개 중 하나 분류 -> 이진 분류\n",
        "\n",
        "\n",
        "\n",
        "\n",
        "z"
      ],
      "metadata": {
        "colab": {
          "base_uri": "https://localhost:8080/"
        },
        "id": "M8huzSWqAkGL",
        "outputId": "740518b1-8cc9-411b-9d2c-0d62ef848548"
      },
      "execution_count": 22,
      "outputs": [
        {
          "output_type": "execute_result",
          "data": {
            "text/plain": [
              "-1.85059565847579"
            ]
          },
          "metadata": {},
          "execution_count": 22
        }
      ]
    },
    {
      "cell_type": "code",
      "source": [
        "# 로지스틱 회귀 모델의 결정 함수\n",
        "lr.decision_function([[ 0.31006874,  0.24553694]])\n",
        "\n",
        "print(sigmoid(2.75695735)) # 0.05\n",
        "print(lr.classes_) # 클래스 종류\n",
        "\n",
        "lr.predict_proba([[ 0.31006874,  0.24553694]]) # 예측 확률\n",
        "\n"
      ],
      "metadata": {
        "colab": {
          "base_uri": "https://localhost:8080/"
        },
        "id": "LalRjJaWD2HZ",
        "outputId": "3b6df67c-ec30-4767-a5e5-e57a060ddbcb"
      },
      "execution_count": 28,
      "outputs": [
        {
          "output_type": "stream",
          "name": "stdout",
          "text": [
            "0.9403050743223704\n",
            "['Bream' 'Smelt']\n"
          ]
        },
        {
          "output_type": "execute_result",
          "data": {
            "text/plain": [
              "array([[0.94030507, 0.05969493]])"
            ]
          },
          "metadata": {},
          "execution_count": 28
        }
      ]
    }
  ]
}