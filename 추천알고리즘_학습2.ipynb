{
  "nbformat": 4,
  "nbformat_minor": 0,
  "metadata": {
    "colab": {
      "provenance": [],
      "authorship_tag": "ABX9TyMiyh8wSH6x5UgvNIP+Jb29",
      "include_colab_link": true
    },
    "kernelspec": {
      "name": "python3",
      "display_name": "Python 3"
    },
    "language_info": {
      "name": "python"
    }
  },
  "cells": [
    {
      "cell_type": "markdown",
      "metadata": {
        "id": "view-in-github",
        "colab_type": "text"
      },
      "source": [
        "<a href=\"https://colab.research.google.com/github/chacha86/pythonai/blob/main/%EC%B6%94%EC%B2%9C%EC%95%8C%EA%B3%A0%EB%A6%AC%EC%A6%98_%ED%95%99%EC%8A%B52.ipynb\" target=\"_parent\"><img src=\"https://colab.research.google.com/assets/colab-badge.svg\" alt=\"Open In Colab\"/></a>"
      ]
    },
    {
      "cell_type": "code",
      "execution_count": null,
      "metadata": {
        "id": "p0z1UHR_rcdA"
      },
      "outputs": [],
      "source": [
        "%pyspark\n",
        "\n",
        "df2 = spark.read.option(\"sep\", \",\").csv(\"/test/music/my_data.csv/\").toDF('userid', 'artistid', 'playcount')\n"
      ]
    },
    {
      "cell_type": "code",
      "source": [
        "%pyspark\n",
        "\n",
        "df3 = df2.select(df2.userid.cast('int'), df2.artistid.cast('int'), df2.playcount.cast('int'))"
      ],
      "metadata": {
        "id": "J-FNzWpcrgqQ"
      },
      "execution_count": null,
      "outputs": []
    },
    {
      "cell_type": "code",
      "source": [
        "%pyspark\n",
        "df4 = df3.filter(df3.userid.isNotNull() & df3.artistid.isNotNull() & df3.playcount.isNotNull())\n",
        "\n",
        "df4"
      ],
      "metadata": {
        "id": "4uNlzWoxrjuc"
      },
      "execution_count": null,
      "outputs": []
    },
    {
      "cell_type": "code",
      "source": [
        "%pyspark\n",
        "\n",
        "\n",
        "from pyspark.ml.recommendation import ALS\n",
        "\n",
        "als = ALS(maxIter=5, regParam=0.01, userCol=\"userid\", itemCol=\"artistid\", ratingCol=\"playcount\",\n",
        "          coldStartStrategy=\"drop\", rank=2, implicitPrefs=True)\n",
        "model = als.fit(df4)\n"
      ],
      "metadata": {
        "id": "FIi84VvxrlOQ"
      },
      "execution_count": null,
      "outputs": []
    },
    {
      "cell_type": "code",
      "source": [
        "%pyspark\n",
        "\n",
        "model.write().save('/test/model2')"
      ],
      "metadata": {
        "id": "2ThmDdPyrmk8"
      },
      "execution_count": null,
      "outputs": []
    },
    {
      "cell_type": "code",
      "source": [
        "%pyspark\n",
        "\n",
        "from pyspark.ml.recommendation import ALSModel\n",
        "als_model = ALSModel.load('/test/model2')"
      ],
      "metadata": {
        "id": "j8jblQADroAl"
      },
      "execution_count": null,
      "outputs": []
    },
    {
      "cell_type": "code",
      "source": [
        "%pyspark\n",
        "\n",
        "userRecs = model.recommendForAllUsers(3)\n",
        "\n",
        "\n",
        "userRecs"
      ],
      "metadata": {
        "id": "Byxr2aYzrp6L"
      },
      "execution_count": null,
      "outputs": []
    },
    {
      "cell_type": "code",
      "source": [
        "%pyspark\n",
        "\n",
        "userRecs.show(truncate=False)\n"
      ],
      "metadata": {
        "id": "V31EdATWrsHV"
      },
      "execution_count": null,
      "outputs": []
    },
    {
      "cell_type": "code",
      "source": [
        "%pyspark\n",
        "from pyspark.sql.functions import *\n",
        "\n",
        "userRecs.select(userRecs.userid, explode(userRecs.recommendations)).show()"
      ],
      "metadata": {
        "id": "PdAhegvcrubo"
      },
      "execution_count": null,
      "outputs": []
    },
    {
      "cell_type": "code",
      "source": [
        "%pyspark\n",
        "\n",
        "tmp = userRecs.select(userRecs.userid, explode(userRecs.recommendations))\n",
        "\n",
        "tmp\n"
      ],
      "metadata": {
        "id": "r_A6PttzrwJF"
      },
      "execution_count": null,
      "outputs": []
    },
    {
      "cell_type": "code",
      "source": [
        "%pyspark\n",
        "\n",
        "result = tmp.select(tmp.userid, tmp.col.artistid, tmp.col.rating)\n",
        "result.show()"
      ],
      "metadata": {
        "id": "m5sz3vRurxYb"
      },
      "execution_count": null,
      "outputs": []
    }
  ]
}