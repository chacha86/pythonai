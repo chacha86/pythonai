{
  "nbformat": 4,
  "nbformat_minor": 0,
  "metadata": {
    "colab": {
      "provenance": [],
      "authorship_tag": "ABX9TyNJlG0RfIukAem2Wh4vCg6v",
      "include_colab_link": true
    },
    "kernelspec": {
      "name": "python3",
      "display_name": "Python 3"
    },
    "language_info": {
      "name": "python"
    }
  },
  "cells": [
    {
      "cell_type": "markdown",
      "metadata": {
        "id": "view-in-github",
        "colab_type": "text"
      },
      "source": [
        "<a href=\"https://colab.research.google.com/github/chacha86/pythonai/blob/main/%EB%B0%B0%EB%93%9C%EC%95%84%EC%9D%B4%EB%93%9C%EB%A5%BC_%EA%B5%BF%EC%95%84%EC%9D%B4%EB%94%94%EB%A1%9C_%EB%B0%94%EA%BE%B8%EA%B3%A0_10%EB%A7%8C%EA%B0%9C_%EC%A0%80%EC%9E%A5.ipynb\" target=\"_parent\"><img src=\"https://colab.research.google.com/assets/colab-badge.svg\" alt=\"Open In Colab\"/></a>"
      ]
    },
    {
      "cell_type": "code",
      "execution_count": null,
      "metadata": {
        "id": "vMS9TE_-DOee"
      },
      "outputs": [],
      "source": [
        "%pyspark\n",
        "\n",
        "bg = spark.read.option(\"sep\", \"\\t\").csv(\"/test/music/profiledata_06-May-2005/artist_alias.txt\").toDF('badid', 'goodid')"
      ]
    },
    {
      "cell_type": "code",
      "source": [
        "%pyspark\n",
        "\n",
        "bg.summary().show()"
      ],
      "metadata": {
        "id": "qyep4scnDRfa"
      },
      "execution_count": null,
      "outputs": []
    },
    {
      "cell_type": "code",
      "source": [
        "%pyspark\n",
        "\n",
        "193027 - bg.filter(bg.badid.isNull()).count()"
      ],
      "metadata": {
        "id": "Z7S8spqjDT8D"
      },
      "execution_count": null,
      "outputs": []
    },
    {
      "cell_type": "code",
      "source": [
        "%pyspark\n",
        "\n",
        "bg2 = bg.filter(bg.badid.isNotNull())"
      ],
      "metadata": {
        "id": "pG6ZeEW4DWUM"
      },
      "execution_count": null,
      "outputs": []
    },
    {
      "cell_type": "code",
      "source": [
        "%pyspark\n",
        "\n",
        "bg3 = bg2.select(bg2.badid.cast(\"int\"), bg2.goodid.cast(\"int\"))"
      ],
      "metadata": {
        "id": "_7pOi8L0DY4B"
      },
      "execution_count": null,
      "outputs": []
    },
    {
      "cell_type": "code",
      "source": [
        "%pyspark\n",
        "\n",
        "\n",
        "## 유저_아티스트_데이터의 아티스트 아이디와 배드_굿 데이터의 배드 아이드를 연결해서 배드 아이디 찾기\n",
        "\n",
        "result = df4.join(bg3,df4.artistid ==  bg3.badid, \"left\")"
      ],
      "metadata": {
        "id": "J7VTCFrhDbAE"
      },
      "execution_count": null,
      "outputs": []
    },
    {
      "cell_type": "code",
      "source": [
        "%pyspark\n",
        "\n",
        "result.filter(result.badid.isNotNull()).count()"
      ],
      "metadata": {
        "id": "Rn0uQ8J7DdKX"
      },
      "execution_count": null,
      "outputs": []
    },
    {
      "cell_type": "code",
      "source": [
        "%pyspark\n",
        "\n",
        "## goodid 컬럼에서 null인건 원래 artistid로 대체, null이 아닌건 그냥 쓰면 됨\n",
        "\n",
        "## case when\n",
        "\n",
        "## udf -> map\n",
        "\n",
        "result2 = result.select(\n",
        "    result.userid,\n",
        "    when(result.goodid.isNull(), result.artistid).otherwise(result.goodid).alias('artistid'),\n",
        "    result.playcount\n",
        ")"
      ],
      "metadata": {
        "id": "PmlZN0hGDfqY"
      },
      "execution_count": null,
      "outputs": []
    },
    {
      "cell_type": "code",
      "source": [
        "%pyspark\n",
        "\n",
        "result3 = result2.groupby(\"userid\", \"artistid\").agg(sum(result2.playcount).alias(\"playcount\"))"
      ],
      "metadata": {
        "id": "UZIZ6wXXDh74"
      },
      "execution_count": null,
      "outputs": []
    },
    {
      "cell_type": "code",
      "source": [
        "%pyspark\n",
        "\n",
        "\n",
        "result4 = result3.limit(100000)"
      ],
      "metadata": {
        "id": "bkbn5KBbDkDL"
      },
      "execution_count": null,
      "outputs": []
    },
    {
      "cell_type": "code",
      "source": [
        "%pyspark\n",
        "\n",
        "result4.write.csv(\"hdfs://ai-server-01:9000/test/music/my_data.csv\", header=True)\n"
      ],
      "metadata": {
        "id": "TjFJAehODmQQ"
      },
      "execution_count": null,
      "outputs": []
    }
  ]
}