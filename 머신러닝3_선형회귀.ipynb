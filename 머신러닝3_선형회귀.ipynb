{
  "nbformat": 4,
  "nbformat_minor": 0,
  "metadata": {
    "colab": {
      "provenance": [],
      "authorship_tag": "ABX9TyMCqzxVArTIxr26UuEU/wrF",
      "include_colab_link": true
    },
    "kernelspec": {
      "name": "python3",
      "display_name": "Python 3"
    },
    "language_info": {
      "name": "python"
    }
  },
  "cells": [
    {
      "cell_type": "markdown",
      "metadata": {
        "id": "view-in-github",
        "colab_type": "text"
      },
      "source": [
        "<a href=\"https://colab.research.google.com/github/chacha86/pythonai/blob/main/%EB%A8%B8%EC%8B%A0%EB%9F%AC%EB%8B%9D3_%EC%84%A0%ED%98%95%ED%9A%8C%EA%B7%80.ipynb\" target=\"_parent\"><img src=\"https://colab.research.google.com/assets/colab-badge.svg\" alt=\"Open In Colab\"/></a>"
      ]
    },
    {
      "cell_type": "code",
      "execution_count": 1,
      "metadata": {
        "id": "fWdlG6nMHPVW"
      },
      "outputs": [],
      "source": [
        "import pandas as pd\n",
        "import numpy as np\n",
        "import matplotlib.pyplot as plt\n",
        "import seaborn as sns\n",
        "\n",
        "# 1. 데이터 준비\n",
        "df = pd.read_csv('/content/Fish.csv')"
      ]
    },
    {
      "cell_type": "code",
      "source": [
        "df2 = df[['Length1', 'Height', 'Width', 'Weight', 'Species']]\n",
        "df3 = df2.loc[df2['Species'] == 'Perch']"
      ],
      "metadata": {
        "id": "FcNM3E-bHbq1"
      },
      "execution_count": 12,
      "outputs": []
    },
    {
      "cell_type": "code",
      "source": [
        "# 선형회귀 -> 독립변수(원인)로 종속변수(결과) 예측\n",
        "# 다중회귀 -> 독립변수가 여러개인 것. ex) 독립 - 길이, 높이, 너비 , 종속 - 무게 \n",
        "# 다항회귀 -> 1차식으로는 설명이 안되는 복잡한 데이터를 설명하기 위해 차수를 높이는 방법.(다중회귀)"
      ],
      "metadata": {
        "id": "imZH11S3Hfeg"
      },
      "execution_count": null,
      "outputs": []
    },
    {
      "cell_type": "code",
      "source": [
        "from sklearn.model_selection import train_test_split\n",
        "trd, tsd, trt, tst = train_test_split(df3[['Length1']], df3['Weight'],train_size = 0.7, random_state=42)\n",
        "trd"
      ],
      "metadata": {
        "id": "N5s_3PwEIfgK"
      },
      "execution_count": null,
      "outputs": []
    },
    {
      "cell_type": "code",
      "source": [
        "from sklearn.linear_model import LinearRegression\n",
        "\n",
        "## 일반 선형회귀\n",
        "lr = LinearRegression()\n",
        "lr.fit(trd, trt)\n",
        "\n",
        "# 모델이 학습데이터에 대한 점수 낮고, 테스트 데이터에 대한 점수가 낮은 경우 -> 과소적합\n",
        "# 모델이 학습 데이터에 대한 점수가 매우 높은데, 테스트 점수는 낮은 경우 -> 과대 적합\n",
        "\n",
        "lr.score(trd, trt), lr.score(tsd, tst) # 약간의 과대적합으로 보임\n",
        "\n"
      ],
      "metadata": {
        "colab": {
          "base_uri": "https://localhost:8080/"
        },
        "id": "NHFCqlN_Iv8Y",
        "outputId": "68e4e9ed-2453-4f52-ddc4-d244f0432b9d"
      },
      "execution_count": 17,
      "outputs": [
        {
          "output_type": "execute_result",
          "data": {
            "text/plain": [
              "(0.9345639427973997, 0.8396353302211251)"
            ]
          },
          "metadata": {},
          "execution_count": 17
        }
      ]
    },
    {
      "cell_type": "code",
      "source": [
        "## 다항회귀 + 다중회귀\n",
        "## 다중 회귀 적용 (길이, 높이, 너비)\n",
        "\n",
        "mtrd, mtsd, mtrt, mtst = train_test_split(df3[['Length1', 'Height', 'Width']], df3['Weight'],train_size = 0.7, random_state=42)\n",
        "\n",
        "# 단일 선형회귀의 회귀식 모양\n",
        "# a * 길이 + b\n",
        "\n",
        "# 다중 선형회귀의 회귀식 모양\n",
        "# 회귀계수 a1,a2,a3 -> 가중치\n",
        "# a1 * 길이 + a2 * 높이 + a3 * 너비 + b\n",
        "\n",
        "\n",
        "## 다중 회귀 모델로 예측\n",
        "lr2 = LinearRegression()\n",
        "lr2.fit(mtrd, mtrt)\n",
        "\n",
        "lr2.score(mtrd, mtrt), lr2.score(mtsd, mtst)\n"
      ],
      "metadata": {
        "colab": {
          "base_uri": "https://localhost:8080/"
        },
        "id": "OMEGc8pdJpcR",
        "outputId": "d86ba9bd-ce07-4238-d036-b5fa8107e606"
      },
      "execution_count": 33,
      "outputs": [
        {
          "output_type": "execute_result",
          "data": {
            "text/plain": [
              "(0.9532592691768272, 0.8894875299277586)"
            ]
          },
          "metadata": {},
          "execution_count": 33
        }
      ]
    },
    {
      "cell_type": "code",
      "source": [
        "print(lr.coef_, lr.intercept_)\n",
        "print(lr2.coef_, lr2.intercept_)"
      ],
      "metadata": {
        "id": "fLth1SXmK_bI"
      },
      "execution_count": null,
      "outputs": []
    },
    {
      "cell_type": "code",
      "source": [
        "# 표준화 -> 서로 다른 분포를 가진 수치를 한 기준으로 통일하는 것\n",
        "from sklearn.preprocessing import StandardScaler\n",
        "\n",
        "## 변환기 -> 데이터 변형에 사용\n",
        "## 추정기 -> 데이터 예측에 사용\n",
        "ss = StandardScaler() # 표준화 변환기\n",
        "\n",
        "## 변환기 사용법\n",
        "## fit - 변환에 필요한 데이터 세팅\n",
        "## transform - 변환 수행\n",
        "\n",
        "ss.fit(mtrd, mtrt) # 데이터 세팅\n",
        "scaled_mtrd = ss.transform(mtrd) \n",
        "scaled_mtsd = ss.transform(mtsd)\n",
        "\n",
        "\n",
        "## 표준화된 데이터로 학습한 모델\n",
        "lr3 = LinearRegression()\n",
        "lr3.fit(scaled_mtrd, mtrt)\n",
        "\n",
        "lr3.score(scaled_mtrd, mtrt), lr3.score(scaled_mtsd, mtst)\n"
      ],
      "metadata": {
        "id": "8kpkOgPxLX-g"
      },
      "execution_count": null,
      "outputs": []
    },
    {
      "cell_type": "code",
      "source": [
        "# 기존의 특성(feature)을 바탕으로 새로운 특성을 만들어낼 수 있다.\n",
        "## 특성 공학(feature engeering)\n",
        "\n",
        "from sklearn.preprocessing import PolynomialFeatures\n",
        "poly = PolynomialFeatures(degree=5) # degree를 이용해 차수를 조정할 수 있다.\n",
        "\n",
        "poly.fit(scaled_mtrd, mtrt) \n",
        "poly_scaled_mtrd5 = poly.transform(scaled_mtrd)\n",
        "poly_scaled_mtsd5 = poly.transform(scaled_mtsd)\n",
        "\n",
        "#poly.get_feature_names_out() # 기존의 특성을 이용해 차수 5까지 새로운 특성을 조합해냄\n",
        "\n"
      ],
      "metadata": {
        "id": "biuOISGxL9O7"
      },
      "execution_count": 64,
      "outputs": []
    },
    {
      "cell_type": "code",
      "source": [
        "## 특성 공학을 적용한 모델\n",
        "lr4 = LinearRegression()\n",
        "lr4.fit(poly_scaled_mtrd5, mtrt)\n",
        "\n",
        "## 학습데이터 점수는 매우 높고, 테스트 데이터 점수는 낮게 나오는 경우 -> 과대적합\n",
        "lr4.score(poly_scaled_mtrd5, mtrt), lr4.score(poly_scaled_mtsd5, mtst)"
      ],
      "metadata": {
        "id": "vFzsLKGuPlsi"
      },
      "execution_count": null,
      "outputs": []
    },
    {
      "cell_type": "code",
      "source": [
        "## 과소적합 해결 -> 더 많은 데이터를 학습. 데이터를 더 복잡하게 만듦\n",
        "## 과대적합 해결 -> 규제를 가한다.\n",
        "\n",
        "## 규제가 적용된 회귀 모델 \n",
        "## 1. 릿지 -> 특성이 대체적으로 비슷한 경우, 일반적으로 많이 씀\n",
        "## 2. 라쏘 -> 중요한 특성이 확실히 보이는 경우.\n",
        "\n",
        "\n",
        "from sklearn.linear_model import Ridge\n",
        "ridge = Ridge()\n",
        "\n",
        "ridge.fit(poly_scaled_mtrd5, mtrt)\n",
        "ridge.score(poly_scaled_mtrd5, mtrt), ridge.score(poly_scaled_mtsd5, mtst)\n",
        "\n",
        "alpha_list = [0.001, 0.01, 0.1, 1, 10, 100, 1000]\n",
        "\n",
        "for alpha in alpha_list :\n",
        "  ridge.alpha = alpha\n",
        "  \n",
        "  ridge.fit(poly_scaled_mtrd5, mtrt)\n",
        "  print(ridge.score(poly_scaled_mtrd5, mtrt), ridge.score(poly_scaled_mtsd5, mtst))\n",
        "\n",
        "## 하이퍼 파라미터 alpha\n",
        "\n"
      ],
      "metadata": {
        "id": "ZlU8qbAzThrC"
      },
      "execution_count": null,
      "outputs": []
    },
    {
      "cell_type": "code",
      "source": [
        "# 기존의 특성(feature)을 바탕으로 새로운 특성을 만들어낼 수 있다.\n",
        "## 특성 공학(feature engeering)\n",
        "\n",
        "from sklearn.preprocessing import PolynomialFeatures\n",
        "poly2 = PolynomialFeatures(degree=2) # degree를 이용해 차수를 조정할 수 있다.\n",
        "\n",
        "poly2.fit(scaled_mtrd, mtrt) \n",
        "poly_scaled_mtrd2 = poly2.transform(scaled_mtrd)\n",
        "poly_scaled_mtsd2 = poly2.transform(scaled_mtsd)\n",
        "\n",
        "#poly2.get_feature_names_out()"
      ],
      "metadata": {
        "colab": {
          "base_uri": "https://localhost:8080/"
        },
        "id": "cgdaH92uVn3r",
        "outputId": "76356c0d-2313-438e-861c-b596b642e597"
      },
      "execution_count": 70,
      "outputs": [
        {
          "output_type": "execute_result",
          "data": {
            "text/plain": [
              "array(['1', 'x0', 'x1', 'x2', 'x0^2', 'x0 x1', 'x0 x2', 'x1^2', 'x1 x2',\n",
              "       'x2^2'], dtype=object)"
            ]
          },
          "metadata": {},
          "execution_count": 70
        }
      ]
    },
    {
      "cell_type": "code",
      "source": [
        "from sklearn.linear_model import Ridge\n",
        "ridge = Ridge()\n",
        "\n",
        "ridge.fit(poly_scaled_mtrd2, mtrt)\n",
        "ridge.score(poly_scaled_mtrd2, mtrt), ridge.score(poly_scaled_mtsd2, mtst)\n",
        "\n",
        "alpha_list = [0.001, 0.01, 0.1, 1, 10, 100, 1000]\n",
        "\n",
        "for alpha in alpha_list :\n",
        "  ridge.alpha = alpha\n",
        "  \n",
        "  ridge.fit(poly_scaled_mtrd2, mtrt)\n",
        "  print(ridge.score(poly_scaled_mtrd2, mtrt), ridge.score(poly_scaled_mtsd2, mtst))\n",
        "\n",
        "## 하이퍼 파라미터 alpha\n"
      ],
      "metadata": {
        "id": "krvpU-QTWtUH"
      },
      "execution_count": null,
      "outputs": []
    },
    {
      "cell_type": "code",
      "source": [
        "ridge2 = Ridge(alpha=0.1)\n",
        "ridge2.fit(poly_scaled_mtrd2, mtrt)"
      ],
      "metadata": {
        "id": "ekXkx_7AXZae"
      },
      "execution_count": null,
      "outputs": []
    },
    {
      "cell_type": "code",
      "source": [
        "# 라쏘를 이용해서 차수가 3인 학습 데이터를 학습시키고 평가하기\n",
        "from sklearn.linear_model import Lasso\n",
        "\n",
        "df2[['Length1',\t'Height',\t'Width']]\n",
        "df2['Weight']\n",
        "\n",
        "# 쪼개고\n",
        "mtrd, mtsd, mtrt, mtst = train_test_split(df2[['Length1',\t'Height',\t'Width']], df2['Weight'], train_size=0.7, random_state=42)\n",
        "\n",
        "# 표준화\n",
        "ss = StandardScaler()\n",
        "\n",
        "ss.fit(mtrd)\n",
        "scaled_mtrd = ss.transform(mtrd)\n",
        "scaled_mtsd = ss.transform(mtsd)\n",
        "\n",
        "# 피처 엔지니어링\n",
        "\n",
        "poly3 = PolynomialFeatures(degree=3)\n",
        "\n",
        "poly3.fit(scaled_mtrd)\n",
        "poly_scaled_mtrd3 = poly3.transform(scaled_mtrd)\n",
        "poly_scaled_mtsd3 = poly3.transform(scaled_mtsd)\n",
        "\n",
        "lasso = Lasso()\n",
        "lasso.fit(poly_scaled_mtrd3, mtrt)\n",
        "lasso.score(poly_scaled_mtrd3, mtrt), lasso.score(poly_scaled_mtsd3, mtst)"
      ],
      "metadata": {
        "id": "ItKFsJnKXq2H"
      },
      "execution_count": null,
      "outputs": []
    },
    {
      "cell_type": "code",
      "source": [],
      "metadata": {
        "id": "r8y_OLqLbcim"
      },
      "execution_count": null,
      "outputs": []
    }
  ]
}