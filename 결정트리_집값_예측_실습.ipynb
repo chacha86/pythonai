{
  "nbformat": 4,
  "nbformat_minor": 0,
  "metadata": {
    "colab": {
      "provenance": [],
      "authorship_tag": "ABX9TyNRrsmQF8GrkM9j7ndaCnIk",
      "include_colab_link": true
    },
    "kernelspec": {
      "name": "python3",
      "display_name": "Python 3"
    },
    "language_info": {
      "name": "python"
    }
  },
  "cells": [
    {
      "cell_type": "markdown",
      "metadata": {
        "id": "view-in-github",
        "colab_type": "text"
      },
      "source": [
        "<a href=\"https://colab.research.google.com/github/chacha86/pythonai/blob/main/%EA%B2%B0%EC%A0%95%ED%8A%B8%EB%A6%AC_%EC%A7%91%EA%B0%92_%EC%98%88%EC%B8%A1_%EC%8B%A4%EC%8A%B5.ipynb\" target=\"_parent\"><img src=\"https://colab.research.google.com/assets/colab-badge.svg\" alt=\"Open In Colab\"/></a>"
      ]
    },
    {
      "cell_type": "code",
      "execution_count": 1,
      "metadata": {
        "colab": {
          "base_uri": "https://localhost:8080/"
        },
        "id": "qbYVQ7XO2LiW",
        "outputId": "ae7474cb-08b5-46be-a540-353558d69b8f"
      },
      "outputs": [
        {
          "output_type": "stream",
          "name": "stdout",
          "text": [
            "Downloading california-housing-prices.zip to /content\n",
            "\r  0% 0.00/400k [00:00<?, ?B/s]\n",
            "\r100% 400k/400k [00:00<00:00, 85.2MB/s]\n",
            "Archive:  california-housing-prices.zip\n",
            "  inflating: housing.csv             \n"
          ]
        }
      ],
      "source": [
        "import os\n",
        "os.environ['KAGGLE_USERNAME'] = 'chasaem'\n",
        "os.environ['KAGGLE_KEY'] = 'e3dda6dc4ee9d517bb5226aacacae510'\n",
        "\n",
        "!kaggle datasets download -d camnugent/california-housing-prices\n",
        "!unzip '*.zip'"
      ]
    },
    {
      "cell_type": "code",
      "source": [
        "import pandas as pd\n",
        "import numpy as np\n",
        "import matplotlib.pyplot as plt\n",
        "import seaborn as sns\n",
        "\n",
        "house = pd.read_csv('/content/housing.csv')"
      ],
      "metadata": {
        "id": "MKqavwu35vO8"
      },
      "execution_count": 2,
      "outputs": []
    },
    {
      "cell_type": "code",
      "source": [
        "house.info() # total_bedrooms 결측치 존재, 범주컬럼1, 나머지 수치\n",
        "\n",
        "\n",
        "\n",
        "\n"
      ],
      "metadata": {
        "id": "G_tQLRNj580C",
        "colab": {
          "base_uri": "https://localhost:8080/"
        },
        "outputId": "b3df8ce6-80cb-4083-8073-6fcc8511759f"
      },
      "execution_count": 3,
      "outputs": [
        {
          "output_type": "stream",
          "name": "stdout",
          "text": [
            "<class 'pandas.core.frame.DataFrame'>\n",
            "RangeIndex: 20640 entries, 0 to 20639\n",
            "Data columns (total 10 columns):\n",
            " #   Column              Non-Null Count  Dtype  \n",
            "---  ------              --------------  -----  \n",
            " 0   longitude           20640 non-null  float64\n",
            " 1   latitude            20640 non-null  float64\n",
            " 2   housing_median_age  20640 non-null  float64\n",
            " 3   total_rooms         20640 non-null  float64\n",
            " 4   total_bedrooms      20433 non-null  float64\n",
            " 5   population          20640 non-null  float64\n",
            " 6   households          20640 non-null  float64\n",
            " 7   median_income       20640 non-null  float64\n",
            " 8   median_house_value  20640 non-null  float64\n",
            " 9   ocean_proximity     20640 non-null  object \n",
            "dtypes: float64(9), object(1)\n",
            "memory usage: 1.6+ MB\n"
          ]
        }
      ]
    },
    {
      "cell_type": "code",
      "source": [
        "house.corr()['median_house_value'].sort_values()"
      ],
      "metadata": {
        "id": "l4L-PAMv6J2A",
        "colab": {
          "base_uri": "https://localhost:8080/"
        },
        "outputId": "f1c9d40f-7c50-446b-8f66-91482b19ba5f"
      },
      "execution_count": 4,
      "outputs": [
        {
          "output_type": "stream",
          "name": "stderr",
          "text": [
            "<ipython-input-4-c971c9a08d64>:1: FutureWarning: The default value of numeric_only in DataFrame.corr is deprecated. In a future version, it will default to False. Select only valid columns or specify the value of numeric_only to silence this warning.\n",
            "  house.corr()['median_house_value'].sort_values()\n"
          ]
        },
        {
          "output_type": "execute_result",
          "data": {
            "text/plain": [
              "latitude             -0.144160\n",
              "longitude            -0.045967\n",
              "population           -0.024650\n",
              "total_bedrooms        0.049686\n",
              "households            0.065843\n",
              "housing_median_age    0.105623\n",
              "total_rooms           0.134153\n",
              "median_income         0.688075\n",
              "median_house_value    1.000000\n",
              "Name: median_house_value, dtype: float64"
            ]
          },
          "metadata": {},
          "execution_count": 4
        }
      ]
    },
    {
      "cell_type": "code",
      "source": [
        "train = house[['median_income']]\n",
        "target = house['median_house_value']\n",
        "\n",
        "from sklearn.model_selection import train_test_split\n",
        "\n",
        "# 학습/테스트 분리\n",
        "trd, tsd, trt, tst = train_test_split(train, target, random_state=42)\n",
        "\n",
        "from sklearn.preprocessing import StandardScaler\n",
        "\n",
        "ss = StandardScaler()\n",
        "\n",
        "scaled_trd = ss.fit_transform(trd)\n",
        "scaled_tsd = ss.fit_transform(tsd)\n",
        "\n",
        "# 표준화는 학습데이터만 하는 것.\n",
        "\n",
        "from sklearn.linear_model import LinearRegression\n",
        "\n",
        "lr = LinearRegression()\n",
        "lr.fit(trd, trt)\n",
        "lr.score(trd, trt), lr.score(tsd, tst)\n",
        "\n",
        "\n",
        "\n",
        "\n",
        "\n",
        "\n",
        "\n",
        "\n"
      ],
      "metadata": {
        "colab": {
          "base_uri": "https://localhost:8080/"
        },
        "id": "rK8DGQiD6gM4",
        "outputId": "2928fd6f-c2c2-4712-c632-16ee0051507e"
      },
      "execution_count": 5,
      "outputs": [
        {
          "output_type": "execute_result",
          "data": {
            "text/plain": [
              "(0.47430292180263645, 0.47083837938023365)"
            ]
          },
          "metadata": {},
          "execution_count": 5
        }
      ]
    },
    {
      "cell_type": "code",
      "source": [
        "house.columns"
      ],
      "metadata": {
        "colab": {
          "base_uri": "https://localhost:8080/"
        },
        "id": "1WCHgpCj8sia",
        "outputId": "535b32e7-b08f-4e90-bbe2-2473a15802c5"
      },
      "execution_count": 6,
      "outputs": [
        {
          "output_type": "execute_result",
          "data": {
            "text/plain": [
              "Index(['longitude', 'latitude', 'housing_median_age', 'total_rooms',\n",
              "       'total_bedrooms', 'population', 'households', 'median_income',\n",
              "       'median_house_value', 'ocean_proximity'],\n",
              "      dtype='object')"
            ]
          },
          "metadata": {},
          "execution_count": 6
        }
      ]
    },
    {
      "cell_type": "code",
      "source": [
        "\n",
        "## 모델의 성능을 끌어올리는 것이 목표\n",
        "## 1. 데이터를 더 많이 넣는 것. -> , 다항회귀\n",
        "## 다중회귀 적용. 모든 특성 사용.\n",
        "mtrain = house.drop('median_house_value', axis=1)\n",
        "\n",
        "## 표준화 -> 범주데이터가 있으면 표준화 불가.\n",
        "# scaled_mtrain = ss.fit_transform(mtrain)\n",
        "\n",
        "## 범주 데이터, 수치 데이터 분리\n",
        "mtrain_cate = mtrain[['ocean_proximity']]\n",
        "mtrain_num = mtrain.drop('ocean_proximity', axis=1)\n",
        "\n",
        "## 범주데이터 처리\n",
        "## 회귀에서는 범주데이터는 처리 불가.\n",
        "## 범주데이터 > 수치데이터 (인코딩)\n",
        "## 원핫인코딩\n",
        "from sklearn.preprocessing import OneHotEncoder\n",
        "\n",
        "encoder = OneHotEncoder()\n",
        "encoded_mtrain_cate = encoder.fit_transform(mtrain_cate)\n",
        "\n",
        "col_names = mtrain['ocean_proximity'].unique()\n",
        "mtrain_cate_1hot = pd.DataFrame(encoded_mtrain_cate.toarray(), columns=col_names)\n",
        "\n",
        "mtrain_cate_1hot\n"
      ],
      "metadata": {
        "id": "Fg58hdvN8RlE",
        "colab": {
          "base_uri": "https://localhost:8080/",
          "height": 423
        },
        "outputId": "cf73dc61-f90b-4380-c7d9-544bad7e0487"
      },
      "execution_count": 7,
      "outputs": [
        {
          "output_type": "execute_result",
          "data": {
            "text/plain": [
              "       NEAR BAY  <1H OCEAN  INLAND  NEAR OCEAN  ISLAND\n",
              "0           0.0        0.0     0.0         1.0     0.0\n",
              "1           0.0        0.0     0.0         1.0     0.0\n",
              "2           0.0        0.0     0.0         1.0     0.0\n",
              "3           0.0        0.0     0.0         1.0     0.0\n",
              "4           0.0        0.0     0.0         1.0     0.0\n",
              "...         ...        ...     ...         ...     ...\n",
              "20635       0.0        1.0     0.0         0.0     0.0\n",
              "20636       0.0        1.0     0.0         0.0     0.0\n",
              "20637       0.0        1.0     0.0         0.0     0.0\n",
              "20638       0.0        1.0     0.0         0.0     0.0\n",
              "20639       0.0        1.0     0.0         0.0     0.0\n",
              "\n",
              "[20640 rows x 5 columns]"
            ],
            "text/html": [
              "\n",
              "  <div id=\"df-f0bfa49b-3737-48e5-be92-b024d566064f\">\n",
              "    <div class=\"colab-df-container\">\n",
              "      <div>\n",
              "<style scoped>\n",
              "    .dataframe tbody tr th:only-of-type {\n",
              "        vertical-align: middle;\n",
              "    }\n",
              "\n",
              "    .dataframe tbody tr th {\n",
              "        vertical-align: top;\n",
              "    }\n",
              "\n",
              "    .dataframe thead th {\n",
              "        text-align: right;\n",
              "    }\n",
              "</style>\n",
              "<table border=\"1\" class=\"dataframe\">\n",
              "  <thead>\n",
              "    <tr style=\"text-align: right;\">\n",
              "      <th></th>\n",
              "      <th>NEAR BAY</th>\n",
              "      <th>&lt;1H OCEAN</th>\n",
              "      <th>INLAND</th>\n",
              "      <th>NEAR OCEAN</th>\n",
              "      <th>ISLAND</th>\n",
              "    </tr>\n",
              "  </thead>\n",
              "  <tbody>\n",
              "    <tr>\n",
              "      <th>0</th>\n",
              "      <td>0.0</td>\n",
              "      <td>0.0</td>\n",
              "      <td>0.0</td>\n",
              "      <td>1.0</td>\n",
              "      <td>0.0</td>\n",
              "    </tr>\n",
              "    <tr>\n",
              "      <th>1</th>\n",
              "      <td>0.0</td>\n",
              "      <td>0.0</td>\n",
              "      <td>0.0</td>\n",
              "      <td>1.0</td>\n",
              "      <td>0.0</td>\n",
              "    </tr>\n",
              "    <tr>\n",
              "      <th>2</th>\n",
              "      <td>0.0</td>\n",
              "      <td>0.0</td>\n",
              "      <td>0.0</td>\n",
              "      <td>1.0</td>\n",
              "      <td>0.0</td>\n",
              "    </tr>\n",
              "    <tr>\n",
              "      <th>3</th>\n",
              "      <td>0.0</td>\n",
              "      <td>0.0</td>\n",
              "      <td>0.0</td>\n",
              "      <td>1.0</td>\n",
              "      <td>0.0</td>\n",
              "    </tr>\n",
              "    <tr>\n",
              "      <th>4</th>\n",
              "      <td>0.0</td>\n",
              "      <td>0.0</td>\n",
              "      <td>0.0</td>\n",
              "      <td>1.0</td>\n",
              "      <td>0.0</td>\n",
              "    </tr>\n",
              "    <tr>\n",
              "      <th>...</th>\n",
              "      <td>...</td>\n",
              "      <td>...</td>\n",
              "      <td>...</td>\n",
              "      <td>...</td>\n",
              "      <td>...</td>\n",
              "    </tr>\n",
              "    <tr>\n",
              "      <th>20635</th>\n",
              "      <td>0.0</td>\n",
              "      <td>1.0</td>\n",
              "      <td>0.0</td>\n",
              "      <td>0.0</td>\n",
              "      <td>0.0</td>\n",
              "    </tr>\n",
              "    <tr>\n",
              "      <th>20636</th>\n",
              "      <td>0.0</td>\n",
              "      <td>1.0</td>\n",
              "      <td>0.0</td>\n",
              "      <td>0.0</td>\n",
              "      <td>0.0</td>\n",
              "    </tr>\n",
              "    <tr>\n",
              "      <th>20637</th>\n",
              "      <td>0.0</td>\n",
              "      <td>1.0</td>\n",
              "      <td>0.0</td>\n",
              "      <td>0.0</td>\n",
              "      <td>0.0</td>\n",
              "    </tr>\n",
              "    <tr>\n",
              "      <th>20638</th>\n",
              "      <td>0.0</td>\n",
              "      <td>1.0</td>\n",
              "      <td>0.0</td>\n",
              "      <td>0.0</td>\n",
              "      <td>0.0</td>\n",
              "    </tr>\n",
              "    <tr>\n",
              "      <th>20639</th>\n",
              "      <td>0.0</td>\n",
              "      <td>1.0</td>\n",
              "      <td>0.0</td>\n",
              "      <td>0.0</td>\n",
              "      <td>0.0</td>\n",
              "    </tr>\n",
              "  </tbody>\n",
              "</table>\n",
              "<p>20640 rows × 5 columns</p>\n",
              "</div>\n",
              "      <button class=\"colab-df-convert\" onclick=\"convertToInteractive('df-f0bfa49b-3737-48e5-be92-b024d566064f')\"\n",
              "              title=\"Convert this dataframe to an interactive table.\"\n",
              "              style=\"display:none;\">\n",
              "        \n",
              "  <svg xmlns=\"http://www.w3.org/2000/svg\" height=\"24px\"viewBox=\"0 0 24 24\"\n",
              "       width=\"24px\">\n",
              "    <path d=\"M0 0h24v24H0V0z\" fill=\"none\"/>\n",
              "    <path d=\"M18.56 5.44l.94 2.06.94-2.06 2.06-.94-2.06-.94-.94-2.06-.94 2.06-2.06.94zm-11 1L8.5 8.5l.94-2.06 2.06-.94-2.06-.94L8.5 2.5l-.94 2.06-2.06.94zm10 10l.94 2.06.94-2.06 2.06-.94-2.06-.94-.94-2.06-.94 2.06-2.06.94z\"/><path d=\"M17.41 7.96l-1.37-1.37c-.4-.4-.92-.59-1.43-.59-.52 0-1.04.2-1.43.59L10.3 9.45l-7.72 7.72c-.78.78-.78 2.05 0 2.83L4 21.41c.39.39.9.59 1.41.59.51 0 1.02-.2 1.41-.59l7.78-7.78 2.81-2.81c.8-.78.8-2.07 0-2.86zM5.41 20L4 18.59l7.72-7.72 1.47 1.35L5.41 20z\"/>\n",
              "  </svg>\n",
              "      </button>\n",
              "      \n",
              "  <style>\n",
              "    .colab-df-container {\n",
              "      display:flex;\n",
              "      flex-wrap:wrap;\n",
              "      gap: 12px;\n",
              "    }\n",
              "\n",
              "    .colab-df-convert {\n",
              "      background-color: #E8F0FE;\n",
              "      border: none;\n",
              "      border-radius: 50%;\n",
              "      cursor: pointer;\n",
              "      display: none;\n",
              "      fill: #1967D2;\n",
              "      height: 32px;\n",
              "      padding: 0 0 0 0;\n",
              "      width: 32px;\n",
              "    }\n",
              "\n",
              "    .colab-df-convert:hover {\n",
              "      background-color: #E2EBFA;\n",
              "      box-shadow: 0px 1px 2px rgba(60, 64, 67, 0.3), 0px 1px 3px 1px rgba(60, 64, 67, 0.15);\n",
              "      fill: #174EA6;\n",
              "    }\n",
              "\n",
              "    [theme=dark] .colab-df-convert {\n",
              "      background-color: #3B4455;\n",
              "      fill: #D2E3FC;\n",
              "    }\n",
              "\n",
              "    [theme=dark] .colab-df-convert:hover {\n",
              "      background-color: #434B5C;\n",
              "      box-shadow: 0px 1px 3px 1px rgba(0, 0, 0, 0.15);\n",
              "      filter: drop-shadow(0px 1px 2px rgba(0, 0, 0, 0.3));\n",
              "      fill: #FFFFFF;\n",
              "    }\n",
              "  </style>\n",
              "\n",
              "      <script>\n",
              "        const buttonEl =\n",
              "          document.querySelector('#df-f0bfa49b-3737-48e5-be92-b024d566064f button.colab-df-convert');\n",
              "        buttonEl.style.display =\n",
              "          google.colab.kernel.accessAllowed ? 'block' : 'none';\n",
              "\n",
              "        async function convertToInteractive(key) {\n",
              "          const element = document.querySelector('#df-f0bfa49b-3737-48e5-be92-b024d566064f');\n",
              "          const dataTable =\n",
              "            await google.colab.kernel.invokeFunction('convertToInteractive',\n",
              "                                                     [key], {});\n",
              "          if (!dataTable) return;\n",
              "\n",
              "          const docLinkHtml = 'Like what you see? Visit the ' +\n",
              "            '<a target=\"_blank\" href=https://colab.research.google.com/notebooks/data_table.ipynb>data table notebook</a>'\n",
              "            + ' to learn more about interactive tables.';\n",
              "          element.innerHTML = '';\n",
              "          dataTable['output_type'] = 'display_data';\n",
              "          await google.colab.output.renderOutput(dataTable, element);\n",
              "          const docLink = document.createElement('div');\n",
              "          docLink.innerHTML = docLinkHtml;\n",
              "          element.appendChild(docLink);\n",
              "        }\n",
              "      </script>\n",
              "    </div>\n",
              "  </div>\n",
              "  "
            ]
          },
          "metadata": {},
          "execution_count": 7
        }
      ]
    },
    {
      "cell_type": "code",
      "source": [
        "## 수치데이터 처리\n",
        "### 결측치 처리\n",
        "### 1. 특정값으로 대체(0, 평균, 중앙값, 최빈값 등등)\n",
        "### 2. 해당 행이나 열을 제외\n",
        "### 3. 특정 범주로 축소\n",
        "mtrain['total_bedrooms']\n",
        "\n",
        "# 히스토그램 or 박스플롯\n",
        "\n",
        "# sns.histplot(data=mtrain, x = 'total_bedrooms')\n",
        "# sns.boxplot(data=mtrain, y='total_bedrooms')\n",
        "\n",
        "\n",
        "## 이상치가 많으므로 중앙값으로 대체\n",
        "mtrain_num['total_bedrooms'] = mtrain_num['total_bedrooms'].fillna(mtrain_num['total_bedrooms'].median())\n",
        "\n",
        "## 학습/테스트분리하기 전에 범주랑 수치 합치기\n",
        "\n",
        "mtrain_1hot = pd.concat([mtrain_num, mtrain_cate_1hot], axis=1)\n",
        "\n",
        "\n",
        "## 학습/테스트분리\n",
        "mtrd, mtsd, mtrt, mtst = train_test_split(mtrain_1hot, target, random_state=42)\n",
        "\n",
        "## 표준화\n",
        "scaled_mtrd = ss.fit_transform(mtrd)\n",
        "scaled_mtsd = ss.transform(mtsd)\n",
        "\n",
        "lr2 = LinearRegression()\n",
        "lr2.fit(scaled_mtrd, mtrt)\n",
        "lr2.score(scaled_mtrd, mtrt), lr2.score(scaled_mtsd, mtst)\n"
      ],
      "metadata": {
        "colab": {
          "base_uri": "https://localhost:8080/"
        },
        "id": "UEpGbYAREx6Q",
        "outputId": "962410c4-defe-41b2-d6cc-e26e4f426504"
      },
      "execution_count": 8,
      "outputs": [
        {
          "output_type": "execute_result",
          "data": {
            "text/plain": [
              "(0.6472032405232842, 0.6374825568355214)"
            ]
          },
          "metadata": {},
          "execution_count": 8
        }
      ]
    },
    {
      "cell_type": "code",
      "source": [
        "## 회귀 평가 방법 -> RSquare, RMSE\n",
        "from sklearn.metrics import mean_squared_error\n",
        "\n",
        "predict_result = lr2.predict(scaled_mtrd)\n",
        "\n",
        "#predict_result[:5], mtrt[:5]\n",
        "mse = mean_squared_error(mtrt, predict_result)\n",
        "\n",
        "np.sqrt(mse) # 실제값과 예측값 사이에 평균 68000 정도의 차이가 발생한다.\n",
        "\n",
        "## 분포 -> 히스토그램, 박스플롯\n",
        "\n",
        "#sns.histplot(x=target)\n",
        "sns.boxplot(x=target)\n",
        "\n",
        "## 대부분의 집값 120000 ~ 270000 사이\n"
      ],
      "metadata": {
        "id": "D3jZQxEbJKb7"
      },
      "execution_count": null,
      "outputs": []
    },
    {
      "cell_type": "code",
      "source": [
        "from sklearn.tree import DecisionTreeRegressor\n",
        "\n",
        "dtr = DecisionTreeRegressor(max_depth=10)\n",
        "\n",
        "dtr.fit(scaled_mtrd, mtrt)\n",
        "dtr.score(scaled_mtrd, mtrt), dtr.score(scaled_mtsd, mtst)\n",
        "\n",
        "## 결정 트리의 단점 : 파라미터를 정해놓고 하는게 아니기 때문에 자유도 높음. 데이터의 모양을 따라간다. (과대적합이 쉽다.)\n",
        "\n"
      ],
      "metadata": {
        "id": "rqxaa5CA_hG0",
        "colab": {
          "base_uri": "https://localhost:8080/"
        },
        "outputId": "0c425d78-2710-4baa-8c24-da75da5605fe"
      },
      "execution_count": 25,
      "outputs": [
        {
          "output_type": "execute_result",
          "data": {
            "text/plain": [
              "(0.8295359656887884, 0.7201169647106243)"
            ]
          },
          "metadata": {},
          "execution_count": 25
        }
      ]
    },
    {
      "cell_type": "code",
      "source": [
        "\n",
        "## 2. 데이터 튜닝 - 스케일링, 피처 공학\n",
        "## 3. 하이퍼파라미터 튜닝 "
      ],
      "metadata": {
        "id": "kOWZIoIL8S3y"
      },
      "execution_count": 11,
      "outputs": []
    },
    {
      "cell_type": "code",
      "source": [],
      "metadata": {
        "id": "akgq9rYdoesX"
      },
      "execution_count": 11,
      "outputs": []
    }
  ]
}