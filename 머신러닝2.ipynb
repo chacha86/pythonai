{
  "nbformat": 4,
  "nbformat_minor": 0,
  "metadata": {
    "colab": {
      "provenance": [],
      "authorship_tag": "ABX9TyMG/4lQj5i99N7V+TsmoUQX",
      "include_colab_link": true
    },
    "kernelspec": {
      "name": "python3",
      "display_name": "Python 3"
    },
    "language_info": {
      "name": "python"
    }
  },
  "cells": [
    {
      "cell_type": "markdown",
      "metadata": {
        "id": "view-in-github",
        "colab_type": "text"
      },
      "source": [
        "<a href=\"https://colab.research.google.com/github/chacha86/pythonai/blob/main/%EB%A8%B8%EC%8B%A0%EB%9F%AC%EB%8B%9D2.ipynb\" target=\"_parent\"><img src=\"https://colab.research.google.com/assets/colab-badge.svg\" alt=\"Open In Colab\"/></a>"
      ]
    },
    {
      "cell_type": "code",
      "execution_count": null,
      "metadata": {
        "id": "Og9sP5UNziOZ"
      },
      "outputs": [],
      "source": [
        "\n",
        "## 분류 -> 범주형 데이터를 예측\n",
        "## 회귀 -> 수치형 데이터를 예측 (회귀선)\n",
        "\n",
        "## 물고기의 길이를 이용해서 무게를 예측\n",
        "\n",
        "\n",
        "\n",
        "\n",
        "\n",
        "\n",
        "\n",
        "\n"
      ]
    },
    {
      "cell_type": "code",
      "source": [
        "import pandas as pd\n",
        "import numpy as np\n",
        "import matplotlib.pyplot as plt\n",
        "import seaborn as sns\n",
        "\n",
        "# 1. 데이터 준비\n",
        "df = pd.read_csv('/content/Fish.csv')\n",
        "\n",
        "df\n"
      ],
      "metadata": {
        "id": "Jv0ki3yB07GM"
      },
      "execution_count": null,
      "outputs": []
    },
    {
      "cell_type": "code",
      "source": [
        "# 2. 탐색적 분석\n",
        "#df.info()\n",
        "\n",
        "sns.countplot(data=df, x='Species')"
      ],
      "metadata": {
        "id": "9QELPtrf1KpB"
      },
      "execution_count": null,
      "outputs": []
    },
    {
      "cell_type": "code",
      "source": [
        "# 3. 데이터 처리\n",
        "## 필요한데이터만 뽑아주세요.\n",
        "## 길이, 무게, Perch\n",
        "\n",
        "df2 = df[['Length1', 'Weight', 'Species']]\n",
        "df3 = df2.loc[df2['Species'] == 'Perch']\n"
      ],
      "metadata": {
        "id": "nMfnnaTg1agu"
      },
      "execution_count": 13,
      "outputs": []
    },
    {
      "cell_type": "code",
      "source": [
        "sns.scatterplot(data=df3, x='Length1', y='Weight')\n",
        "\n",
        "\n",
        "\n"
      ],
      "metadata": {
        "id": "6sR_xw2w1i2U"
      },
      "execution_count": null,
      "outputs": []
    },
    {
      "cell_type": "code",
      "source": [
        "\n",
        "## 회귀를 이용해서 무게 예측\n",
        "## 최근접 이웃 회귀\n",
        "\n",
        "from sklearn.neighbors import KNeighborsRegressor\n",
        "\n",
        "knr = KNeighborsRegressor()\n",
        "\n",
        "## 학습을 시켜주세요.\n",
        "## 문제 : 길이\n",
        "## 정답 : 무게\n",
        "\n",
        "## 학습용 문제, 학습용 정답, 시험용 문제, 시험용 정답.\n",
        "\n",
        "# t_idx = int(df3.shape[0] * 0.7) \n",
        "\n",
        "# ## 판다스 데이터프레임 섞기\n",
        "# df4 = df3.sample(frac=1, random_state=42).reset_index(drop=True)[['Length1', 'Weight']]\n",
        "\n",
        "# df4\n",
        "\n",
        "# trd = df4.iloc[:t_idx, ]\n",
        "# tsd = df4.iloc[t_idx:, ]\n",
        "\n",
        "# trt = trd['Weight'] # 학습용 정답\n",
        "# tst = tsd['Weight'] # 시험용 정답\n",
        "# trd = trd[['Length1']] # 학습용 문제\n",
        "# tsd = tsd[['Length1']] # 시험용 문제\n",
        "\n",
        "df4"
      ],
      "metadata": {
        "id": "B-g-ik1D3zwb"
      },
      "execution_count": null,
      "outputs": []
    },
    {
      "cell_type": "code",
      "source": [
        "from sklearn.model_selection import train_test_split\n",
        "trd, tsd, trt, tst = train_test_split(df4[['Length1']], df4['Weight'],train_size = 0.7, random_state=42)\n"
      ],
      "metadata": {
        "id": "ucLyVqf42z8h"
      },
      "execution_count": null,
      "outputs": []
    },
    {
      "cell_type": "code",
      "source": [
        "## 학습\n",
        "knr.fit(trd, trt)\n",
        "\n",
        "## 평가\n",
        "knr.score(trd, trt), knr.score(tsd, tst)\n",
        "\n",
        "## 예측\n",
        "knr.predict(tsd.iloc[[1], ]), tst.values[1]\n"
      ],
      "metadata": {
        "id": "b4X3XOUgAwE5"
      },
      "execution_count": null,
      "outputs": []
    },
    {
      "cell_type": "code",
      "source": [
        "## 문제\n",
        "#knr.predict([[50]])\n",
        "knr.predict([[700]])"
      ],
      "metadata": {
        "id": "Kpyli-5jCUZc"
      },
      "execution_count": null,
      "outputs": []
    },
    {
      "cell_type": "code",
      "source": [
        "sns.scatterplot(data=df4, x='Length1', y='Weight')\n",
        "plt.scatter(x=50, y=1000)\n",
        "plt.scatter(x=70, y=1000)\n",
        "\n",
        "## 기존의 데이터를 바탕으로 예측. \n",
        "\n",
        "\n"
      ],
      "metadata": {
        "id": "Fzwrnk0DCi2t"
      },
      "execution_count": null,
      "outputs": []
    },
    {
      "cell_type": "code",
      "source": [
        "# 선형 회귀\n",
        "## 회귀선 그리기\n",
        "\n",
        "## 함수 그래프 그리기\n",
        "# f(1) = 1\n",
        "# f(2) = 2\n",
        "# y = x\n",
        "def fun1(x) :\n",
        "  return x\n",
        "\n",
        "def fun2(x) :\n",
        "  return x * x\n",
        "\n",
        "def fun3(x) :\n",
        "  return x * x * x\n",
        "\n",
        "fig, ax = plt.subplots(ncols=3, figsize=(12, 5))\n",
        "\n",
        "# ## numpy 파이썬 속도차이\n",
        "# x = np.arange(-10, 10, 1)\n",
        "\n",
        "my_fun1 = np.vectorize(fun1)\n",
        "y = my_fun1(x)\n",
        "\n",
        "ax[0].plot(x, y)\n",
        "# plt.plot(x, y)\n",
        "\n",
        "my_fun2 = np.vectorize(fun2)\n",
        "y2 = my_fun2(x)\n",
        "ax[1].plot(x, y2)\n",
        "\n",
        "my_fun3 = np.vectorize(fun3)\n",
        "y3 = my_fun3(x)\n",
        "ax[2].plot(x, y3)\n",
        "\n",
        "# map, apply, apply\n",
        "\n",
        "\n"
      ],
      "metadata": {
        "id": "YVL1GRaCDynr"
      },
      "execution_count": null,
      "outputs": []
    },
    {
      "cell_type": "code",
      "source": [
        "from sklearn.linear_model import LinearRegression\n",
        "\n",
        "lr = LinearRegression()\n",
        "lr.fit(trd, trt)"
      ],
      "metadata": {
        "id": "l6JXnHTfKHPG"
      },
      "execution_count": null,
      "outputs": []
    },
    {
      "cell_type": "code",
      "source": [
        "lr.predict([[50]])\n",
        "lr.predict([[70]])"
      ],
      "metadata": {
        "id": "4H249qsFKbwZ"
      },
      "execution_count": null,
      "outputs": []
    },
    {
      "cell_type": "code",
      "source": [
        "# 튜닝 \n",
        "# 1. 데이터 튜닝\n",
        "# 2. 하이퍼 파라터 튜닝"
      ],
      "metadata": {
        "id": "1Bxsw42dK-QY"
      },
      "execution_count": null,
      "outputs": []
    }
  ]
}