{
  "nbformat": 4,
  "nbformat_minor": 0,
  "metadata": {
    "colab": {
      "provenance": [],
      "authorship_tag": "ABX9TyMhNd0IDJDxtJ9sTh/GSLfx",
      "include_colab_link": true
    },
    "kernelspec": {
      "name": "python3",
      "display_name": "Python 3"
    },
    "language_info": {
      "name": "python"
    }
  },
  "cells": [
    {
      "cell_type": "markdown",
      "metadata": {
        "id": "view-in-github",
        "colab_type": "text"
      },
      "source": [
        "<a href=\"https://colab.research.google.com/github/chacha86/pythonai/blob/main/%EB%A1%9C%EC%A7%80%EC%8A%A4%ED%8B%B1%ED%9A%8C%EA%B7%80(%EB%B6%84%EB%A5%98)_%EB%B6%93%EA%BD%83_%ED%92%88%EC%A2%85_%EC%98%88%EC%B8%A1.ipynb\" target=\"_parent\"><img src=\"https://colab.research.google.com/assets/colab-badge.svg\" alt=\"Open In Colab\"/></a>"
      ]
    },
    {
      "cell_type": "code",
      "execution_count": 12,
      "metadata": {
        "id": "QamjhIVjbzxY"
      },
      "outputs": [],
      "source": [
        "from sklearn.datasets import load_iris\n",
        "\n",
        "iris = load_iris()\n",
        "\n",
        "## 붓꽃 데이터\n",
        "iris_data = iris.data\n",
        "\n",
        "## 특성 이름\n",
        "iris_feature_names = iris.feature_names\n",
        "\n",
        "## 붓꽃 클래스\n",
        "iris_target = iris.target\n",
        "\n",
        "## 클래스 이름\n",
        "iris_target_names = iris.target_names\n",
        "\n",
        "\n",
        "## 문제 -> 아래 다섯개의 품종을 맞추는 모델을 만들어주세요.\n",
        "# 6.1  3.0  4.9,  1.8\n",
        "# 4.8  3.4  1.6,  0.2\n",
        "# 5.7  3.8  1.7,  0.3\n",
        "# 5.6  2.8  4.5,  1.3\n",
        "# 5.8  2.7  3.9,  1.2\n",
        "\n",
        "## "
      ]
    }
  ]
}