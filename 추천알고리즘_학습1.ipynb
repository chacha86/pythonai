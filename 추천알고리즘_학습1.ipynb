{
  "nbformat": 4,
  "nbformat_minor": 0,
  "metadata": {
    "colab": {
      "provenance": [],
      "authorship_tag": "ABX9TyOXcLZ0qJ36s8kTX+7XS5BM",
      "include_colab_link": true
    },
    "kernelspec": {
      "name": "python3",
      "display_name": "Python 3"
    },
    "language_info": {
      "name": "python"
    }
  },
  "cells": [
    {
      "cell_type": "markdown",
      "metadata": {
        "id": "view-in-github",
        "colab_type": "text"
      },
      "source": [
        "<a href=\"https://colab.research.google.com/github/chacha86/pythonai/blob/main/%EC%B6%94%EC%B2%9C%EC%95%8C%EA%B3%A0%EB%A6%AC%EC%A6%98_%ED%95%99%EC%8A%B51.ipynb\" target=\"_parent\"><img src=\"https://colab.research.google.com/assets/colab-badge.svg\" alt=\"Open In Colab\"/></a>"
      ]
    },
    {
      "cell_type": "code",
      "execution_count": null,
      "metadata": {
        "id": "LhJlO6RCIepQ"
      },
      "outputs": [],
      "source": [
        "%pyspark\n",
        "\n",
        "df2 = spark.read.option(\"sep\", \",\").csv(\"/test/music/my_data.csv/\").toDF('userid', 'artistid', 'playcount')\n",
        "\n"
      ]
    },
    {
      "cell_type": "code",
      "source": [
        "%pyspark\n",
        "\n",
        "df3 = df2.select(df2.userid.cast('int'), df2.artistid.cast('int'), df2.playcount.cast('int'))\n"
      ],
      "metadata": {
        "id": "MS2G-MlQIh9D"
      },
      "execution_count": null,
      "outputs": []
    },
    {
      "cell_type": "code",
      "source": [
        "%pyspark\n",
        "\n",
        "\n",
        "df4 = df3.filter(df3.userid.isNotNull() & df3.artistid.isNotNull() & df3.playcount.isNotNull())\n",
        "\n",
        "df4"
      ],
      "metadata": {
        "id": "XaO7i6xdIi-O"
      },
      "execution_count": null,
      "outputs": []
    },
    {
      "cell_type": "code",
      "source": [
        "%pyspark\n",
        "\n",
        "from pyspark.ml.recommendation import ALS\n",
        "\n",
        "als = ALS(maxIter=5, regParam=0.01, userCol=\"userid\", itemCol=\"artistid\", ratingCol=\"playcount\",\n",
        "          coldStartStrategy=\"drop\", rank=2, implicitPrefs=True)\n",
        "model = als.fit(df4)"
      ],
      "metadata": {
        "id": "OBIJ-GL9IkLD"
      },
      "execution_count": null,
      "outputs": []
    },
    {
      "cell_type": "code",
      "source": [
        "%pyspark\n",
        "\n",
        "userRecs = model.recommendForAllUsers(3)\n",
        "\n",
        "movieRecs = model.recommendForAllItems(3)"
      ],
      "metadata": {
        "id": "slmrePUDIl2d"
      },
      "execution_count": null,
      "outputs": []
    },
    {
      "cell_type": "code",
      "source": [
        "%pyspark\n",
        "from pyspark.sql.types import *\n",
        "\n",
        "data = [(90,), (98,), (116,)]\n",
        "schema = StructType([StructField(\"userid\", IntegerType(), True),])\n",
        "\n",
        "my_user = spark.createDataFrame(data=data, schema=schema)\n",
        "my_user.show()\n"
      ],
      "metadata": {
        "id": "15-iYOUzInWH"
      },
      "execution_count": null,
      "outputs": []
    },
    {
      "cell_type": "code",
      "source": [
        "%pyspark\n",
        "result = model.recommendForUserSubset(my_user, 3)\n",
        "\n",
        "result.show()"
      ],
      "metadata": {
        "id": "stMCDEoeIoqC"
      },
      "execution_count": null,
      "outputs": []
    }
  ]
}