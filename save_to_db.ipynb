{
  "nbformat": 4,
  "nbformat_minor": 0,
  "metadata": {
    "colab": {
      "provenance": [],
      "authorship_tag": "ABX9TyNuwUhtDMAu7Ui2kjKp1qdE",
      "include_colab_link": true
    },
    "kernelspec": {
      "name": "python3",
      "display_name": "Python 3"
    },
    "language_info": {
      "name": "python"
    }
  },
  "cells": [
    {
      "cell_type": "markdown",
      "metadata": {
        "id": "view-in-github",
        "colab_type": "text"
      },
      "source": [
        "<a href=\"https://colab.research.google.com/github/chacha86/pythonai/blob/main/save_to_db.ipynb\" target=\"_parent\"><img src=\"https://colab.research.google.com/assets/colab-badge.svg\" alt=\"Open In Colab\"/></a>"
      ]
    },
    {
      "cell_type": "code",
      "execution_count": null,
      "metadata": {
        "id": "0wvxCjaG_PiK"
      },
      "outputs": [],
      "source": [
        "%pyspark\n",
        "\n",
        "# 1. 추천 정보\n",
        "df2 = spark.read.option(\"sep\", \",\").csv(\"/test/music/my_data.csv/\").toDF('userid', 'artistid', 'playcount')"
      ]
    },
    {
      "cell_type": "code",
      "source": [
        "%pyspark\n",
        "\n",
        "df3 = df2.select(df2.userid.cast('int'), df2.artistid.cast('int'), df2.playcount.cast('int'))"
      ],
      "metadata": {
        "id": "fshBXqxi_bxE"
      },
      "execution_count": null,
      "outputs": []
    },
    {
      "cell_type": "code",
      "source": [
        "%pyspark\n",
        "df4 = df3.filter(df3.userid.isNotNull() & df3.artistid.isNotNull() & df3.playcount.isNotNull())"
      ],
      "metadata": {
        "id": "SAyOofpJ_dS7"
      },
      "execution_count": null,
      "outputs": []
    },
    {
      "cell_type": "code",
      "source": [
        "%pyspark\n",
        "from pyspark.ml.recommendation import ALSModel\n",
        "model = ALSModel.load('/test/model2')"
      ],
      "metadata": {
        "id": "n--t3Ii7_eeC"
      },
      "execution_count": null,
      "outputs": []
    },
    {
      "cell_type": "code",
      "source": [
        "%pyspark\n",
        "userRecs = model.recommendForAllUsers(3)"
      ],
      "metadata": {
        "id": "UOmzjf_S_gB9"
      },
      "execution_count": null,
      "outputs": []
    },
    {
      "cell_type": "code",
      "source": [
        "%pyspark\n",
        "from pyspark.sql.functions import *\n",
        "\n",
        "tmp = userRecs.select(userRecs.userid, explode(userRecs.recommendations))\n",
        "result = tmp.select(tmp.userid, tmp.col.artistid.alias('artistid'), tmp.col.rating.alias('rating'))\n",
        "\n",
        "result"
      ],
      "metadata": {
        "id": "wE3P4uzF_grf"
      },
      "execution_count": null,
      "outputs": []
    },
    {
      "cell_type": "code",
      "source": [
        "%pyspark\n",
        "\n",
        "result.write \\\n",
        "  .format(\"jdbc\") \\\n",
        "  .option(\"url\", \"jdbc:mysql://ai-server-01:3306/t1\") \\\n",
        "  .option(\"dbtable\", \"recommendation\") \\\n",
        "  .option(\"user\", \"korea\") \\\n",
        "  .option(\"password\", \"korea1234\") \\\n",
        "  .mode(\"append\") \\\n",
        "  .save()"
      ],
      "metadata": {
        "id": "piD_Ys4z_iHo"
      },
      "execution_count": null,
      "outputs": []
    },
    {
      "cell_type": "code",
      "source": [
        "%pyspark\n",
        "# 2. 유저 정보\n",
        "\n",
        "## 로그인 아이디   -> id_유저번호\n",
        "## 로그인 비밀번호 -> 1234\n",
        "## 닉네임 -> name_유저번호\n",
        "user_data = result.select('userid').distinct() \\\n",
        ".withColumn('loginid', concat(lit('id_'), result.userid)) \\\n",
        ".withColumn('loginpw', lit('1234')) \\\n",
        ".withColumn('nickname', concat(lit('name_'), result.userid)) \\"
      ],
      "metadata": {
        "id": "DuBto7Vc_kdr"
      },
      "execution_count": null,
      "outputs": []
    },
    {
      "cell_type": "code",
      "source": [
        "%pyspark\n",
        "user_data.write \\\n",
        "  .format(\"jdbc\") \\\n",
        "  .option(\"url\", \"jdbc:mysql://ai-server-01:3306/t1\") \\\n",
        "  .option(\"dbtable\", \"user\") \\\n",
        "  .option(\"user\", \"korea\") \\\n",
        "  .option(\"password\", \"korea1234\") \\\n",
        "  .mode(\"append\") \\\n",
        "  .save()"
      ],
      "metadata": {
        "id": "kf4je3r7_nXB"
      },
      "execution_count": null,
      "outputs": []
    },
    {
      "cell_type": "code",
      "source": [
        "%pyspark\n",
        "# 3. 아티스트 정보\n",
        "\n",
        "artist = spark.read.option(\"sep\", \"\\t\").csv(\"/test/music/profiledata_06-May-2005/artist_data.txt\").toDF('artistid', 'artistname')"
      ],
      "metadata": {
        "id": "eUdPJruC_nwN"
      },
      "execution_count": null,
      "outputs": []
    },
    {
      "cell_type": "code",
      "source": [
        "%pyspark\n",
        "art2 = artist.filter((artist.artistid.isNotNull())  &  (artist.artistname.isNotNull())  )"
      ],
      "metadata": {
        "id": "tFFhuKCo_o6W"
      },
      "execution_count": null,
      "outputs": []
    },
    {
      "cell_type": "code",
      "source": [
        "%pyspark\n",
        "\n",
        "from pyspark.sql.functions import *\n",
        "from pyspark.sql.types import *\n",
        "\n",
        "# 문자 데이터가 포함된 행을 제거\n",
        "\n",
        "## pandas의 map 방식\n",
        "\n",
        "def my_is_digit(x) :\n",
        "  if x.isdigit() :\n",
        "    return True\n",
        "  else :\n",
        "    return False\n",
        "\n",
        "\n",
        "my_digit = udf(my_is_digit, BooleanType())\n",
        "\n",
        "\n",
        "art3 = art2.filter(my_digit(art2.artistid))"
      ],
      "metadata": {
        "id": "_YsGsudh_rWn"
      },
      "execution_count": null,
      "outputs": []
    },
    {
      "cell_type": "code",
      "source": [
        "%pyspark\n",
        "\n",
        "art4 = art3.select(art3.artistid.cast(\"int\"), art3.artistname)"
      ],
      "metadata": {
        "id": "RezwCbv7_s6R"
      },
      "execution_count": null,
      "outputs": []
    },
    {
      "cell_type": "code",
      "source": [
        "%pyspark\n",
        "art4.write \\\n",
        "  .format(\"jdbc\") \\\n",
        "  .option(\"url\", \"jdbc:mysql://ai-server-01:3306/t1\") \\\n",
        "  .option(\"dbtable\", \"artist\") \\\n",
        "  .option(\"user\", \"korea\") \\\n",
        "  .option(\"password\", \"korea1234\") \\\n",
        "  .mode(\"append\") \\\n",
        "  .save()"
      ],
      "metadata": {
        "id": "94Bov-RP_udY"
      },
      "execution_count": null,
      "outputs": []
    }
  ]
}