{
  "nbformat": 4,
  "nbformat_minor": 0,
  "metadata": {
    "colab": {
      "provenance": [],
      "authorship_tag": "ABX9TyOtOSvEqNhIp/+xqc8R0GvZ",
      "include_colab_link": true
    },
    "kernelspec": {
      "name": "python3",
      "display_name": "Python 3"
    },
    "language_info": {
      "name": "python"
    }
  },
  "cells": [
    {
      "cell_type": "markdown",
      "metadata": {
        "id": "view-in-github",
        "colab_type": "text"
      },
      "source": [
        "<a href=\"https://colab.research.google.com/github/chacha86/pythonai/blob/main/%EC%9B%B9%EC%8A%A4%ED%81%AC%EB%9E%A9%ED%95%912.ipynb\" target=\"_parent\"><img src=\"https://colab.research.google.com/assets/colab-badge.svg\" alt=\"Open In Colab\"/></a>"
      ]
    },
    {
      "cell_type": "code",
      "execution_count": null,
      "metadata": {
        "id": "UdMBtdZVsX_c"
      },
      "outputs": [],
      "source": [
        "import requests\n",
        "\n",
        "## 브라우저인 척 하기위해 헤더 정보에 브라우저 정보 포함\n",
        "headers = {\n",
        "    'User-Agent' : 'Mozilla/5.0 (Windows NT 10.0; Win64; x64) AppleWebKit/537.36 (KHTML, like Gecko) Chrome/102.0.0.0 Safari/537.36'\n",
        "}\n",
        "\n",
        "## 해당 url로 요청 보내서 html 문서 받아오기\n",
        "r = requests.get('https://news.naver.com/main/ranking/popularDay.naver', headers=headers)\n",
        "    \n",
        "## html 문서 가져오기\n",
        "html_doc = r.text\n",
        "\n",
        "## BeautifulSoup 객체에 넘겨 파싱하기(정보를 태그 단위로 쪼개기)\n",
        "from bs4 import BeautifulSoup\n",
        "soup = BeautifulSoup(html_doc, 'html.parser')\n",
        "\n",
        "\n",
        "## css 선택자를 사용하기 위한 함수 =>\n",
        "### 1. select()  => 결과가 list\n",
        "### 2. select_one() => 결과가 1개\n",
        "\n",
        "## 텍스트와 속성값 얻기\n",
        "### 1. 태그.text\n",
        "### 2. 태그[key]\n",
        "###    - key = value\n",
        "\n",
        "# 1. 언론사 이름과 링크\n",
        "boxes = soup.select('.rankingnews_box')\n",
        "\n",
        "journal_list = []\n",
        "\n",
        "for box in boxes :\n",
        "\n",
        "  atag = box.select_one('.rankingnews_box_head')\n",
        "  strong = box.select_one('.rankingnews_name')\n",
        "\n",
        "  name = strong.text\n",
        "  link = atag['href']\n",
        "\n",
        "  journal = {\n",
        "      'name' : name,\n",
        "      'link' : link\n",
        "  }\n",
        "\n",
        "  journal_list.append(journal)\n",
        "\n",
        "target = None\n",
        "for journal in journal_list :\n",
        "  if journal['name'] == 'YTN' :\n",
        "    target = journal\n",
        "    break\n",
        "\n",
        "\n",
        "\n",
        "\n",
        "\n"
      ]
    },
    {
      "cell_type": "code",
      "source": [
        "r2 = requests.get(target['link'], headers=headers)\n",
        "\n",
        "html_doc2 = r2.text\n",
        "\n",
        "## BeautifulSoup 객체에 넘겨 파싱하기(정보를 태그 단위로 쪼개기)\n",
        "from bs4 import BeautifulSoup\n",
        "soup2 = BeautifulSoup(html_doc2, 'html.parser')\n",
        "\n",
        "\n",
        "## 함수로 쪼개라.\n",
        "\n",
        "## 페이지에서 전체 뉴스 가져오기\n",
        "def get_total_news(page) : \n",
        "  \n",
        "  total_news_list = []\n",
        "\n",
        "  groups = soup2.select('.press_ranking_box')\n",
        "  for group in groups :\n",
        "    news_list_tmp = get_news_by_group(group)\n",
        "    total_news_list.extend(news_list_tmp)\n",
        "\n",
        "  return total_news_list\n",
        "\n",
        "## 뉴스 그룹에서 뉴스 꺼내오기\n",
        "def get_news_by_group(group) :\n",
        "  news_list = []\n",
        "  thumb_list = group.select('.as_thumb')\n",
        "  for news in thumb_list :\n",
        "    atag = news.select_one('a')\n",
        "    link = atag['href']\n",
        "    title = atag.select_one('.list_title').text\n",
        "    \n",
        "    news = {\n",
        "        'title' : title,\n",
        "        'link' : link\n",
        "    }\n",
        "    news_list.append(news)\n",
        "\n",
        "  return news_list\n",
        "\n",
        "\n",
        "result = get_total_news(soup2)"
      ],
      "metadata": {
        "id": "WNcrnrDmBoVn"
      },
      "execution_count": 52,
      "outputs": []
    },
    {
      "cell_type": "code",
      "source": [
        "import json\n",
        "\n",
        "\n",
        "def save_to_json(filepath, data) :\n",
        "  with open(filepath,'w') as f :  \n",
        "    json_str = json.dumps(data, ensure_ascii=False) \n",
        "    f.write(json_str)\n",
        "\n",
        "\n"
      ],
      "metadata": {
        "id": "IosMoCZ6KnoB"
      },
      "execution_count": 57,
      "outputs": []
    },
    {
      "cell_type": "code",
      "source": [
        "def load_to_json(filepath) :\n",
        "  with open(filepath, 'r') as f:\n",
        "    json_str = f.read()\n",
        "    return json.loads(json_str)\n",
        "\n",
        "  \n"
      ],
      "metadata": {
        "id": "Yqld-UzwDGC0"
      },
      "execution_count": 58,
      "outputs": []
    },
    {
      "cell_type": "code",
      "source": [
        "save_to_json('ytn_news2.json', result)"
      ],
      "metadata": {
        "id": "jBGsgzzsMeym"
      },
      "execution_count": 59,
      "outputs": []
    },
    {
      "cell_type": "code",
      "source": [
        "load_to_json('/content/ytn_news2.json')"
      ],
      "metadata": {
        "id": "2Uu7n3w0Mnia"
      },
      "execution_count": null,
      "outputs": []
    }
  ]
}