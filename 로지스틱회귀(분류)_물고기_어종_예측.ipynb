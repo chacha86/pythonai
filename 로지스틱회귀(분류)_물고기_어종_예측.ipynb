{
  "nbformat": 4,
  "nbformat_minor": 0,
  "metadata": {
    "colab": {
      "provenance": [],
      "authorship_tag": "ABX9TyOSI9QhlBmwlFnVV3Wb21Om",
      "include_colab_link": true
    },
    "kernelspec": {
      "name": "python3",
      "display_name": "Python 3"
    },
    "language_info": {
      "name": "python"
    }
  },
  "cells": [
    {
      "cell_type": "markdown",
      "metadata": {
        "id": "view-in-github",
        "colab_type": "text"
      },
      "source": [
        "<a href=\"https://colab.research.google.com/github/chacha86/pythonai/blob/main/%EB%A1%9C%EC%A7%80%EC%8A%A4%ED%8B%B1%ED%9A%8C%EA%B7%80(%EB%B6%84%EB%A5%98)_%EB%AC%BC%EA%B3%A0%EA%B8%B0_%EC%96%B4%EC%A2%85_%EC%98%88%EC%B8%A1.ipynb\" target=\"_parent\"><img src=\"https://colab.research.google.com/assets/colab-badge.svg\" alt=\"Open In Colab\"/></a>"
      ]
    },
    {
      "cell_type": "code",
      "execution_count": 4,
      "metadata": {
        "colab": {
          "base_uri": "https://localhost:8080/"
        },
        "id": "gGJD1prm8lzn",
        "outputId": "711f8a02-a93a-47a8-ae8b-1ee18d90d4db"
      },
      "outputs": [
        {
          "output_type": "execute_result",
          "data": {
            "text/plain": [
              "(0.5555555555555556, 0.6428571428571429)"
            ]
          },
          "metadata": {},
          "execution_count": 4
        }
      ],
      "source": [
        "import pandas as pd\n",
        "import numpy as np\n",
        "import matplotlib.pyplot as plt\n",
        "import seaborn as sns\n",
        "\n",
        "fish = pd.read_csv('/content/Fish.csv')\n",
        "     \n",
        "\n",
        "## 1 case => Bream, Smelt (선형)\n",
        "## 2 case => Perch, Bream (비선형) -> 다항회귀, 결정 트리\n",
        "\n",
        "## 길이와 무게 특성만 고려\n",
        "\n",
        "bream_smelt = fish[(fish['Species'] == 'Perch') | (fish['Species'] == 'Bream')]\n",
        "\n",
        "bream_smelt_train = bream_smelt[['Length1', 'Weight']]\n",
        "bream_smelt_target = bream_smelt['Species']\n",
        "\n",
        "## 학습데이터와 테스트 데이터 0.7, 0.3 비율로 만들어주세요.\n",
        "from sklearn.model_selection import train_test_split\n",
        "from sklearn.preprocessing import StandardScaler\n",
        "\n",
        "trd, tsd, trt, tst = train_test_split(bream_smelt_train, bream_smelt_target, train_size=0.7, random_state=42)\n",
        "\n",
        "ss = StandardScaler()\n",
        "\n",
        "scaled_trd = ss.fit_transform(trd)\n",
        "scaled_tsd = ss.transform(tsd)\n",
        "\n",
        "from sklearn.linear_model import LogisticRegression\n",
        "\n",
        "lr = LogisticRegression()\n",
        "lr.fit(scaled_trd, trt)\n",
        "lr.score(scaled_trd, trt), lr.score(scaled_tsd, tst)\n"
      ]
    },
    {
      "cell_type": "code",
      "source": [
        "# 시그모이드 함수 -> 입력값을 0 ~ 1 사이 값으로 환산. (확률로 사용하기 위함)\n",
        "def sigmoid(x):\n",
        "    return 1 / (1 + np.exp(-x))\n",
        "\n",
        "# -10부터 10까지 균일한 간격으로 100개 숫자 만들기    \n",
        "x = np.linspace(-10, 10, 100)\n",
        "\n",
        "# 시그모이드 함수 시각화\n",
        "sns.lineplot(x=x, y=sigmoid(x))"
      ],
      "metadata": {
        "colab": {
          "base_uri": "https://localhost:8080/",
          "height": 447
        },
        "id": "ntytK5jr_Zoi",
        "outputId": "9ed77b9a-aad8-480e-db65-a352df74219d"
      },
      "execution_count": 5,
      "outputs": [
        {
          "output_type": "execute_result",
          "data": {
            "text/plain": [
              "<Axes: >"
            ]
          },
          "metadata": {},
          "execution_count": 5
        },
        {
          "output_type": "display_data",
          "data": {
            "text/plain": [
              "<Figure size 640x480 with 1 Axes>"
            ],
            "image/png": "[encoded data removed]"
          },
          "metadata": {}
        }
      ]
    },
    {
      "cell_type": "code",
      "source": [
        "lr.coef_, lr.intercept_"
      ],
      "metadata": {
        "colab": {
          "base_uri": "https://localhost:8080/"
        },
        "id": "CmdzeBj7G3jg",
        "outputId": "a82accd1-f1d1-4620-af63-be3c836a1332"
      },
      "execution_count": 6,
      "outputs": [
        {
          "output_type": "execute_result",
          "data": {
            "text/plain": [
              "(array([[ 0.16723754, -0.75224469]]), array([0.59677888]))"
            ]
          },
          "metadata": {},
          "execution_count": 6
        }
      ]
    },
    {
      "cell_type": "code",
      "source": [
        "# 로지스틱 회귀의 가중치와 편향\n",
        "\n",
        "\n",
        "# 결정함수\n",
        "def decision_func(x, y) :\n",
        "  return  -1.78004648 * x -1.31525904 * y - 1.8820759\n",
        "\n",
        "\n",
        "# 길이가 0.31006874인 물고기의 결정값 \n",
        "z = decision_func(0.31006874, 0.24553694)\n",
        "\n",
        "# 물고기가 양성일 확률\n",
        "sigmoid(z) # 13%\n",
        "\n",
        "# 양성 클래스(내가 관심있는 클래스), 음성 클래스(양성이 아닌 클래스)\n",
        "# 두개 중 하나 분류 -> 이진 분류\n"
      ],
      "metadata": {
        "colab": {
          "base_uri": "https://localhost:8080/"
        },
        "id": "M8huzSWqAkGL",
        "outputId": "c75327a1-9b9f-4aa1-9ef3-3ff6c6762621"
      },
      "execution_count": 7,
      "outputs": [
        {
          "output_type": "execute_result",
          "data": {
            "text/plain": [
              "0.059694925723434274"
            ]
          },
          "metadata": {},
          "execution_count": 7
        }
      ]
    },
    {
      "cell_type": "code",
      "source": [
        "# 로지스틱 회귀 모델의 결정 함수\n",
        "lr.decision_function([[ 0.31006874,  0.24553694]])\n",
        "\n",
        "print(sigmoid(2.75695735)) # 0.05\n",
        "print(lr.classes_) # 클래스 종류\n",
        "\n",
        "lr.predict_proba([[ 0.31006874,  0.24553694]]) # 예측 확률\n",
        "\n"
      ],
      "metadata": {
        "id": "LalRjJaWD2HZ",
        "colab": {
          "base_uri": "https://localhost:8080/"
        },
        "outputId": "6f9d01d8-e20b-4007-e733-79db25c08097"
      },
      "execution_count": 8,
      "outputs": [
        {
          "output_type": "stream",
          "name": "stdout",
          "text": [
            "0.9403050743223704\n",
            "['Bream' 'Perch']\n"
          ]
        },
        {
          "output_type": "execute_result",
          "data": {
            "text/plain": [
              "array([[0.3860539, 0.6139461]])"
            ]
          },
          "metadata": {},
          "execution_count": 8
        }
      ]
    },
    {
      "cell_type": "code",
      "source": [
        "## 스케일링된 데이터에서 어종별 데이터 뽑아내기\n",
        "\n",
        "scaled_trd_df = pd.DataFrame(scaled_trd, columns=trd.columns)\n",
        "scaled_tsd_df = pd.DataFrame(scaled_tsd, columns=tsd.columns)\n",
        "\n",
        "scaled_train = pd.concat([scaled_trd_df, scaled_tsd_df]).reset_index(drop=True)\n",
        "\n",
        "#scaled_train\n",
        "target = pd.concat([trt,tst]).reset_index(drop=True)\n",
        "\n",
        "bream_idx = target == 'Perch'\n",
        "smelt_idx = target == 'Bream'\n",
        "\n",
        "bream_data = scaled_train[bream_idx]\n",
        "smelt_data = scaled_train[smelt_idx]\n",
        "\n"
      ],
      "metadata": {
        "id": "vK_ID1l2MMv9"
      },
      "execution_count": 9,
      "outputs": []
    },
    {
      "cell_type": "code",
      "source": [
        "# Bream, Smelt 두 어종을 표준화된 데이터로 산점도로 그리고, 모델이 찾은 선을 그어보세요\n",
        "sns.scatterplot(data= bream_data, x='Length1', y='Weight')\n",
        "sns.scatterplot(data= smelt_data, x='Length1', y='Weight')\n",
        "\n",
        "# 결정 경계 회귀식\n",
        "# y = -w1 * x - b / w2\n",
        "\n",
        "# Bream과 Smelt의 관계\n",
        "## -1.78004648 * x -1.31525904 * y - 1.8820759\n",
        "\n",
        "# Perch와 Bream의 관계\n",
        "#  0.16723754 * x,-0.75224469 * y,  0.59677888\n",
        "\n",
        "\n",
        "x = np.linspace(-2, 2, 100)\n",
        "\n",
        "## Bream과 Smelt 회귀식\n",
        "def my_fun1(x) :\n",
        "  return (1.78004648 * x + 1.8820759) / -1.31525904\n",
        "\n",
        "## Perch와 Bream 회귀식\n",
        "def my_fun2(x) :\n",
        "  return (-0.16723754 * x - 0.59677888) / -0.75224469\n",
        "\n",
        "# 결정 경계\n",
        "# sns.lineplot(x=x, y=my_fun1(x)) # Bream과 Smelt 사이의 결정 경계\n",
        "sns.lineplot(x=x, y=my_fun2(x)) # Perch와 Bream 사이의 결정 경계\n"
      ],
      "metadata": {
        "id": "cG9JVQh8Jd6p",
        "colab": {
          "base_uri": "https://localhost:8080/",
          "height": 468
        },
        "outputId": "41bfe079-5b6c-4b6b-ba91-425f939b13a0"
      },
      "execution_count": 10,
      "outputs": [
        {
          "output_type": "execute_result",
          "data": {
            "text/plain": [
              "<Axes: xlabel='Length1', ylabel='Weight'>"
            ]
          },
          "metadata": {},
          "execution_count": 10
        },
        {
          "output_type": "display_data",
          "data": {
            "text/plain": [
              "<Figure size 640x480 with 1 Axes>"
            ],
            "image/png": "[encoded data removed]"
          },
          "metadata": {}
        }
      ]
    },
    {
      "cell_type": "code",
      "source": [
        "## 회귀 모델의 평가 방법\n",
        "### r2, rmse, mae\n",
        "\n",
        "## 분류 모델의 평가 방법\n",
        "### 정확도, 재현율, 정밀도\n",
        "### 정확도 -> 전체에서 맞춘 것의 비율 ((TN + TP) / (TN + TP + FN + FP)) -> 학습을 할 때, 데이터가 편향되어 있으면 학습이 제대로 X\n",
        "### 학습데이터 100개 중 음성 클래스 99개, 양성 클래스 1개 -> 오로지 음성이라고만 예측 해도 99%\n",
        "### 재현율 -> 진짜 맞는 것(양성)중에서 맞춘 비율 ( TP / TP + FN )\n",
        "### 정밀도 -> 내가 맞다고 한 것(양성 예측)중에 진짜 양성의 비율 ( TP / TP + FP )\n",
        "\n",
        "### 시험문제 100개. 내가 아는 문제 50개만 풀다. -> 다 맞는다.(정밀도 100%)\n",
        "### 100개 중 50개만 풀었으니까 나머지 50개는 틀린거 -> \n",
        "\n",
        "### 재현율 정밀도 같이 보는 법 -> F1-스코어\n",
        "\n",
        "\n",
        "\n"
      ],
      "metadata": {
        "id": "-yuYMAlcQGvU"
      },
      "execution_count": 11,
      "outputs": []
    },
    {
      "cell_type": "code",
      "source": [
        "from sklearn.metrics import accuracy_score, precision_score, recall_score, confusion_matrix\n",
        "\n",
        "pred = lr.predict(scaled_trd)\n",
        "\n",
        "# 오차행렬\n",
        "cmat = confusion_matrix(trt, pred)\n",
        "\n",
        "TN = cmat[0, 0]\n",
        "FP = cmat[0, 1]\n",
        "FN = cmat[1, 0]\n",
        "TP = cmat[1, 1]\n",
        "\n",
        "## 정확도, 정밀도, 재현율 구하기\n",
        "## 직접 구하기\n",
        "accuracy = (TP + TN) / (TP + TN + FP + FN)\n",
        "precision = TP / (TP + FP)\n",
        "recall = TP / (TP + FN)\n",
        "print(accuracy, precision, recall)\n",
        "\n",
        "\n",
        "## 사이킷런 함수를 이용해 구하기\n",
        "print(accuracy_score(trt, pred))\n",
        "print(precision_score(trt.values, pred, pos_label='Perch'))\n",
        "print(recall_score(trt.values, pred, pos_label='Perch'))\n"
      ],
      "metadata": {
        "id": "wIGiCXYKbNOH",
        "colab": {
          "base_uri": "https://localhost:8080/"
        },
        "outputId": "1eea0cc0-b7f9-4a3b-fe07-264081d3931c"
      },
      "execution_count": 17,
      "outputs": [
        {
          "output_type": "stream",
          "name": "stdout",
          "text": [
            "0.5555555555555556 0.62 0.775\n",
            "0.5555555555555556\n",
            "0.62\n",
            "0.775\n"
          ]
        }
      ]
    },
    {
      "cell_type": "code",
      "source": [
        "\n"
      ],
      "metadata": {
        "id": "kDw3tl9PeO85"
      },
      "execution_count": null,
      "outputs": []
    }
  ]
}