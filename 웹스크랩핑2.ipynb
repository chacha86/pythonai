{
  "nbformat": 4,
  "nbformat_minor": 0,
  "metadata": {
    "colab": {
      "provenance": [],
      "authorship_tag": "ABX9TyMye+lxuaj4vjKGdMBjQbe3",
      "include_colab_link": true
    },
    "kernelspec": {
      "name": "python3",
      "display_name": "Python 3"
    },
    "language_info": {
      "name": "python"
    }
  },
  "cells": [
    {
      "cell_type": "markdown",
      "metadata": {
        "id": "view-in-github",
        "colab_type": "text"
      },
      "source": [
        "<a href=\"https://colab.research.google.com/github/chacha86/pythonai/blob/main/%EC%9B%B9%EC%8A%A4%ED%81%AC%EB%9E%A9%ED%95%912.ipynb\" target=\"_parent\"><img src=\"https://colab.research.google.com/assets/colab-badge.svg\" alt=\"Open In Colab\"/></a>"
      ]
    },
    {
      "cell_type": "code",
      "execution_count": null,
      "metadata": {
        "id": "UdMBtdZVsX_c"
      },
      "outputs": [],
      "source": [
        "import requests\n",
        "\n",
        "## 브라우저인 척 하기위해 헤더 정보에 브라우저 정보 포함\n",
        "headers = {\n",
        "    'User-Agent' : 'Mozilla/5.0 (Windows NT 10.0; Win64; x64) AppleWebKit/537.36 (KHTML, like Gecko) Chrome/102.0.0.0 Safari/537.36'\n",
        "}\n",
        "\n",
        "## 해당 url로 요청 보내서 html 문서 받아오기\n",
        "r = requests.get('https://news.naver.com/main/ranking/popularDay.naver', headers=headers)\n",
        "    \n",
        "## html 문서 가져오기\n",
        "html_doc = r.text\n",
        "\n",
        "## BeautifulSoup 객체에 넘겨 파싱하기(정보를 태그 단위로 쪼개기)\n",
        "from bs4 import BeautifulSoup\n",
        "soup = BeautifulSoup(html_doc, 'html.parser')\n",
        "\n",
        "\n",
        "## css 선택자를 사용하기 위한 함수 =>\n",
        "### 1. select()  => 결과가 list\n",
        "### 2. select_one() => 결과가 1개\n",
        "\n",
        "## 텍스트와 속성값 얻기\n",
        "### 1. 태그.text\n",
        "### 2. 태그[key]\n",
        "###    - key = value\n",
        "\n",
        "# 1. 언론사 이름과 링크\n",
        "boxes = soup.select('.rankingnews_box')\n",
        "\n",
        "journal_list = []\n",
        "\n",
        "for box in boxes :\n",
        "\n",
        "  atag = box.select_one('.rankingnews_box_head')\n",
        "  strong = box.select_one('.rankingnews_name')\n",
        "\n",
        "  name = strong.text\n",
        "  link = atag['href']\n",
        "\n",
        "  journal = {\n",
        "      'name' : name,\n",
        "      'link' : link\n",
        "  }\n",
        "\n",
        "  journal_list.append(journal)\n",
        "\n",
        "target = None\n",
        "for journal in journal_list :\n",
        "  if journal['name'] == 'YTN' :\n",
        "    target = journal\n",
        "    break\n",
        "\n",
        "\n",
        "\n",
        "\n",
        "\n"
      ]
    },
    {
      "cell_type": "code",
      "source": [
        "r2 = requests.get(target['link'], headers=headers)\n",
        "\n",
        "html_doc2 = r2.text\n",
        "\n",
        "## BeautifulSoup 객체에 넘겨 파싱하기(정보를 태그 단위로 쪼개기)\n",
        "from bs4 import BeautifulSoup\n",
        "soup2 = BeautifulSoup(html_doc2, 'html.parser')\n",
        "\n",
        "boxes = soup2.select('.press_ranking_box')\n",
        "\n",
        "\n",
        "## 함수로 쪼개라.\n",
        "\n",
        "ranking_news_list = []\n",
        "\n",
        "for box in boxes :\n",
        "  news_list_group = box.select('.as_thumb')\n",
        "  news_list = []\n",
        "\n",
        "  for news in news_list_group :\n",
        "    atag = news.select_one('a')\n",
        "    link = atag['href']\n",
        "    title = atag.select_one('.list_title').text\n",
        "    print(link, title)\n",
        "    news = {\n",
        "        'title' : title,\n",
        "        'link' : link\n",
        "    }\n",
        "    news_list.append(news)\n",
        "\n",
        "  ranking_news_list.extend(news_list)\n",
        "\n",
        "\n",
        "ranking_news_list"
      ],
      "metadata": {
        "id": "WNcrnrDmBoVn"
      },
      "execution_count": null,
      "outputs": []
    },
    {
      "cell_type": "code",
      "source": [
        "\n"
      ],
      "metadata": {
        "id": "Yqld-UzwDGC0"
      },
      "execution_count": null,
      "outputs": []
    }
  ]
}