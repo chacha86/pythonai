{
  "nbformat": 4,
  "nbformat_minor": 0,
  "metadata": {
    "colab": {
      "provenance": [],
      "authorship_tag": "ABX9TyNHvbidAQ28aUYrZBIp/XTy",
      "include_colab_link": true
    },
    "kernelspec": {
      "name": "python3",
      "display_name": "Python 3"
    },
    "language_info": {
      "name": "python"
    }
  },
  "cells": [
    {
      "cell_type": "markdown",
      "metadata": {
        "id": "view-in-github",
        "colab_type": "text"
      },
      "source": [
        "<a href=\"https://colab.research.google.com/github/chacha86/pythonai/blob/main/%EB%A1%9C%EC%A7%80%EC%8A%A4%ED%8B%B1%ED%9A%8C%EA%B7%80(%EB%B6%84%EB%A5%98)_%EB%AC%BC%EA%B3%A0%EA%B8%B0_%EC%96%B4%EC%A2%85_%EC%98%88%EC%B8%A1.ipynb\" target=\"_parent\"><img src=\"https://colab.research.google.com/assets/colab-badge.svg\" alt=\"Open In Colab\"/></a>"
      ]
    },
    {
      "cell_type": "code",
      "execution_count": null,
      "metadata": {
        "id": "CEGOv4N4r84a"
      },
      "outputs": [],
      "source": [
        "import pandas as pd\n",
        "import numpy as np\n",
        "import matplotlib.pyplot as plt\n",
        "import seaborn as sns\n",
        "\n",
        "fish = pd.read_csv('/content/Fish.csv')"
      ]
    },
    {
      "cell_type": "code",
      "source": [
        "## Bream, Smelt\n",
        "## 길이와 무게 특성만 고려\n",
        "\n",
        "bream_smelt = fish[(fish['Species'] == 'Bream') | (fish['Species'] == 'Smelt')]\n",
        "\n",
        "bream_smelt_train = bream_smelt[['Length1', 'Weight']]\n",
        "bream_smelt_target = bream_smelt['Species']\n",
        "\n",
        "## 학습데이터와 테스트 데이터 0.7, 0.3 비율로 만들어주세요.\n",
        "from sklearn.model_selection import train_test_split\n",
        "from sklearn.preprocessing import StandardScaler\n",
        "\n",
        "trd, tsd, trt, tst = train_test_split(bream_smelt_train, bream_smelt_target, train_size=0.7, random_state=42)\n",
        "\n",
        "ss = StandardScaler()\n",
        "\n",
        "scaled_trd = ss.fit_transform(trd)\n",
        "scaled_tsd = ss.transform(tsd)\n",
        "\n",
        "from sklearn.linear_model import LogisticRegression\n",
        "\n",
        "lr = LogisticRegression()\n",
        "lr.fit(scaled_trd, trt)\n",
        "lr.score(scaled_trd, trt), lr.score(scaled_tsd, tst)\n"
      ],
      "metadata": {
        "colab": {
          "base_uri": "https://localhost:8080/"
        },
        "id": "IMZ1nsyqsW9X",
        "outputId": "2a9be17e-89db-4f90-b443-9e0c8e60dbc4"
      },
      "execution_count": null,
      "outputs": [
        {
          "output_type": "execute_result",
          "data": {
            "text/plain": [
              "(1.0, 1.0)"
            ]
          },
          "metadata": {},
          "execution_count": 10
        }
      ]
    }
  ]
}